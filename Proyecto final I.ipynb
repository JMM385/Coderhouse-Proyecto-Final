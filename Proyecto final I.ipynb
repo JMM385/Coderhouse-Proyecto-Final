{
 "cells": [
  {
   "cell_type": "markdown",
   "id": "af9f16e4",
   "metadata": {},
   "source": [
    "# EDA y limpieza de datos\n",
    "### En este notebook se comenzará la Etapa Exploratoria de Datos, mientras a la vez se encontrarán y ajustarán outliers y valores nulos."
   ]
  },
  {
   "cell_type": "code",
   "execution_count": 39,
   "id": "d28c69b1",
   "metadata": {},
   "outputs": [],
   "source": [
    "# importación de librerías \n",
    "import pandas as pd\n",
    "import numpy as np\n",
    "import matplotlib.pyplot as plt \n",
    "import seaborn as sns"
   ]
  },
  {
   "cell_type": "code",
   "execution_count": 40,
   "id": "5af18e7c",
   "metadata": {},
   "outputs": [],
   "source": [
    "# Se define función para hacer un preview del dataframe y obtener la forma del mismo\n",
    "def df_preview(df, n):\n",
    "    a = display(pd.concat([df.head(n), df.tail(n)]))\n",
    "    b = 'El dataframe contiene '+ str(df.shape[0]) + ' filas y ' + str(df.shape[1]) + ' columnas'\n",
    "    return b"
   ]
  },
  {
   "cell_type": "code",
   "execution_count": 41,
   "id": "2d296cba",
   "metadata": {},
   "outputs": [
    {
     "data": {
      "text/html": [
       "<div>\n",
       "<style scoped>\n",
       "    .dataframe tbody tr th:only-of-type {\n",
       "        vertical-align: middle;\n",
       "    }\n",
       "\n",
       "    .dataframe tbody tr th {\n",
       "        vertical-align: top;\n",
       "    }\n",
       "\n",
       "    .dataframe thead th {\n",
       "        text-align: right;\n",
       "    }\n",
       "</style>\n",
       "<table border=\"1\" class=\"dataframe\">\n",
       "  <thead>\n",
       "    <tr style=\"text-align: right;\">\n",
       "      <th></th>\n",
       "      <th>Unnamed: 0</th>\n",
       "      <th>state_code</th>\n",
       "      <th>latitude</th>\n",
       "      <th>longitude</th>\n",
       "      <th>zip_code</th>\n",
       "      <th>id</th>\n",
       "      <th>city</th>\n",
       "      <th>Unnamed: 6</th>\n",
       "      <th>name</th>\n",
       "      <th>labels</th>\n",
       "      <th>...</th>\n",
       "      <th>object_id</th>\n",
       "      <th>has_VC</th>\n",
       "      <th>has_angel</th>\n",
       "      <th>has_roundA</th>\n",
       "      <th>has_roundB</th>\n",
       "      <th>has_roundC</th>\n",
       "      <th>has_roundD</th>\n",
       "      <th>avg_participants</th>\n",
       "      <th>is_top500</th>\n",
       "      <th>status</th>\n",
       "    </tr>\n",
       "  </thead>\n",
       "  <tbody>\n",
       "    <tr>\n",
       "      <th>0</th>\n",
       "      <td>1005</td>\n",
       "      <td>CA</td>\n",
       "      <td>42.358880</td>\n",
       "      <td>-71.056820</td>\n",
       "      <td>92101</td>\n",
       "      <td>c:6669</td>\n",
       "      <td>San Diego</td>\n",
       "      <td>NaN</td>\n",
       "      <td>Bandsintown</td>\n",
       "      <td>1</td>\n",
       "      <td>...</td>\n",
       "      <td>c:6669</td>\n",
       "      <td>0</td>\n",
       "      <td>1</td>\n",
       "      <td>0</td>\n",
       "      <td>0</td>\n",
       "      <td>0</td>\n",
       "      <td>0</td>\n",
       "      <td>1.0000</td>\n",
       "      <td>0</td>\n",
       "      <td>acquired</td>\n",
       "    </tr>\n",
       "    <tr>\n",
       "      <th>1</th>\n",
       "      <td>204</td>\n",
       "      <td>CA</td>\n",
       "      <td>37.238916</td>\n",
       "      <td>-121.973718</td>\n",
       "      <td>95032</td>\n",
       "      <td>c:16283</td>\n",
       "      <td>Los Gatos</td>\n",
       "      <td>NaN</td>\n",
       "      <td>TriCipher</td>\n",
       "      <td>1</td>\n",
       "      <td>...</td>\n",
       "      <td>c:16283</td>\n",
       "      <td>1</td>\n",
       "      <td>0</td>\n",
       "      <td>0</td>\n",
       "      <td>1</td>\n",
       "      <td>1</td>\n",
       "      <td>1</td>\n",
       "      <td>4.7500</td>\n",
       "      <td>1</td>\n",
       "      <td>acquired</td>\n",
       "    </tr>\n",
       "    <tr>\n",
       "      <th>2</th>\n",
       "      <td>1001</td>\n",
       "      <td>CA</td>\n",
       "      <td>32.901049</td>\n",
       "      <td>-117.192656</td>\n",
       "      <td>92121</td>\n",
       "      <td>c:65620</td>\n",
       "      <td>San Diego</td>\n",
       "      <td>San Diego CA 92121</td>\n",
       "      <td>Plixi</td>\n",
       "      <td>1</td>\n",
       "      <td>...</td>\n",
       "      <td>c:65620</td>\n",
       "      <td>0</td>\n",
       "      <td>0</td>\n",
       "      <td>1</td>\n",
       "      <td>0</td>\n",
       "      <td>0</td>\n",
       "      <td>0</td>\n",
       "      <td>4.0000</td>\n",
       "      <td>1</td>\n",
       "      <td>acquired</td>\n",
       "    </tr>\n",
       "    <tr>\n",
       "      <th>3</th>\n",
       "      <td>738</td>\n",
       "      <td>CA</td>\n",
       "      <td>37.320309</td>\n",
       "      <td>-122.050040</td>\n",
       "      <td>95014</td>\n",
       "      <td>c:42668</td>\n",
       "      <td>Cupertino</td>\n",
       "      <td>Cupertino CA 95014</td>\n",
       "      <td>Solidcore Systems</td>\n",
       "      <td>1</td>\n",
       "      <td>...</td>\n",
       "      <td>c:42668</td>\n",
       "      <td>0</td>\n",
       "      <td>0</td>\n",
       "      <td>0</td>\n",
       "      <td>1</td>\n",
       "      <td>1</td>\n",
       "      <td>1</td>\n",
       "      <td>3.3333</td>\n",
       "      <td>1</td>\n",
       "      <td>acquired</td>\n",
       "    </tr>\n",
       "    <tr>\n",
       "      <th>4</th>\n",
       "      <td>1002</td>\n",
       "      <td>CA</td>\n",
       "      <td>37.779281</td>\n",
       "      <td>-122.419236</td>\n",
       "      <td>94105</td>\n",
       "      <td>c:65806</td>\n",
       "      <td>San Francisco</td>\n",
       "      <td>San Francisco CA 94105</td>\n",
       "      <td>Inhale Digital</td>\n",
       "      <td>0</td>\n",
       "      <td>...</td>\n",
       "      <td>c:65806</td>\n",
       "      <td>1</td>\n",
       "      <td>1</td>\n",
       "      <td>0</td>\n",
       "      <td>0</td>\n",
       "      <td>0</td>\n",
       "      <td>0</td>\n",
       "      <td>1.0000</td>\n",
       "      <td>1</td>\n",
       "      <td>closed</td>\n",
       "    </tr>\n",
       "    <tr>\n",
       "      <th>...</th>\n",
       "      <td>...</td>\n",
       "      <td>...</td>\n",
       "      <td>...</td>\n",
       "      <td>...</td>\n",
       "      <td>...</td>\n",
       "      <td>...</td>\n",
       "      <td>...</td>\n",
       "      <td>...</td>\n",
       "      <td>...</td>\n",
       "      <td>...</td>\n",
       "      <td>...</td>\n",
       "      <td>...</td>\n",
       "      <td>...</td>\n",
       "      <td>...</td>\n",
       "      <td>...</td>\n",
       "      <td>...</td>\n",
       "      <td>...</td>\n",
       "      <td>...</td>\n",
       "      <td>...</td>\n",
       "      <td>...</td>\n",
       "      <td>...</td>\n",
       "    </tr>\n",
       "    <tr>\n",
       "      <th>918</th>\n",
       "      <td>352</td>\n",
       "      <td>CA</td>\n",
       "      <td>37.740594</td>\n",
       "      <td>-122.376471</td>\n",
       "      <td>94107</td>\n",
       "      <td>c:21343</td>\n",
       "      <td>San Francisco</td>\n",
       "      <td>NaN</td>\n",
       "      <td>CoTweet</td>\n",
       "      <td>1</td>\n",
       "      <td>...</td>\n",
       "      <td>c:21343</td>\n",
       "      <td>0</td>\n",
       "      <td>0</td>\n",
       "      <td>1</td>\n",
       "      <td>0</td>\n",
       "      <td>0</td>\n",
       "      <td>0</td>\n",
       "      <td>6.0000</td>\n",
       "      <td>1</td>\n",
       "      <td>acquired</td>\n",
       "    </tr>\n",
       "    <tr>\n",
       "      <th>919</th>\n",
       "      <td>721</td>\n",
       "      <td>MA</td>\n",
       "      <td>42.504817</td>\n",
       "      <td>-71.195611</td>\n",
       "      <td>1803</td>\n",
       "      <td>c:41747</td>\n",
       "      <td>Burlington</td>\n",
       "      <td>Burlington MA 1803</td>\n",
       "      <td>Reef Point Systems</td>\n",
       "      <td>0</td>\n",
       "      <td>...</td>\n",
       "      <td>c:41747</td>\n",
       "      <td>1</td>\n",
       "      <td>0</td>\n",
       "      <td>0</td>\n",
       "      <td>1</td>\n",
       "      <td>0</td>\n",
       "      <td>0</td>\n",
       "      <td>2.6667</td>\n",
       "      <td>1</td>\n",
       "      <td>closed</td>\n",
       "    </tr>\n",
       "    <tr>\n",
       "      <th>920</th>\n",
       "      <td>557</td>\n",
       "      <td>CA</td>\n",
       "      <td>37.408261</td>\n",
       "      <td>-122.015920</td>\n",
       "      <td>94089</td>\n",
       "      <td>c:31549</td>\n",
       "      <td>Sunnyvale</td>\n",
       "      <td>NaN</td>\n",
       "      <td>Paracor Medical</td>\n",
       "      <td>0</td>\n",
       "      <td>...</td>\n",
       "      <td>c:31549</td>\n",
       "      <td>0</td>\n",
       "      <td>0</td>\n",
       "      <td>0</td>\n",
       "      <td>0</td>\n",
       "      <td>0</td>\n",
       "      <td>1</td>\n",
       "      <td>8.0000</td>\n",
       "      <td>1</td>\n",
       "      <td>closed</td>\n",
       "    </tr>\n",
       "    <tr>\n",
       "      <th>921</th>\n",
       "      <td>589</td>\n",
       "      <td>CA</td>\n",
       "      <td>37.556732</td>\n",
       "      <td>-122.288378</td>\n",
       "      <td>94404</td>\n",
       "      <td>c:33198</td>\n",
       "      <td>San Francisco</td>\n",
       "      <td>NaN</td>\n",
       "      <td>Causata</td>\n",
       "      <td>1</td>\n",
       "      <td>...</td>\n",
       "      <td>c:33198</td>\n",
       "      <td>0</td>\n",
       "      <td>0</td>\n",
       "      <td>1</td>\n",
       "      <td>1</td>\n",
       "      <td>0</td>\n",
       "      <td>0</td>\n",
       "      <td>1.0000</td>\n",
       "      <td>1</td>\n",
       "      <td>acquired</td>\n",
       "    </tr>\n",
       "    <tr>\n",
       "      <th>922</th>\n",
       "      <td>462</td>\n",
       "      <td>CA</td>\n",
       "      <td>37.386778</td>\n",
       "      <td>-121.966277</td>\n",
       "      <td>95054</td>\n",
       "      <td>c:26702</td>\n",
       "      <td>Santa Clara</td>\n",
       "      <td>Santa Clara CA 95054</td>\n",
       "      <td>Asempra Technologies</td>\n",
       "      <td>1</td>\n",
       "      <td>...</td>\n",
       "      <td>c:26702</td>\n",
       "      <td>0</td>\n",
       "      <td>0</td>\n",
       "      <td>0</td>\n",
       "      <td>1</td>\n",
       "      <td>0</td>\n",
       "      <td>0</td>\n",
       "      <td>3.0000</td>\n",
       "      <td>1</td>\n",
       "      <td>acquired</td>\n",
       "    </tr>\n",
       "  </tbody>\n",
       "</table>\n",
       "<p>923 rows × 49 columns</p>\n",
       "</div>"
      ],
      "text/plain": [
       "     Unnamed: 0 state_code   latitude   longitude zip_code       id  \\\n",
       "0          1005         CA  42.358880  -71.056820    92101   c:6669   \n",
       "1           204         CA  37.238916 -121.973718    95032  c:16283   \n",
       "2          1001         CA  32.901049 -117.192656    92121  c:65620   \n",
       "3           738         CA  37.320309 -122.050040    95014  c:42668   \n",
       "4          1002         CA  37.779281 -122.419236    94105  c:65806   \n",
       "..          ...        ...        ...         ...      ...      ...   \n",
       "918         352         CA  37.740594 -122.376471    94107  c:21343   \n",
       "919         721         MA  42.504817  -71.195611     1803  c:41747   \n",
       "920         557         CA  37.408261 -122.015920    94089  c:31549   \n",
       "921         589         CA  37.556732 -122.288378    94404  c:33198   \n",
       "922         462         CA  37.386778 -121.966277    95054  c:26702   \n",
       "\n",
       "              city              Unnamed: 6                  name  labels  ...  \\\n",
       "0        San Diego                     NaN           Bandsintown       1  ...   \n",
       "1        Los Gatos                     NaN             TriCipher       1  ...   \n",
       "2        San Diego      San Diego CA 92121                 Plixi       1  ...   \n",
       "3        Cupertino      Cupertino CA 95014     Solidcore Systems       1  ...   \n",
       "4    San Francisco  San Francisco CA 94105        Inhale Digital       0  ...   \n",
       "..             ...                     ...                   ...     ...  ...   \n",
       "918  San Francisco                     NaN               CoTweet       1  ...   \n",
       "919     Burlington      Burlington MA 1803    Reef Point Systems       0  ...   \n",
       "920      Sunnyvale                     NaN       Paracor Medical       0  ...   \n",
       "921  San Francisco                     NaN               Causata       1  ...   \n",
       "922    Santa Clara    Santa Clara CA 95054  Asempra Technologies       1  ...   \n",
       "\n",
       "    object_id has_VC has_angel has_roundA  has_roundB  has_roundC  has_roundD  \\\n",
       "0      c:6669      0         1          0           0           0           0   \n",
       "1     c:16283      1         0          0           1           1           1   \n",
       "2     c:65620      0         0          1           0           0           0   \n",
       "3     c:42668      0         0          0           1           1           1   \n",
       "4     c:65806      1         1          0           0           0           0   \n",
       "..        ...    ...       ...        ...         ...         ...         ...   \n",
       "918   c:21343      0         0          1           0           0           0   \n",
       "919   c:41747      1         0          0           1           0           0   \n",
       "920   c:31549      0         0          0           0           0           1   \n",
       "921   c:33198      0         0          1           1           0           0   \n",
       "922   c:26702      0         0          0           1           0           0   \n",
       "\n",
       "     avg_participants  is_top500    status  \n",
       "0              1.0000          0  acquired  \n",
       "1              4.7500          1  acquired  \n",
       "2              4.0000          1  acquired  \n",
       "3              3.3333          1  acquired  \n",
       "4              1.0000          1    closed  \n",
       "..                ...        ...       ...  \n",
       "918            6.0000          1  acquired  \n",
       "919            2.6667          1    closed  \n",
       "920            8.0000          1    closed  \n",
       "921            1.0000          1  acquired  \n",
       "922            3.0000          1  acquired  \n",
       "\n",
       "[923 rows x 49 columns]"
      ]
     },
     "execution_count": 41,
     "metadata": {},
     "output_type": "execute_result"
    }
   ],
   "source": [
    "# Carga del dataset\n",
    "df_1 = pd.read_csv('startup_data.csv')\n",
    "df_1"
   ]
  },
  {
   "cell_type": "code",
   "execution_count": 42,
   "id": "4d699f12",
   "metadata": {},
   "outputs": [
    {
     "data": {
      "text/plain": [
       "['Unnamed: 0',\n",
       " 'state_code',\n",
       " 'latitude',\n",
       " 'longitude',\n",
       " 'zip_code',\n",
       " 'id',\n",
       " 'city',\n",
       " 'Unnamed: 6',\n",
       " 'name',\n",
       " 'labels',\n",
       " 'founded_at',\n",
       " 'closed_at',\n",
       " 'first_funding_at',\n",
       " 'last_funding_at',\n",
       " 'age_first_funding_year',\n",
       " 'age_last_funding_year',\n",
       " 'age_first_milestone_year',\n",
       " 'age_last_milestone_year',\n",
       " 'relationships',\n",
       " 'funding_rounds',\n",
       " 'funding_total_usd',\n",
       " 'milestones',\n",
       " 'state_code.1',\n",
       " 'is_CA',\n",
       " 'is_NY',\n",
       " 'is_MA',\n",
       " 'is_TX',\n",
       " 'is_otherstate',\n",
       " 'category_code',\n",
       " 'is_software',\n",
       " 'is_web',\n",
       " 'is_mobile',\n",
       " 'is_enterprise',\n",
       " 'is_advertising',\n",
       " 'is_gamesvideo',\n",
       " 'is_ecommerce',\n",
       " 'is_biotech',\n",
       " 'is_consulting',\n",
       " 'is_othercategory',\n",
       " 'object_id',\n",
       " 'has_VC',\n",
       " 'has_angel',\n",
       " 'has_roundA',\n",
       " 'has_roundB',\n",
       " 'has_roundC',\n",
       " 'has_roundD',\n",
       " 'avg_participants',\n",
       " 'is_top500',\n",
       " 'status']"
      ]
     },
     "execution_count": 42,
     "metadata": {},
     "output_type": "execute_result"
    }
   ],
   "source": [
    "#Devuelve una lista con el nombre de las 49 columnas que conforman al DataFrame\n",
    "list(df_1.columns) "
   ]
  },
  {
   "cell_type": "code",
   "execution_count": 43,
   "id": "1da59fad",
   "metadata": {},
   "outputs": [
    {
     "name": "stdout",
     "output_type": "stream",
     "text": [
      "<class 'pandas.core.frame.DataFrame'>\n",
      "RangeIndex: 923 entries, 0 to 922\n",
      "Data columns (total 49 columns):\n",
      " #   Column                    Non-Null Count  Dtype  \n",
      "---  ------                    --------------  -----  \n",
      " 0   Unnamed: 0                923 non-null    int64  \n",
      " 1   state_code                923 non-null    object \n",
      " 2   latitude                  923 non-null    float64\n",
      " 3   longitude                 923 non-null    float64\n",
      " 4   zip_code                  923 non-null    object \n",
      " 5   id                        923 non-null    object \n",
      " 6   city                      923 non-null    object \n",
      " 7   Unnamed: 6                430 non-null    object \n",
      " 8   name                      923 non-null    object \n",
      " 9   labels                    923 non-null    int64  \n",
      " 10  founded_at                923 non-null    object \n",
      " 11  closed_at                 335 non-null    object \n",
      " 12  first_funding_at          923 non-null    object \n",
      " 13  last_funding_at           923 non-null    object \n",
      " 14  age_first_funding_year    923 non-null    float64\n",
      " 15  age_last_funding_year     923 non-null    float64\n",
      " 16  age_first_milestone_year  771 non-null    float64\n",
      " 17  age_last_milestone_year   771 non-null    float64\n",
      " 18  relationships             923 non-null    int64  \n",
      " 19  funding_rounds            923 non-null    int64  \n",
      " 20  funding_total_usd         923 non-null    int64  \n",
      " 21  milestones                923 non-null    int64  \n",
      " 22  state_code.1              922 non-null    object \n",
      " 23  is_CA                     923 non-null    int64  \n",
      " 24  is_NY                     923 non-null    int64  \n",
      " 25  is_MA                     923 non-null    int64  \n",
      " 26  is_TX                     923 non-null    int64  \n",
      " 27  is_otherstate             923 non-null    int64  \n",
      " 28  category_code             923 non-null    object \n",
      " 29  is_software               923 non-null    int64  \n",
      " 30  is_web                    923 non-null    int64  \n",
      " 31  is_mobile                 923 non-null    int64  \n",
      " 32  is_enterprise             923 non-null    int64  \n",
      " 33  is_advertising            923 non-null    int64  \n",
      " 34  is_gamesvideo             923 non-null    int64  \n",
      " 35  is_ecommerce              923 non-null    int64  \n",
      " 36  is_biotech                923 non-null    int64  \n",
      " 37  is_consulting             923 non-null    int64  \n",
      " 38  is_othercategory          923 non-null    int64  \n",
      " 39  object_id                 923 non-null    object \n",
      " 40  has_VC                    923 non-null    int64  \n",
      " 41  has_angel                 923 non-null    int64  \n",
      " 42  has_roundA                923 non-null    int64  \n",
      " 43  has_roundB                923 non-null    int64  \n",
      " 44  has_roundC                923 non-null    int64  \n",
      " 45  has_roundD                923 non-null    int64  \n",
      " 46  avg_participants          923 non-null    float64\n",
      " 47  is_top500                 923 non-null    int64  \n",
      " 48  status                    923 non-null    object \n",
      "dtypes: float64(7), int64(28), object(14)\n",
      "memory usage: 353.5+ KB\n"
     ]
    }
   ],
   "source": [
    "# Devuelve información relevante sobre cada una de las columnas\n",
    "df_1.info() "
   ]
  },
  {
   "cell_type": "code",
   "execution_count": 44,
   "id": "0018ad03",
   "metadata": {},
   "outputs": [
    {
     "data": {
      "text/plain": [
       "array(['acquired', 'closed'], dtype=object)"
      ]
     },
     "execution_count": 44,
     "metadata": {},
     "output_type": "execute_result"
    }
   ],
   "source": [
    "# Verifica que la columna 'status' es del tipo binaria\n",
    "df_1['status'].unique() "
   ]
  },
  {
   "cell_type": "code",
   "execution_count": 45,
   "id": "a186673f",
   "metadata": {},
   "outputs": [
    {
     "data": {
      "text/plain": [
       "acquired    597\n",
       "closed      326\n",
       "Name: status, dtype: int64"
      ]
     },
     "execution_count": 45,
     "metadata": {},
     "output_type": "execute_result"
    }
   ],
   "source": [
    "# Verifica que exista un cierto balance en los datos\n",
    "df_1['status'].value_counts() "
   ]
  },
  {
   "cell_type": "markdown",
   "id": "7fc9e23d",
   "metadata": {},
   "source": [
    "### Identificando datos faltantes"
   ]
  },
  {
   "cell_type": "code",
   "execution_count": 46,
   "id": "e6a1dd37",
   "metadata": {},
   "outputs": [
    {
     "name": "stdout",
     "output_type": "stream",
     "text": [
      "[('closed_at', 588), ('Unnamed: 6', 493), ('age_first_milestone_year', 152), ('age_last_milestone_year', 152), ('state_code.1', 1)]\n"
     ]
    }
   ],
   "source": [
    "# Analiza la cantidad de NAs por columna y su incidencia.\n",
    "df_1.isnull().sum()\n",
    "\n",
    "# Se inicia lista para incluir las columnas que contengan NAs\n",
    "dict_1 = df_1.isnull().sum().to_dict()\n",
    "list_na = [] \n",
    "for key, value in dict_1.items():\n",
    "            if value > 0:\n",
    "                list_na.append((key, value))\n",
    "\n",
    "# Print de la lista que contiene NAs ordenados de mayor a menor\n",
    "list_na = sorted(list_na, key=lambda x: x[1], reverse=True)\n",
    "print(list_na)"
   ]
  },
  {
   "cell_type": "markdown",
   "id": "45f7e616",
   "metadata": {},
   "source": [
    "Predominan los NAs en las columnas closed_at, Unnamed: 6, age_first_milestone_year y age_last_milestone_year, mientras que en 'state_code.1' la cantidad es insignificante."
   ]
  },
  {
   "cell_type": "code",
   "execution_count": 47,
   "id": "15c4a996",
   "metadata": {},
   "outputs": [
    {
     "data": {
      "text/html": [
       "<div>\n",
       "<style scoped>\n",
       "    .dataframe tbody tr th:only-of-type {\n",
       "        vertical-align: middle;\n",
       "    }\n",
       "\n",
       "    .dataframe tbody tr th {\n",
       "        vertical-align: top;\n",
       "    }\n",
       "\n",
       "    .dataframe thead th {\n",
       "        text-align: right;\n",
       "    }\n",
       "</style>\n",
       "<table border=\"1\" class=\"dataframe\">\n",
       "  <thead>\n",
       "    <tr style=\"text-align: right;\">\n",
       "      <th></th>\n",
       "      <th>self</th>\n",
       "      <th>other</th>\n",
       "    </tr>\n",
       "  </thead>\n",
       "  <tbody>\n",
       "    <tr>\n",
       "      <th>515</th>\n",
       "      <td>CA</td>\n",
       "      <td>NaN</td>\n",
       "    </tr>\n",
       "  </tbody>\n",
       "</table>\n",
       "</div>"
      ],
      "text/plain": [
       "    self other\n",
       "515   CA   NaN"
      ]
     },
     "execution_count": 47,
     "metadata": {},
     "output_type": "execute_result"
    }
   ],
   "source": [
    "# Se chequea si state_code y state_code.1 contienen la misma información \n",
    "dup_states = df_1['state_code'].compare(df_1['state_code.1'], keep_shape = True, \n",
    "                                        keep_equal = True)\n",
    "dif_states = dup_states[dup_states['other'] != dup_states['self']]\n",
    "dif_states"
   ]
  },
  {
   "cell_type": "code",
   "execution_count": 48,
   "id": "87e52843",
   "metadata": {},
   "outputs": [
    {
     "data": {
      "text/html": [
       "<div>\n",
       "<style scoped>\n",
       "    .dataframe tbody tr th:only-of-type {\n",
       "        vertical-align: middle;\n",
       "    }\n",
       "\n",
       "    .dataframe tbody tr th {\n",
       "        vertical-align: top;\n",
       "    }\n",
       "\n",
       "    .dataframe thead th {\n",
       "        text-align: right;\n",
       "    }\n",
       "</style>\n",
       "<table border=\"1\" class=\"dataframe\">\n",
       "  <thead>\n",
       "    <tr style=\"text-align: right;\">\n",
       "      <th></th>\n",
       "      <th>self</th>\n",
       "      <th>other</th>\n",
       "    </tr>\n",
       "  </thead>\n",
       "  <tbody>\n",
       "    <tr>\n",
       "      <th>0</th>\n",
       "      <td>acquired</td>\n",
       "      <td>1</td>\n",
       "    </tr>\n",
       "    <tr>\n",
       "      <th>1</th>\n",
       "      <td>acquired</td>\n",
       "      <td>1</td>\n",
       "    </tr>\n",
       "    <tr>\n",
       "      <th>2</th>\n",
       "      <td>acquired</td>\n",
       "      <td>1</td>\n",
       "    </tr>\n",
       "    <tr>\n",
       "      <th>3</th>\n",
       "      <td>acquired</td>\n",
       "      <td>1</td>\n",
       "    </tr>\n",
       "    <tr>\n",
       "      <th>4</th>\n",
       "      <td>closed</td>\n",
       "      <td>0</td>\n",
       "    </tr>\n",
       "    <tr>\n",
       "      <th>...</th>\n",
       "      <td>...</td>\n",
       "      <td>...</td>\n",
       "    </tr>\n",
       "    <tr>\n",
       "      <th>918</th>\n",
       "      <td>acquired</td>\n",
       "      <td>1</td>\n",
       "    </tr>\n",
       "    <tr>\n",
       "      <th>919</th>\n",
       "      <td>closed</td>\n",
       "      <td>0</td>\n",
       "    </tr>\n",
       "    <tr>\n",
       "      <th>920</th>\n",
       "      <td>closed</td>\n",
       "      <td>0</td>\n",
       "    </tr>\n",
       "    <tr>\n",
       "      <th>921</th>\n",
       "      <td>acquired</td>\n",
       "      <td>1</td>\n",
       "    </tr>\n",
       "    <tr>\n",
       "      <th>922</th>\n",
       "      <td>acquired</td>\n",
       "      <td>1</td>\n",
       "    </tr>\n",
       "  </tbody>\n",
       "</table>\n",
       "<p>923 rows × 2 columns</p>\n",
       "</div>"
      ],
      "text/plain": [
       "         self  other\n",
       "0    acquired      1\n",
       "1    acquired      1\n",
       "2    acquired      1\n",
       "3    acquired      1\n",
       "4      closed      0\n",
       "..        ...    ...\n",
       "918  acquired      1\n",
       "919    closed      0\n",
       "920    closed      0\n",
       "921  acquired      1\n",
       "922  acquired      1\n",
       "\n",
       "[923 rows x 2 columns]"
      ]
     },
     "execution_count": 48,
     "metadata": {},
     "output_type": "execute_result"
    }
   ],
   "source": [
    "# Se chequea si status y label son iguales\n",
    "dup_label = df_1['status'].compare(df_1['labels'], keep_shape = True, \n",
    "                                        keep_equal = True)\n",
    "dif_label = dup_label[dup_label['other'] != dup_label['self']]\n",
    "dif_label"
   ]
  },
  {
   "cell_type": "markdown",
   "id": "65cbad0f",
   "metadata": {},
   "source": [
    "Hay una sola celda distinta entre state_code y state_code.1"
   ]
  },
  {
   "cell_type": "markdown",
   "id": "60aeef0d",
   "metadata": {},
   "source": [
    "# Borrado de columnas:\n",
    "A continuación se borrarán las columnas:\n",
    "- *Unnamed: 0* por tener datos que no parecen tener sentido ni utilidad.\n",
    "- *state_code.1* por ser una columna duplicada de state_code.\n",
    "- *zip_code y Unnamed: 6* por tener información sobre la locación de la empresa que es poco relevante para el análisis. \n",
    "- *object_id y id* porque son columnas duplicadas con información no útil.\n",
    "- *labels* por contener la misma información que status pero presentada de una manera distinta."
   ]
  },
  {
   "cell_type": "code",
   "execution_count": 49,
   "id": "8a8604b8",
   "metadata": {},
   "outputs": [
    {
     "data": {
      "text/plain": [
       "Index(['state_code', 'latitude', 'longitude', 'city', 'name', 'founded_at',\n",
       "       'closed_at', 'first_funding_at', 'last_funding_at',\n",
       "       'age_first_funding_year', 'age_last_funding_year',\n",
       "       'age_first_milestone_year', 'age_last_milestone_year', 'relationships',\n",
       "       'funding_rounds', 'funding_total_usd', 'milestones', 'is_CA', 'is_NY',\n",
       "       'is_MA', 'is_TX', 'is_otherstate', 'category_code', 'is_software',\n",
       "       'is_web', 'is_mobile', 'is_enterprise', 'is_advertising',\n",
       "       'is_gamesvideo', 'is_ecommerce', 'is_biotech', 'is_consulting',\n",
       "       'is_othercategory', 'has_VC', 'has_angel', 'has_roundA', 'has_roundB',\n",
       "       'has_roundC', 'has_roundD', 'avg_participants', 'is_top500', 'status'],\n",
       "      dtype='object')"
      ]
     },
     "execution_count": 49,
     "metadata": {},
     "output_type": "execute_result"
    }
   ],
   "source": [
    "df_1.drop( ['Unnamed: 6', 'state_code.1', 'id', 'zip_code', 'labels', 'object_id'],\n",
    "               axis = 1, inplace = True)\n",
    "df_1.pop('Unnamed: 0')\n",
    "df_1.columns"
   ]
  },
  {
   "cell_type": "markdown",
   "id": "b7a56bab",
   "metadata": {},
   "source": [
    "## Análisis univariado"
   ]
  },
  {
   "cell_type": "markdown",
   "id": "ede93e2e",
   "metadata": {},
   "source": [
    "Para identificar valores anómalos, se harán boxplots con distintas variables."
   ]
  },
  {
   "cell_type": "code",
   "execution_count": 50,
   "id": "47824e1a",
   "metadata": {},
   "outputs": [
    {
     "data": {
      "text/plain": [
       "<AxesSubplot:ylabel='age_first_funding_year'>"
      ]
     },
     "execution_count": 50,
     "metadata": {},
     "output_type": "execute_result"
    },
    {
     "data": {
      "image/png": "[encoded data removed]",
      "text/plain": [
       "<Figure size 432x288 with 1 Axes>"
      ]
     },
     "metadata": {
      "needs_background": "light"
     },
     "output_type": "display_data"
    }
   ],
   "source": [
    "# Tiempo que llevaba abierta la compañía al momento de la primera inversión\n",
    "sns.boxplot(y = 'age_first_funding_year',  data = df_1)"
   ]
  },
  {
   "cell_type": "code",
   "execution_count": 51,
   "id": "55f61a5d",
   "metadata": {},
   "outputs": [
    {
     "data": {
      "text/plain": [
       "<AxesSubplot:ylabel='age_last_funding_year'>"
      ]
     },
     "execution_count": 51,
     "metadata": {},
     "output_type": "execute_result"
    },
    {
     "data": {
      "image/png": "[encoded data removed]",
      "text/plain": [
       "<Figure size 432x288 with 1 Axes>"
      ]
     },
     "metadata": {
      "needs_background": "light"
     },
     "output_type": "display_data"
    }
   ],
   "source": [
    "# Tiempo que llevaba abierta la compañía al momento de la última inversión\n",
    "sns.boxplot(y = 'age_last_funding_year', data = df_1)"
   ]
  },
  {
   "cell_type": "code",
   "execution_count": 52,
   "id": "e0908572",
   "metadata": {},
   "outputs": [
    {
     "data": {
      "text/plain": [
       "<AxesSubplot:ylabel='age_first_milestone_year'>"
      ]
     },
     "execution_count": 52,
     "metadata": {},
     "output_type": "execute_result"
    },
    {
     "data": {
      "image/png": "[encoded data removed]",
      "text/plain": [
       "<Figure size 432x288 with 1 Axes>"
      ]
     },
     "metadata": {
      "needs_background": "light"
     },
     "output_type": "display_data"
    }
   ],
   "source": [
    "# Tiempo que llevaba abierta la compañía al momento del primer hito alcanzado\n",
    "sns.boxplot(y = 'age_first_milestone_year', data = df_1)"
   ]
  },
  {
   "cell_type": "code",
   "execution_count": 53,
   "id": "dce4618e",
   "metadata": {},
   "outputs": [
    {
     "data": {
      "text/plain": [
       "<AxesSubplot:ylabel='age_last_milestone_year'>"
      ]
     },
     "execution_count": 53,
     "metadata": {},
     "output_type": "execute_result"
    },
    {
     "data": {
      "image/png": "[encoded data removed]",
      "text/plain": [
       "<Figure size 432x288 with 1 Axes>"
      ]
     },
     "metadata": {
      "needs_background": "light"
     },
     "output_type": "display_data"
    }
   ],
   "source": [
    "# Tiempo que llevaba abierta la compañía al momento del último hito alcanzado\n",
    "sns.boxplot(y = 'age_last_milestone_year', data = df_1)"
   ]
  },
  {
   "cell_type": "markdown",
   "id": "f870419a",
   "metadata": {},
   "source": [
    "En todas estas columnas se han identificado valores negativos. Como esto es imposible al tratarse de la edad que llevaba la empresa cuando sucedió algo, en el próximo bloque de código los valores negativos serán eliminados."
   ]
  },
  {
   "cell_type": "code",
   "execution_count": 54,
   "id": "8cfbcf25",
   "metadata": {},
   "outputs": [
    {
     "name": "stdout",
     "output_type": "stream",
     "text": [
      "(923, 42) (840, 42) 83\n"
     ]
    }
   ],
   "source": [
    "# Se crea un nuevo DF\n",
    "df_2 = df_1.drop(df_1[\n",
    "(df_1['age_first_funding_year']<0) |\n",
    "(df_1['age_last_funding_year']<0) |\n",
    "(df_1['age_first_milestone_year']<0) |\n",
    "(df_1['age_last_milestone_year']<0)\n",
    "].index)\n",
    "\n",
    "print(\n",
    "    df_1.shape,\n",
    "    df_2.shape,\n",
    "    df_1.shape[0] - df_2.shape[0] # Indica la cantidad de filas con valores negativos.\n",
    ")"
   ]
  },
  {
   "cell_type": "markdown",
   "id": "7b4dce9c",
   "metadata": {},
   "source": [
    "# Análisis bivariado\n",
    "En esta sección analizaremos el progreso de las startups adquiridas en el tiempo. Para ello, cambiaremos la columna founded_at para que muestre solo el año."
   ]
  },
  {
   "cell_type": "code",
   "execution_count": 55,
   "id": "ae7d6b5d",
   "metadata": {},
   "outputs": [],
   "source": [
    "# Cambiando la columna founded_at para que solo presente el año\n",
    "df_2['founded_at'] = pd.to_datetime(df_2['founded_at'])\n",
    "df_2['founded_at'] = df_2['founded_at'].dt.to_period('Y')"
   ]
  },
  {
   "cell_type": "code",
   "execution_count": 56,
   "id": "845a08e8",
   "metadata": {},
   "outputs": [
    {
     "data": {
      "text/plain": [
       "<seaborn.axisgrid.FacetGrid at 0x25cc2032cd0>"
      ]
     },
     "execution_count": 56,
     "metadata": {},
     "output_type": "execute_result"
    },
    {
     "data": {
      "image/png": "[encoded data removed]",
      "text/plain": [
       "<Figure size 1440x2160 with 23 Axes>"
      ]
     },
     "metadata": {
      "needs_background": "light"
     },
     "output_type": "display_data"
    }
   ],
   "source": [
    "# Se crea el gráfico para compararlo con los valores de status\n",
    "sns.displot(data = df_2, col = 'founded_at', col_wrap = 4, x = 'status')"
   ]
  },
  {
   "cell_type": "markdown",
   "id": "672279f8",
   "metadata": {},
   "source": [
    "El período 2005-2009 es donde más startups fueron adquiridas. El período 2000-2002 también parece haber sido bueno. Los números empeoran en períodos anteriores o posteriores a estos, exceptuando a 2004 que no tuvo un desempeño destacable."
   ]
  }
 ],
 "metadata": {
  "kernelspec": {
   "display_name": "Python 3",
   "language": "python",
   "name": "python3"
  },
  "language_info": {
   "codemirror_mode": {
    "name": "ipython",
    "version": 3
   },
   "file_extension": ".py",
   "mimetype": "text/x-python",
   "name": "python",
   "nbconvert_exporter": "python",
   "pygments_lexer": "ipython3",
   "version": "3.9.1"
  }
 },
 "nbformat": 4,
 "nbformat_minor": 5
}
