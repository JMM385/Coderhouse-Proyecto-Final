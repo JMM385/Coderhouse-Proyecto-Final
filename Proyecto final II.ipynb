{
 "cells": [
  {
   "cell_type": "markdown",
   "id": "sapphire-accent",
   "metadata": {},
   "source": [
    "# Análisis Multivariado.\n",
    "#### Para el análisis multivariado del proyecto, se propone realizar un Análisis de Componentes Principales (en adelante ACP).\n",
    "#### ACP es un procedimiento matemático/estadístico que busca reducir la dimensionalidad del dataset máximizando la varianza explicada. "
   ]
  },
  {
   "cell_type": "code",
   "execution_count": 1,
   "id": "exempt-seven",
   "metadata": {},
   "outputs": [],
   "source": [
    "# Librerías\n",
    "\n",
    "# General\n",
    "import numpy as np\n",
    "import pandas as pd\n",
    "import matplotlib.pyplot as plt\n",
    "import seaborn as sns\n",
    "\n",
    "# PCA\n",
    "from sklearn.decomposition import PCA\n",
    "from sklearn.decomposition import IncrementalPCA\n",
    "from sklearn.pipeline import make_pipeline\n",
    "from sklearn.preprocessing import StandardScaler\n",
    "from sklearn.preprocessing import scale\n",
    "\n",
    "# Estilo de los gráficos\n",
    "sns.set()\n",
    "\n",
    "# Ignorar warnings\n",
    "import warnings\n",
    "warnings.filterwarnings('ignore')"
   ]
  },
  {
   "cell_type": "code",
   "execution_count": 2,
   "id": "exotic-silver",
   "metadata": {},
   "outputs": [
    {
     "data": {
      "text/html": [
       "<div>\n",
       "<style scoped>\n",
       "    .dataframe tbody tr th:only-of-type {\n",
       "        vertical-align: middle;\n",
       "    }\n",
       "\n",
       "    .dataframe tbody tr th {\n",
       "        vertical-align: top;\n",
       "    }\n",
       "\n",
       "    .dataframe thead th {\n",
       "        text-align: right;\n",
       "    }\n",
       "</style>\n",
       "<table border=\"1\" class=\"dataframe\">\n",
       "  <thead>\n",
       "    <tr style=\"text-align: right;\">\n",
       "      <th></th>\n",
       "      <th>Unnamed: 0</th>\n",
       "      <th>state_code</th>\n",
       "      <th>latitude</th>\n",
       "      <th>longitude</th>\n",
       "      <th>zip_code</th>\n",
       "      <th>id</th>\n",
       "      <th>city</th>\n",
       "      <th>Unnamed: 6</th>\n",
       "      <th>name</th>\n",
       "      <th>labels</th>\n",
       "      <th>...</th>\n",
       "      <th>object_id</th>\n",
       "      <th>has_VC</th>\n",
       "      <th>has_angel</th>\n",
       "      <th>has_roundA</th>\n",
       "      <th>has_roundB</th>\n",
       "      <th>has_roundC</th>\n",
       "      <th>has_roundD</th>\n",
       "      <th>avg_participants</th>\n",
       "      <th>is_top500</th>\n",
       "      <th>status</th>\n",
       "    </tr>\n",
       "  </thead>\n",
       "  <tbody>\n",
       "    <tr>\n",
       "      <th>0</th>\n",
       "      <td>1005</td>\n",
       "      <td>CA</td>\n",
       "      <td>42.358880</td>\n",
       "      <td>-71.056820</td>\n",
       "      <td>92101</td>\n",
       "      <td>c:6669</td>\n",
       "      <td>San Diego</td>\n",
       "      <td>NaN</td>\n",
       "      <td>Bandsintown</td>\n",
       "      <td>1</td>\n",
       "      <td>...</td>\n",
       "      <td>c:6669</td>\n",
       "      <td>0</td>\n",
       "      <td>1</td>\n",
       "      <td>0</td>\n",
       "      <td>0</td>\n",
       "      <td>0</td>\n",
       "      <td>0</td>\n",
       "      <td>1.0000</td>\n",
       "      <td>0</td>\n",
       "      <td>acquired</td>\n",
       "    </tr>\n",
       "    <tr>\n",
       "      <th>1</th>\n",
       "      <td>204</td>\n",
       "      <td>CA</td>\n",
       "      <td>37.238916</td>\n",
       "      <td>-121.973718</td>\n",
       "      <td>95032</td>\n",
       "      <td>c:16283</td>\n",
       "      <td>Los Gatos</td>\n",
       "      <td>NaN</td>\n",
       "      <td>TriCipher</td>\n",
       "      <td>1</td>\n",
       "      <td>...</td>\n",
       "      <td>c:16283</td>\n",
       "      <td>1</td>\n",
       "      <td>0</td>\n",
       "      <td>0</td>\n",
       "      <td>1</td>\n",
       "      <td>1</td>\n",
       "      <td>1</td>\n",
       "      <td>4.7500</td>\n",
       "      <td>1</td>\n",
       "      <td>acquired</td>\n",
       "    </tr>\n",
       "    <tr>\n",
       "      <th>2</th>\n",
       "      <td>1001</td>\n",
       "      <td>CA</td>\n",
       "      <td>32.901049</td>\n",
       "      <td>-117.192656</td>\n",
       "      <td>92121</td>\n",
       "      <td>c:65620</td>\n",
       "      <td>San Diego</td>\n",
       "      <td>San Diego CA 92121</td>\n",
       "      <td>Plixi</td>\n",
       "      <td>1</td>\n",
       "      <td>...</td>\n",
       "      <td>c:65620</td>\n",
       "      <td>0</td>\n",
       "      <td>0</td>\n",
       "      <td>1</td>\n",
       "      <td>0</td>\n",
       "      <td>0</td>\n",
       "      <td>0</td>\n",
       "      <td>4.0000</td>\n",
       "      <td>1</td>\n",
       "      <td>acquired</td>\n",
       "    </tr>\n",
       "    <tr>\n",
       "      <th>3</th>\n",
       "      <td>738</td>\n",
       "      <td>CA</td>\n",
       "      <td>37.320309</td>\n",
       "      <td>-122.050040</td>\n",
       "      <td>95014</td>\n",
       "      <td>c:42668</td>\n",
       "      <td>Cupertino</td>\n",
       "      <td>Cupertino CA 95014</td>\n",
       "      <td>Solidcore Systems</td>\n",
       "      <td>1</td>\n",
       "      <td>...</td>\n",
       "      <td>c:42668</td>\n",
       "      <td>0</td>\n",
       "      <td>0</td>\n",
       "      <td>0</td>\n",
       "      <td>1</td>\n",
       "      <td>1</td>\n",
       "      <td>1</td>\n",
       "      <td>3.3333</td>\n",
       "      <td>1</td>\n",
       "      <td>acquired</td>\n",
       "    </tr>\n",
       "    <tr>\n",
       "      <th>4</th>\n",
       "      <td>1002</td>\n",
       "      <td>CA</td>\n",
       "      <td>37.779281</td>\n",
       "      <td>-122.419236</td>\n",
       "      <td>94105</td>\n",
       "      <td>c:65806</td>\n",
       "      <td>San Francisco</td>\n",
       "      <td>San Francisco CA 94105</td>\n",
       "      <td>Inhale Digital</td>\n",
       "      <td>0</td>\n",
       "      <td>...</td>\n",
       "      <td>c:65806</td>\n",
       "      <td>1</td>\n",
       "      <td>1</td>\n",
       "      <td>0</td>\n",
       "      <td>0</td>\n",
       "      <td>0</td>\n",
       "      <td>0</td>\n",
       "      <td>1.0000</td>\n",
       "      <td>1</td>\n",
       "      <td>closed</td>\n",
       "    </tr>\n",
       "  </tbody>\n",
       "</table>\n",
       "<p>5 rows × 49 columns</p>\n",
       "</div>"
      ],
      "text/plain": [
       "   Unnamed: 0 state_code   latitude   longitude zip_code       id  \\\n",
       "0        1005         CA  42.358880  -71.056820    92101   c:6669   \n",
       "1         204         CA  37.238916 -121.973718    95032  c:16283   \n",
       "2        1001         CA  32.901049 -117.192656    92121  c:65620   \n",
       "3         738         CA  37.320309 -122.050040    95014  c:42668   \n",
       "4        1002         CA  37.779281 -122.419236    94105  c:65806   \n",
       "\n",
       "            city              Unnamed: 6               name  labels  ...  \\\n",
       "0      San Diego                     NaN        Bandsintown       1  ...   \n",
       "1      Los Gatos                     NaN          TriCipher       1  ...   \n",
       "2      San Diego      San Diego CA 92121              Plixi       1  ...   \n",
       "3      Cupertino      Cupertino CA 95014  Solidcore Systems       1  ...   \n",
       "4  San Francisco  San Francisco CA 94105     Inhale Digital       0  ...   \n",
       "\n",
       "  object_id has_VC has_angel has_roundA  has_roundB  has_roundC  has_roundD  \\\n",
       "0    c:6669      0         1          0           0           0           0   \n",
       "1   c:16283      1         0          0           1           1           1   \n",
       "2   c:65620      0         0          1           0           0           0   \n",
       "3   c:42668      0         0          0           1           1           1   \n",
       "4   c:65806      1         1          0           0           0           0   \n",
       "\n",
       "   avg_participants  is_top500    status  \n",
       "0            1.0000          0  acquired  \n",
       "1            4.7500          1  acquired  \n",
       "2            4.0000          1  acquired  \n",
       "3            3.3333          1  acquired  \n",
       "4            1.0000          1    closed  \n",
       "\n",
       "[5 rows x 49 columns]"
      ]
     },
     "execution_count": 2,
     "metadata": {},
     "output_type": "execute_result"
    }
   ],
   "source": [
    "df_1 = pd.read_csv('startup data.csv')\n",
    "df_1.head()"
   ]
  },
  {
   "cell_type": "markdown",
   "id": "polish-astrology",
   "metadata": {},
   "source": [
    "#### Antes de comenzar con el ACP, se deben eliminar los outliers. En este caso los más destacables son aquellos qeu toman valores de edad negativos"
   ]
  },
  {
   "cell_type": "code",
   "execution_count": 3,
   "id": "tropical-canon",
   "metadata": {},
   "outputs": [
    {
     "name": "stdout",
     "output_type": "stream",
     "text": [
      "(923, 49) (840, 49) 83\n"
     ]
    }
   ],
   "source": [
    "# Se crea un nuevo DF en donde todos las filas que contengan \n",
    "# algun valor de edad negativa seon eliminados.\n",
    "df_2 = df_1.drop(df_1[\n",
    "(df_1['age_first_funding_year']<0) |\n",
    "(df_1['age_last_funding_year']<0) |\n",
    "(df_1['age_first_milestone_year']<0) |\n",
    "(df_1['age_last_milestone_year']<0)\n",
    "].index)\n",
    "\n",
    "print(\n",
    "    df_1.shape,\n",
    "    df_2.shape,\n",
    "    df_1.shape[0] - df_2.shape[0] # Indica la cantidad de filas con valores negativos.\n",
    ")\n"
   ]
  },
  {
   "cell_type": "markdown",
   "id": "nasty-perspective",
   "metadata": {},
   "source": [
    "####  El ACP es aplicable a variables de naturaleza numérica y por lo tanto, es aplicable a las siguientes columnas:"
   ]
  },
  {
   "cell_type": "code",
   "execution_count": 4,
   "id": "ancient-doctrine",
   "metadata": {},
   "outputs": [
    {
     "data": {
      "text/html": [
       "<div>\n",
       "<style scoped>\n",
       "    .dataframe tbody tr th:only-of-type {\n",
       "        vertical-align: middle;\n",
       "    }\n",
       "\n",
       "    .dataframe tbody tr th {\n",
       "        vertical-align: top;\n",
       "    }\n",
       "\n",
       "    .dataframe thead th {\n",
       "        text-align: right;\n",
       "    }\n",
       "</style>\n",
       "<table border=\"1\" class=\"dataframe\">\n",
       "  <thead>\n",
       "    <tr style=\"text-align: right;\">\n",
       "      <th></th>\n",
       "      <th>age_first_funding_year</th>\n",
       "      <th>age_last_funding_year</th>\n",
       "      <th>age_first_milestone_year</th>\n",
       "      <th>age_last_milestone_year</th>\n",
       "      <th>relationships</th>\n",
       "      <th>funding_rounds</th>\n",
       "      <th>funding_total_usd</th>\n",
       "      <th>milestones</th>\n",
       "      <th>avg_participants</th>\n",
       "    </tr>\n",
       "  </thead>\n",
       "  <tbody>\n",
       "    <tr>\n",
       "      <th>0</th>\n",
       "      <td>2.2493</td>\n",
       "      <td>3.0027</td>\n",
       "      <td>4.6685</td>\n",
       "      <td>6.7041</td>\n",
       "      <td>3</td>\n",
       "      <td>3</td>\n",
       "      <td>375000</td>\n",
       "      <td>3</td>\n",
       "      <td>1.0000</td>\n",
       "    </tr>\n",
       "    <tr>\n",
       "      <th>1</th>\n",
       "      <td>5.1260</td>\n",
       "      <td>9.9973</td>\n",
       "      <td>7.0055</td>\n",
       "      <td>7.0055</td>\n",
       "      <td>9</td>\n",
       "      <td>4</td>\n",
       "      <td>40100000</td>\n",
       "      <td>1</td>\n",
       "      <td>4.7500</td>\n",
       "    </tr>\n",
       "    <tr>\n",
       "      <th>2</th>\n",
       "      <td>1.0329</td>\n",
       "      <td>1.0329</td>\n",
       "      <td>1.4575</td>\n",
       "      <td>2.2055</td>\n",
       "      <td>5</td>\n",
       "      <td>1</td>\n",
       "      <td>2600000</td>\n",
       "      <td>2</td>\n",
       "      <td>4.0000</td>\n",
       "    </tr>\n",
       "    <tr>\n",
       "      <th>3</th>\n",
       "      <td>3.1315</td>\n",
       "      <td>5.3151</td>\n",
       "      <td>6.0027</td>\n",
       "      <td>6.0027</td>\n",
       "      <td>5</td>\n",
       "      <td>3</td>\n",
       "      <td>40000000</td>\n",
       "      <td>1</td>\n",
       "      <td>3.3333</td>\n",
       "    </tr>\n",
       "    <tr>\n",
       "      <th>4</th>\n",
       "      <td>0.0000</td>\n",
       "      <td>1.6685</td>\n",
       "      <td>0.0384</td>\n",
       "      <td>0.0384</td>\n",
       "      <td>2</td>\n",
       "      <td>2</td>\n",
       "      <td>1300000</td>\n",
       "      <td>1</td>\n",
       "      <td>1.0000</td>\n",
       "    </tr>\n",
       "  </tbody>\n",
       "</table>\n",
       "</div>"
      ],
      "text/plain": [
       "   age_first_funding_year  age_last_funding_year  age_first_milestone_year  \\\n",
       "0                  2.2493                 3.0027                    4.6685   \n",
       "1                  5.1260                 9.9973                    7.0055   \n",
       "2                  1.0329                 1.0329                    1.4575   \n",
       "3                  3.1315                 5.3151                    6.0027   \n",
       "4                  0.0000                 1.6685                    0.0384   \n",
       "\n",
       "   age_last_milestone_year  relationships  funding_rounds  funding_total_usd  \\\n",
       "0                   6.7041              3               3             375000   \n",
       "1                   7.0055              9               4           40100000   \n",
       "2                   2.2055              5               1            2600000   \n",
       "3                   6.0027              5               3           40000000   \n",
       "4                   0.0384              2               2            1300000   \n",
       "\n",
       "   milestones  avg_participants  \n",
       "0           3            1.0000  \n",
       "1           1            4.7500  \n",
       "2           2            4.0000  \n",
       "3           1            3.3333  \n",
       "4           1            1.0000  "
      ]
     },
     "execution_count": 4,
     "metadata": {},
     "output_type": "execute_result"
    }
   ],
   "source": [
    "df_ACP = df_2[[\n",
    "    'age_first_funding_year',\n",
    "    'age_last_funding_year',\n",
    "    'age_first_milestone_year',\n",
    "    'age_last_milestone_year',\n",
    "    'relationships',\n",
    "    'funding_rounds',\n",
    "    'funding_total_usd',\n",
    "    'milestones',\n",
    "    'avg_participants'\n",
    "]]\n",
    "df_ACP.head()"
   ]
  },
  {
   "cell_type": "markdown",
   "id": "august-negotiation",
   "metadata": {},
   "source": [
    "#### También es necesario verificar que no existan datos faltantes antes de comenzar con el ACP."
   ]
  },
  {
   "cell_type": "code",
   "execution_count": 5,
   "id": "charming-revolution",
   "metadata": {},
   "outputs": [
    {
     "data": {
      "text/plain": [
       "age_first_funding_year        0\n",
       "age_last_funding_year         0\n",
       "age_first_milestone_year    144\n",
       "age_last_milestone_year     144\n",
       "relationships                 0\n",
       "funding_rounds                0\n",
       "funding_total_usd             0\n",
       "milestones                    0\n",
       "avg_participants              0\n",
       "dtype: int64"
      ]
     },
     "execution_count": 5,
     "metadata": {},
     "output_type": "execute_result"
    }
   ],
   "source": [
    "df_ACP.isna().sum()"
   ]
  },
  {
   "cell_type": "markdown",
   "id": "received-saver",
   "metadata": {},
   "source": [
    "#### Seguramente se trate de startups que a la fecha no han tenido ningún hito y por lo tanto no se les puede atribuir un valor lógico. Se decide eliminar estos valores."
   ]
  },
  {
   "cell_type": "code",
   "execution_count": 6,
   "id": "latin-tunisia",
   "metadata": {},
   "outputs": [],
   "source": [
    "df_ACP = df_ACP.dropna() # Elimina NAs"
   ]
  },
  {
   "cell_type": "code",
   "execution_count": 7,
   "id": "maritime-brake",
   "metadata": {},
   "outputs": [
    {
     "data": {
      "text/plain": [
       "age_first_funding_year      0\n",
       "age_last_funding_year       0\n",
       "age_first_milestone_year    0\n",
       "age_last_milestone_year     0\n",
       "relationships               0\n",
       "funding_rounds              0\n",
       "funding_total_usd           0\n",
       "milestones                  0\n",
       "avg_participants            0\n",
       "dtype: int64"
      ]
     },
     "execution_count": 7,
     "metadata": {},
     "output_type": "execute_result"
    }
   ],
   "source": [
    "df_ACP.isna().sum()"
   ]
  },
  {
   "cell_type": "markdown",
   "id": "false-vulnerability",
   "metadata": {},
   "source": [
    "#### También, y con el objetivo de reducir posibles sezgos, se recomienda normalizar la información previamente."
   ]
  },
  {
   "cell_type": "code",
   "execution_count": 8,
   "id": "consecutive-navigator",
   "metadata": {},
   "outputs": [
    {
     "data": {
      "text/html": [
       "<div>\n",
       "<style scoped>\n",
       "    .dataframe tbody tr th:only-of-type {\n",
       "        vertical-align: middle;\n",
       "    }\n",
       "\n",
       "    .dataframe tbody tr th {\n",
       "        vertical-align: top;\n",
       "    }\n",
       "\n",
       "    .dataframe thead th {\n",
       "        text-align: right;\n",
       "    }\n",
       "</style>\n",
       "<table border=\"1\" class=\"dataframe\">\n",
       "  <thead>\n",
       "    <tr style=\"text-align: right;\">\n",
       "      <th></th>\n",
       "      <th>age_first_funding_year</th>\n",
       "      <th>age_last_funding_year</th>\n",
       "      <th>age_first_milestone_year</th>\n",
       "      <th>age_last_milestone_year</th>\n",
       "      <th>relationships</th>\n",
       "      <th>funding_rounds</th>\n",
       "      <th>funding_total_usd</th>\n",
       "      <th>milestones</th>\n",
       "      <th>avg_participants</th>\n",
       "    </tr>\n",
       "  </thead>\n",
       "  <tbody>\n",
       "    <tr>\n",
       "      <th>0</th>\n",
       "      <td>0.027985</td>\n",
       "      <td>-0.349364</td>\n",
       "      <td>0.459388</td>\n",
       "      <td>0.552725</td>\n",
       "      <td>-0.764592</td>\n",
       "      <td>0.438626</td>\n",
       "      <td>-0.128624</td>\n",
       "      <td>0.706282</td>\n",
       "      <td>-0.987782</td>\n",
       "    </tr>\n",
       "    <tr>\n",
       "      <th>1</th>\n",
       "      <td>1.290448</td>\n",
       "      <td>2.099689</td>\n",
       "      <td>1.296209</td>\n",
       "      <td>0.649432</td>\n",
       "      <td>0.045387</td>\n",
       "      <td>1.155253</td>\n",
       "      <td>0.053828</td>\n",
       "      <td>-1.052473</td>\n",
       "      <td>0.953423</td>\n",
       "    </tr>\n",
       "    <tr>\n",
       "      <th>2</th>\n",
       "      <td>-0.505842</td>\n",
       "      <td>-1.039060</td>\n",
       "      <td>-0.690390</td>\n",
       "      <td>-0.890698</td>\n",
       "      <td>-0.494599</td>\n",
       "      <td>-0.994630</td>\n",
       "      <td>-0.118405</td>\n",
       "      <td>-0.173096</td>\n",
       "      <td>0.565182</td>\n",
       "    </tr>\n",
       "    <tr>\n",
       "      <th>3</th>\n",
       "      <td>0.415146</td>\n",
       "      <td>0.460288</td>\n",
       "      <td>0.937131</td>\n",
       "      <td>0.327673</td>\n",
       "      <td>-0.494599</td>\n",
       "      <td>0.438626</td>\n",
       "      <td>0.053369</td>\n",
       "      <td>-1.052473</td>\n",
       "      <td>0.220062</td>\n",
       "    </tr>\n",
       "    <tr>\n",
       "      <th>4</th>\n",
       "      <td>-0.959139</td>\n",
       "      <td>-0.816514</td>\n",
       "      <td>-1.198534</td>\n",
       "      <td>-1.586034</td>\n",
       "      <td>-0.899588</td>\n",
       "      <td>-0.278002</td>\n",
       "      <td>-0.124376</td>\n",
       "      <td>-1.052473</td>\n",
       "      <td>-0.987782</td>\n",
       "    </tr>\n",
       "  </tbody>\n",
       "</table>\n",
       "</div>"
      ],
      "text/plain": [
       "   age_first_funding_year  age_last_funding_year  age_first_milestone_year  \\\n",
       "0                0.027985              -0.349364                  0.459388   \n",
       "1                1.290448               2.099689                  1.296209   \n",
       "2               -0.505842              -1.039060                 -0.690390   \n",
       "3                0.415146               0.460288                  0.937131   \n",
       "4               -0.959139              -0.816514                 -1.198534   \n",
       "\n",
       "   age_last_milestone_year  relationships  funding_rounds  funding_total_usd  \\\n",
       "0                 0.552725      -0.764592        0.438626          -0.128624   \n",
       "1                 0.649432       0.045387        1.155253           0.053828   \n",
       "2                -0.890698      -0.494599       -0.994630          -0.118405   \n",
       "3                 0.327673      -0.494599        0.438626           0.053369   \n",
       "4                -1.586034      -0.899588       -0.278002          -0.124376   \n",
       "\n",
       "   milestones  avg_participants  \n",
       "0    0.706282         -0.987782  \n",
       "1   -1.052473          0.953423  \n",
       "2   -0.173096          0.565182  \n",
       "3   -1.052473          0.220062  \n",
       "4   -1.052473         -0.987782  "
      ]
     },
     "execution_count": 8,
     "metadata": {},
     "output_type": "execute_result"
    }
   ],
   "source": [
    "# Inicilización del scaler\n",
    "scaler = StandardScaler()\n",
    "# Fit Transform\n",
    "df_ACP[df_ACP.columns] = scaler.fit_transform(df_ACP[df_ACP.columns]) # df con los datos normalizados\n",
    "\n",
    "df_ACP.head()"
   ]
  },
  {
   "cell_type": "markdown",
   "id": "imposed-pacific",
   "metadata": {},
   "source": [
    "#### Con los datos normalizados, se esta en condiciones de obtener los componentes principales."
   ]
  },
  {
   "cell_type": "code",
   "execution_count": 9,
   "id": "animated-technique",
   "metadata": {},
   "outputs": [],
   "source": [
    "# Inicilización del scaler\n",
    "pca = PCA(random_state=42) # Valor semilla"
   ]
  },
  {
   "cell_type": "code",
   "execution_count": 10,
   "id": "religious-detector",
   "metadata": {},
   "outputs": [
    {
     "data": {
      "text/plain": [
       "PCA(random_state=42)"
      ]
     },
     "execution_count": 10,
     "metadata": {},
     "output_type": "execute_result"
    }
   ],
   "source": [
    "# Fit\n",
    "pca.fit(df_ACP)"
   ]
  },
  {
   "cell_type": "code",
   "execution_count": 11,
   "id": "binding-compatibility",
   "metadata": {},
   "outputs": [
    {
     "name": "stdout",
     "output_type": "stream",
     "text": [
      "[[ 0.39  0.51  0.51  0.49  0.18  0.21  0.09  0.03  0.06]\n",
      " [-0.42 -0.12 -0.1   0.13  0.54  0.4   0.08  0.57  0.07]\n",
      " [-0.01  0.07 -0.14 -0.18 -0.04  0.16  0.75 -0.22  0.56]\n",
      " [-0.11  0.1  -0.02 -0.08 -0.07  0.3   0.45 -0.15 -0.8 ]\n",
      " [ 0.14 -0.27  0.08  0.24  0.11 -0.69  0.47  0.34 -0.15]\n",
      " [-0.08 -0.14  0.24 -0.17  0.73 -0.18 -0.04 -0.56 -0.04]\n",
      " [ 0.57  0.33 -0.46 -0.42  0.34 -0.05 -0.04  0.23 -0.1 ]\n",
      " [-0.17  0.24 -0.64  0.61  0.1  -0.15 -0.03 -0.31 -0.02]\n",
      " [-0.53  0.68  0.16 -0.27 -0.04 -0.38  0.01  0.14  0.01]]\n"
     ]
    }
   ],
   "source": [
    "print(pca.components_.round(2)) "
   ]
  },
  {
   "cell_type": "markdown",
   "id": "frank-argentina",
   "metadata": {},
   "source": [
    "#### Devuelve 9 componentes principales (coincidente con el número de columnas). Se trata de los autovectores y que representan la información en una nueva \"base\"."
   ]
  },
  {
   "cell_type": "code",
   "execution_count": 12,
   "id": "israeli-following",
   "metadata": {},
   "outputs": [
    {
     "data": {
      "text/plain": [
       "array([0.35, 0.21, 0.11, 0.11, 0.09, 0.06, 0.04, 0.01, 0.01])"
      ]
     },
     "execution_count": 12,
     "metadata": {},
     "output_type": "execute_result"
    }
   ],
   "source": [
    "# Indico el ratio de varianza explicada por cada componente (la sumatoria será igual a 1)\n",
    "pca.explained_variance_ratio_.round(2)"
   ]
  },
  {
   "cell_type": "markdown",
   "id": "coated-jacket",
   "metadata": {},
   "source": [
    "#### A primera vista, se tiene que, por ejemplo, con los 5 primeros componentes principales se explica un 88% de la varianza en los datos; lo cual es aceptable y se logra reducir la dimensionalidad apreciablemente (de 9 a 5)"
   ]
  },
  {
   "cell_type": "code",
   "execution_count": 13,
   "id": "moderate-roman",
   "metadata": {},
   "outputs": [
    {
     "name": "stdout",
     "output_type": "stream",
     "text": [
      "[0.3504927  0.56545424 0.67953086 0.78899565 0.88321839 0.9411974\n",
      " 0.97968284 0.99179013 1.        ]\n"
     ]
    }
   ],
   "source": [
    "# Varianza acumulada por las componentes\n",
    "var_acum = np.cumsum(pca.explained_variance_ratio_)\n",
    "print(var_acum)"
   ]
  },
  {
   "cell_type": "code",
   "execution_count": 14,
   "id": "rational-canberra",
   "metadata": {},
   "outputs": [
    {
     "data": {
      "image/png": "[encoded data removed]",
      "text/plain": [
       "<Figure size 936x432 with 2 Axes>"
      ]
     },
     "metadata": {},
     "output_type": "display_data"
    }
   ],
   "source": [
    "# Graficamente\n",
    "fig, ax = plt.subplots(1, 2, figsize=(13, 6))\n",
    "\n",
    "# Varianza acumulada\n",
    "ax[0].plot(var_acum)\n",
    "\n",
    "# Líneas de guía\n",
    "ax[0].vlines(x=4, ymax=1, ymin=0, colors='r', linestyles='--')\n",
    "ax[0].hlines(y=var_acum[4], xmax=8, xmin=0, colors='g', linestyles='--')\n",
    "\n",
    "ax[0].set_ylabel('Varianza Acumulada')\n",
    "ax[0].set_xlabel('Componentes Principales')\n",
    "ax[0].set_title('Varianza Explicada Acumulada')\n",
    "\n",
    "# Ratio de varianza explicada\n",
    "ax[1].bar(\n",
    "            np.arange(len(pca.explained_variance_ratio_)),\n",
    "            pca.explained_variance_ratio_,\n",
    "            edgecolor='black'\n",
    ")\n",
    "\n",
    "ax[1].set_ylabel('Ratio')\n",
    "ax[1].set_xlabel('Componentes Principales')\n",
    "ax[1].set_title(' Ratio Varianza Explicada')\n",
    "\n",
    "ax[1].set_xticks(np.arange(len(pca.explained_variance_ratio_)))\n",
    "\n",
    "fig.tight_layout()\n",
    "plt.show();"
   ]
  },
  {
   "cell_type": "markdown",
   "id": "fatal-manner",
   "metadata": {},
   "source": [
    "#### Se esta en condiciones de transformar/proyectar el dataset a esta nueva base de ahora 5 componentes y que explica casi un 90% de la varianza en los datos. La tranformación se realiza de la siguiente manera (aplicando el siguiente [algoritmo](https://scikit-learn.org/stable/modules/generated/sklearn.decomposition.IncrementalPCA.html)):"
   ]
  },
  {
   "cell_type": "code",
   "execution_count": 15,
   "id": "physical-tumor",
   "metadata": {},
   "outputs": [],
   "source": [
    "# Inicializo el incrementalPCA para la cantidad de componentes seleccionada\n",
    "acp_final = IncrementalPCA(n_components=5)"
   ]
  },
  {
   "cell_type": "code",
   "execution_count": 16,
   "id": "vietnamese-convention",
   "metadata": {},
   "outputs": [],
   "source": [
    "# Fit y Transform de los datos al nuevo espacio vectorial  \n",
    "acp_proy = acp_final.fit_transform(df_ACP)"
   ]
  },
  {
   "cell_type": "code",
   "execution_count": 17,
   "id": "exciting-sleeve",
   "metadata": {},
   "outputs": [
    {
     "data": {
      "text/plain": [
       "(696, 5)"
      ]
     },
     "execution_count": 17,
     "metadata": {},
     "output_type": "execute_result"
    }
   ],
   "source": [
    "# Verifico la forma del nuevo df\n",
    "acp_proy.shape"
   ]
  },
  {
   "cell_type": "code",
   "execution_count": 18,
   "id": "ordered-plant",
   "metadata": {},
   "outputs": [
    {
     "data": {
      "text/html": [
       "<div>\n",
       "<style scoped>\n",
       "    .dataframe tbody tr th:only-of-type {\n",
       "        vertical-align: middle;\n",
       "    }\n",
       "\n",
       "    .dataframe tbody tr th {\n",
       "        vertical-align: top;\n",
       "    }\n",
       "\n",
       "    .dataframe thead th {\n",
       "        text-align: right;\n",
       "    }\n",
       "</style>\n",
       "<table border=\"1\" class=\"dataframe\">\n",
       "  <thead>\n",
       "    <tr style=\"text-align: right;\">\n",
       "      <th></th>\n",
       "      <th>PC1</th>\n",
       "      <th>PC2</th>\n",
       "      <th>PC3</th>\n",
       "      <th>PC4</th>\n",
       "      <th>PC5</th>\n",
       "    </tr>\n",
       "  </thead>\n",
       "  <tbody>\n",
       "    <tr>\n",
       "      <th>0</th>\n",
       "      <td>0.244050</td>\n",
       "      <td>0.142415</td>\n",
       "      <td>-0.992519</td>\n",
       "      <td>-0.595970</td>\n",
       "      <td>-0.326938</td>\n",
       "    </tr>\n",
       "    <tr>\n",
       "      <th>1</th>\n",
       "      <td>2.829196</td>\n",
       "      <td>-0.876135</td>\n",
       "      <td>0.871385</td>\n",
       "      <td>0.152267</td>\n",
       "      <td>1.387119</td>\n",
       "    </tr>\n",
       "    <tr>\n",
       "      <th>2</th>\n",
       "      <td>-1.795622</td>\n",
       "      <td>-0.441477</td>\n",
       "      <td>0.382530</td>\n",
       "      <td>0.674612</td>\n",
       "      <td>-0.364798</td>\n",
       "    </tr>\n",
       "    <tr>\n",
       "      <th>3</th>\n",
       "      <td>1.019758</td>\n",
       "      <td>-0.952211</td>\n",
       "      <td>0.322748</td>\n",
       "      <td>-0.159247</td>\n",
       "      <td>0.625074</td>\n",
       "    </tr>\n",
       "    <tr>\n",
       "      <th>4</th>\n",
       "      <td>-2.504100</td>\n",
       "      <td>-0.857083</td>\n",
       "      <td>-0.122397</td>\n",
       "      <td>-1.040674</td>\n",
       "      <td>0.604026</td>\n",
       "    </tr>\n",
       "  </tbody>\n",
       "</table>\n",
       "</div>"
      ],
      "text/plain": [
       "        PC1       PC2       PC3       PC4       PC5\n",
       "0  0.244050  0.142415 -0.992519 -0.595970 -0.326938\n",
       "1  2.829196 -0.876135  0.871385  0.152267  1.387119\n",
       "2 -1.795622 -0.441477  0.382530  0.674612 -0.364798\n",
       "3  1.019758 -0.952211  0.322748 -0.159247  0.625074\n",
       "4 -2.504100 -0.857083 -0.122397 -1.040674  0.604026"
      ]
     },
     "execution_count": 18,
     "metadata": {},
     "output_type": "execute_result"
    }
   ],
   "source": [
    "# Convierto en el array acp_proy en df\n",
    "df_ACP_proy = pd.DataFrame(\n",
    "    acp_proy,\n",
    "    columns = ['PC1', 'PC2', 'PC3', 'PC4', 'PC5'],\n",
    ")\n",
    "df_ACP_proy.head()"
   ]
  },
  {
   "cell_type": "markdown",
   "id": "preliminary-product",
   "metadata": {},
   "source": [
    "### A modo de resumen:\n",
    "#### - df_ACP_proy es un nuevo dataframe que explica cerca del 90% de la varianza original de los datos  seleccionados para este análisis y que redujo su dimensionalidad (N° de columnas) de 9 a 5 a través de un ACP."
   ]
  }
 ],
 "metadata": {
  "kernelspec": {
   "display_name": "Python 3",
   "language": "python",
   "name": "python3"
  },
  "language_info": {
   "codemirror_mode": {
    "name": "ipython",
    "version": 3
   },
   "file_extension": ".py",
   "mimetype": "text/x-python",
   "name": "python",
   "nbconvert_exporter": "python",
   "pygments_lexer": "ipython3",
   "version": "3.9.1"
  }
 },
 "nbformat": 4,
 "nbformat_minor": 5
}
