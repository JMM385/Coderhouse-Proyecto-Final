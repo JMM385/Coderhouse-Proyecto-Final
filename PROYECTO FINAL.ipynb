{
 "cells": [
  {
   "cell_type": "markdown",
   "id": "objective-reset",
   "metadata": {},
   "source": [
    "# Proyecto Final"
   ]
  },
  {
   "cell_type": "markdown",
   "id": "dying-gravity",
   "metadata": {},
   "source": [
    "### **Contexto**\n",
    "#### <div style=\"text-align: justify\"> Una startup es una empresa o proyecto iniciado por un emprendedor para buscar, desarrollar y validar un modelo económico escalable. Mientras que la iniciativa empresarial se refiere a todos los nuevos negocios, incluyendo el autoempleo y las empresas que nunca tienen la intención de registrarse, las startups se refieren a los nuevos negocios que pretenden crecer más allá del fundador en solitario. Las startups se enfrentan a una gran incertidumbre y tienen altas tasas de fracaso, pero una minoría de ellas llega a tener éxito e influencia. Algunas startups se convierten en unicornios: empresas emergentes de propiedad privada valoradas en más de 1.000 millones de dólares. [Fuente de información: Wikipedia] </div>\n",
    "#### <div style=\"text-align: justify\"> Las startups desempeñan un papel fundamental en el crecimiento económico. Aportan nuevas ideas, estimulan la innovación y crean empleo, moviendo así la economía. En los últimos años se ha producido un crecimiento exponencial de las startups. Predecir el éxito de una startup permite a los inversores encontrar empresas con potencial de crecimiento rápido, lo que les permite ir un paso por delante de la competencia.\n",
    "</div>\n",
    "\n",
    "### **Objetivo**\n",
    "#### <div style=\"text-align: justify\"> El objetivo es predecir si una startup que está operando actualmente se convierte en un éxito o en un fracaso. El éxito de una empresa se define como el acontecimiento que proporciona a los fundadores de la empresa una gran suma de dinero a través del proceso de M&A (Merger and Acquisition) o de una IPO (Initial Public Offering). Una empresa se consideraría fracasada si tuviera que cerrar.</div>\n",
    "### **Inspiración**\n",
    "#### <div style=\"text-align: justify\"> Predecir el éxito de una startup permite a los inversores encontrar empresas con potencial de crecimiento rápido, lo que les permite ir un paso por delante de la competencia.</div>"
   ]
  },
  {
   "cell_type": "code",
   "execution_count": 1,
   "id": "mighty-insertion",
   "metadata": {},
   "outputs": [],
   "source": [
    "# Librerías\n",
    "import pandas as pd\n",
    "import numpy as np\n",
    "import matplotlib.pyplot as plt \n",
    "import seaborn as sns\n",
    "import matplotlib.dates as mdates # Permite controlar fechas en las visualizaciones\n",
    "from datetime import datetime\n",
    "\n",
    "# Estilo de los gráficos\n",
    "sns.set()\n",
    "\n",
    "# Scikit Learn & PCA\n",
    "from sklearn.decomposition import PCA\n",
    "from sklearn.decomposition import IncrementalPCA\n",
    "from sklearn.pipeline import make_pipeline\n",
    "from sklearn.preprocessing import StandardScaler\n",
    "from sklearn.preprocessing import scale\n",
    "from sklearn.model_selection import train_test_split\n",
    "from sklearn.tree import DecisionTreeClassifier\n",
    "from sklearn.metrics import accuracy_score\n",
    "from sklearn.metrics import confusion_matrix\n",
    "from sklearn.ensemble import RandomForestClassifier\n",
    "from sklearn.model_selection import GridSearchCV\n",
    "import xgboost as xgb\n",
    "from sklearn.linear_model import LogisticRegression\n",
    "from sklearn.metrics import plot_confusion_matrix\n",
    "\n",
    "# Ignorar warnings\n",
    "import warnings\n",
    "warnings.filterwarnings('ignore')"
   ]
  },
  {
   "cell_type": "code",
   "execution_count": 2,
   "id": "controlled-market",
   "metadata": {},
   "outputs": [],
   "source": [
    "# Defino función para hacer un preview del dataframe y obtener la forma del DataFrame\n",
    "def df_preview(df, n):\n",
    "    a = display(pd.concat([df.head(n), df.tail(n)]))\n",
    "    b = 'El dataframe contiene '+ str(df.shape[0]) + ' filas y ' + str(df.shape[1]) + ' columnas'\n",
    "    return b"
   ]
  },
  {
   "cell_type": "code",
   "execution_count": 3,
   "id": "commercial-development",
   "metadata": {},
   "outputs": [
    {
     "data": {
      "text/html": [
       "<div>\n",
       "<style scoped>\n",
       "    .dataframe tbody tr th:only-of-type {\n",
       "        vertical-align: middle;\n",
       "    }\n",
       "\n",
       "    .dataframe tbody tr th {\n",
       "        vertical-align: top;\n",
       "    }\n",
       "\n",
       "    .dataframe thead th {\n",
       "        text-align: right;\n",
       "    }\n",
       "</style>\n",
       "<table border=\"1\" class=\"dataframe\">\n",
       "  <thead>\n",
       "    <tr style=\"text-align: right;\">\n",
       "      <th></th>\n",
       "      <th>Unnamed: 0</th>\n",
       "      <th>state_code</th>\n",
       "      <th>latitude</th>\n",
       "      <th>longitude</th>\n",
       "      <th>zip_code</th>\n",
       "      <th>id</th>\n",
       "      <th>city</th>\n",
       "      <th>Unnamed: 6</th>\n",
       "      <th>name</th>\n",
       "      <th>labels</th>\n",
       "      <th>...</th>\n",
       "      <th>object_id</th>\n",
       "      <th>has_VC</th>\n",
       "      <th>has_angel</th>\n",
       "      <th>has_roundA</th>\n",
       "      <th>has_roundB</th>\n",
       "      <th>has_roundC</th>\n",
       "      <th>has_roundD</th>\n",
       "      <th>avg_participants</th>\n",
       "      <th>is_top500</th>\n",
       "      <th>status</th>\n",
       "    </tr>\n",
       "  </thead>\n",
       "  <tbody>\n",
       "    <tr>\n",
       "      <th>0</th>\n",
       "      <td>1005</td>\n",
       "      <td>CA</td>\n",
       "      <td>42.358880</td>\n",
       "      <td>-71.056820</td>\n",
       "      <td>92101</td>\n",
       "      <td>c:6669</td>\n",
       "      <td>San Diego</td>\n",
       "      <td>NaN</td>\n",
       "      <td>Bandsintown</td>\n",
       "      <td>1</td>\n",
       "      <td>...</td>\n",
       "      <td>c:6669</td>\n",
       "      <td>0</td>\n",
       "      <td>1</td>\n",
       "      <td>0</td>\n",
       "      <td>0</td>\n",
       "      <td>0</td>\n",
       "      <td>0</td>\n",
       "      <td>1.00</td>\n",
       "      <td>0</td>\n",
       "      <td>acquired</td>\n",
       "    </tr>\n",
       "    <tr>\n",
       "      <th>1</th>\n",
       "      <td>204</td>\n",
       "      <td>CA</td>\n",
       "      <td>37.238916</td>\n",
       "      <td>-121.973718</td>\n",
       "      <td>95032</td>\n",
       "      <td>c:16283</td>\n",
       "      <td>Los Gatos</td>\n",
       "      <td>NaN</td>\n",
       "      <td>TriCipher</td>\n",
       "      <td>1</td>\n",
       "      <td>...</td>\n",
       "      <td>c:16283</td>\n",
       "      <td>1</td>\n",
       "      <td>0</td>\n",
       "      <td>0</td>\n",
       "      <td>1</td>\n",
       "      <td>1</td>\n",
       "      <td>1</td>\n",
       "      <td>4.75</td>\n",
       "      <td>1</td>\n",
       "      <td>acquired</td>\n",
       "    </tr>\n",
       "    <tr>\n",
       "      <th>2</th>\n",
       "      <td>1001</td>\n",
       "      <td>CA</td>\n",
       "      <td>32.901049</td>\n",
       "      <td>-117.192656</td>\n",
       "      <td>92121</td>\n",
       "      <td>c:65620</td>\n",
       "      <td>San Diego</td>\n",
       "      <td>San Diego CA 92121</td>\n",
       "      <td>Plixi</td>\n",
       "      <td>1</td>\n",
       "      <td>...</td>\n",
       "      <td>c:65620</td>\n",
       "      <td>0</td>\n",
       "      <td>0</td>\n",
       "      <td>1</td>\n",
       "      <td>0</td>\n",
       "      <td>0</td>\n",
       "      <td>0</td>\n",
       "      <td>4.00</td>\n",
       "      <td>1</td>\n",
       "      <td>acquired</td>\n",
       "    </tr>\n",
       "    <tr>\n",
       "      <th>920</th>\n",
       "      <td>557</td>\n",
       "      <td>CA</td>\n",
       "      <td>37.408261</td>\n",
       "      <td>-122.015920</td>\n",
       "      <td>94089</td>\n",
       "      <td>c:31549</td>\n",
       "      <td>Sunnyvale</td>\n",
       "      <td>NaN</td>\n",
       "      <td>Paracor Medical</td>\n",
       "      <td>0</td>\n",
       "      <td>...</td>\n",
       "      <td>c:31549</td>\n",
       "      <td>0</td>\n",
       "      <td>0</td>\n",
       "      <td>0</td>\n",
       "      <td>0</td>\n",
       "      <td>0</td>\n",
       "      <td>1</td>\n",
       "      <td>8.00</td>\n",
       "      <td>1</td>\n",
       "      <td>closed</td>\n",
       "    </tr>\n",
       "    <tr>\n",
       "      <th>921</th>\n",
       "      <td>589</td>\n",
       "      <td>CA</td>\n",
       "      <td>37.556732</td>\n",
       "      <td>-122.288378</td>\n",
       "      <td>94404</td>\n",
       "      <td>c:33198</td>\n",
       "      <td>San Francisco</td>\n",
       "      <td>NaN</td>\n",
       "      <td>Causata</td>\n",
       "      <td>1</td>\n",
       "      <td>...</td>\n",
       "      <td>c:33198</td>\n",
       "      <td>0</td>\n",
       "      <td>0</td>\n",
       "      <td>1</td>\n",
       "      <td>1</td>\n",
       "      <td>0</td>\n",
       "      <td>0</td>\n",
       "      <td>1.00</td>\n",
       "      <td>1</td>\n",
       "      <td>acquired</td>\n",
       "    </tr>\n",
       "    <tr>\n",
       "      <th>922</th>\n",
       "      <td>462</td>\n",
       "      <td>CA</td>\n",
       "      <td>37.386778</td>\n",
       "      <td>-121.966277</td>\n",
       "      <td>95054</td>\n",
       "      <td>c:26702</td>\n",
       "      <td>Santa Clara</td>\n",
       "      <td>Santa Clara CA 95054</td>\n",
       "      <td>Asempra Technologies</td>\n",
       "      <td>1</td>\n",
       "      <td>...</td>\n",
       "      <td>c:26702</td>\n",
       "      <td>0</td>\n",
       "      <td>0</td>\n",
       "      <td>0</td>\n",
       "      <td>1</td>\n",
       "      <td>0</td>\n",
       "      <td>0</td>\n",
       "      <td>3.00</td>\n",
       "      <td>1</td>\n",
       "      <td>acquired</td>\n",
       "    </tr>\n",
       "  </tbody>\n",
       "</table>\n",
       "<p>6 rows × 49 columns</p>\n",
       "</div>"
      ],
      "text/plain": [
       "     Unnamed: 0 state_code   latitude   longitude zip_code       id  \\\n",
       "0          1005         CA  42.358880  -71.056820    92101   c:6669   \n",
       "1           204         CA  37.238916 -121.973718    95032  c:16283   \n",
       "2          1001         CA  32.901049 -117.192656    92121  c:65620   \n",
       "920         557         CA  37.408261 -122.015920    94089  c:31549   \n",
       "921         589         CA  37.556732 -122.288378    94404  c:33198   \n",
       "922         462         CA  37.386778 -121.966277    95054  c:26702   \n",
       "\n",
       "              city            Unnamed: 6                  name  labels  ...  \\\n",
       "0        San Diego                   NaN           Bandsintown       1  ...   \n",
       "1        Los Gatos                   NaN             TriCipher       1  ...   \n",
       "2        San Diego    San Diego CA 92121                 Plixi       1  ...   \n",
       "920      Sunnyvale                   NaN       Paracor Medical       0  ...   \n",
       "921  San Francisco                   NaN               Causata       1  ...   \n",
       "922    Santa Clara  Santa Clara CA 95054  Asempra Technologies       1  ...   \n",
       "\n",
       "    object_id has_VC has_angel has_roundA  has_roundB  has_roundC  has_roundD  \\\n",
       "0      c:6669      0         1          0           0           0           0   \n",
       "1     c:16283      1         0          0           1           1           1   \n",
       "2     c:65620      0         0          1           0           0           0   \n",
       "920   c:31549      0         0          0           0           0           1   \n",
       "921   c:33198      0         0          1           1           0           0   \n",
       "922   c:26702      0         0          0           1           0           0   \n",
       "\n",
       "     avg_participants  is_top500    status  \n",
       "0                1.00          0  acquired  \n",
       "1                4.75          1  acquired  \n",
       "2                4.00          1  acquired  \n",
       "920              8.00          1    closed  \n",
       "921              1.00          1  acquired  \n",
       "922              3.00          1  acquired  \n",
       "\n",
       "[6 rows x 49 columns]"
      ]
     },
     "metadata": {},
     "output_type": "display_data"
    },
    {
     "data": {
      "text/plain": [
       "'El dataframe contiene 923 filas y 49 columnas'"
      ]
     },
     "execution_count": 3,
     "metadata": {},
     "output_type": "execute_result"
    }
   ],
   "source": [
    "# Se carga el dataset\n",
    "df_1 = pd.read_csv('startup data.csv')\n",
    "df_preview(df_1, 3)"
   ]
  },
  {
   "cell_type": "markdown",
   "id": "humanitarian-debut",
   "metadata": {},
   "source": [
    "## Etapa Exploratoria de los Datos (EDA)"
   ]
  },
  {
   "cell_type": "markdown",
   "id": "rational-biotechnology",
   "metadata": {},
   "source": [
    "#### <div style=\"text-align: justify\"> El DataFrame contiene 923 registros de diferentes Start-ups caracterizadas por múltiples atributos (columnas) y una columna en particular llamada 'status' la cual indica si la misma fue un éxito (acquired) o un fracaso (closed) </div>"
   ]
  },
  {
   "cell_type": "code",
   "execution_count": 4,
   "id": "employed-jurisdiction",
   "metadata": {},
   "outputs": [
    {
     "data": {
      "text/plain": [
       "['Unnamed: 0',\n",
       " 'state_code',\n",
       " 'latitude',\n",
       " 'longitude',\n",
       " 'zip_code',\n",
       " 'id',\n",
       " 'city',\n",
       " 'Unnamed: 6',\n",
       " 'name',\n",
       " 'labels',\n",
       " 'founded_at',\n",
       " 'closed_at',\n",
       " 'first_funding_at',\n",
       " 'last_funding_at',\n",
       " 'age_first_funding_year',\n",
       " 'age_last_funding_year',\n",
       " 'age_first_milestone_year',\n",
       " 'age_last_milestone_year',\n",
       " 'relationships',\n",
       " 'funding_rounds',\n",
       " 'funding_total_usd',\n",
       " 'milestones',\n",
       " 'state_code.1',\n",
       " 'is_CA',\n",
       " 'is_NY',\n",
       " 'is_MA',\n",
       " 'is_TX',\n",
       " 'is_otherstate',\n",
       " 'category_code',\n",
       " 'is_software',\n",
       " 'is_web',\n",
       " 'is_mobile',\n",
       " 'is_enterprise',\n",
       " 'is_advertising',\n",
       " 'is_gamesvideo',\n",
       " 'is_ecommerce',\n",
       " 'is_biotech',\n",
       " 'is_consulting',\n",
       " 'is_othercategory',\n",
       " 'object_id',\n",
       " 'has_VC',\n",
       " 'has_angel',\n",
       " 'has_roundA',\n",
       " 'has_roundB',\n",
       " 'has_roundC',\n",
       " 'has_roundD',\n",
       " 'avg_participants',\n",
       " 'is_top500',\n",
       " 'status']"
      ]
     },
     "execution_count": 4,
     "metadata": {},
     "output_type": "execute_result"
    }
   ],
   "source": [
    "list(df_1.columns) # Devuelve una lista con el nombre de las 49 columnas que conforman al DataFrame"
   ]
  },
  {
   "cell_type": "code",
   "execution_count": 5,
   "id": "published-omega",
   "metadata": {},
   "outputs": [
    {
     "name": "stdout",
     "output_type": "stream",
     "text": [
      "<class 'pandas.core.frame.DataFrame'>\n",
      "RangeIndex: 923 entries, 0 to 922\n",
      "Data columns (total 49 columns):\n",
      " #   Column                    Non-Null Count  Dtype  \n",
      "---  ------                    --------------  -----  \n",
      " 0   Unnamed: 0                923 non-null    int64  \n",
      " 1   state_code                923 non-null    object \n",
      " 2   latitude                  923 non-null    float64\n",
      " 3   longitude                 923 non-null    float64\n",
      " 4   zip_code                  923 non-null    object \n",
      " 5   id                        923 non-null    object \n",
      " 6   city                      923 non-null    object \n",
      " 7   Unnamed: 6                430 non-null    object \n",
      " 8   name                      923 non-null    object \n",
      " 9   labels                    923 non-null    int64  \n",
      " 10  founded_at                923 non-null    object \n",
      " 11  closed_at                 335 non-null    object \n",
      " 12  first_funding_at          923 non-null    object \n",
      " 13  last_funding_at           923 non-null    object \n",
      " 14  age_first_funding_year    923 non-null    float64\n",
      " 15  age_last_funding_year     923 non-null    float64\n",
      " 16  age_first_milestone_year  771 non-null    float64\n",
      " 17  age_last_milestone_year   771 non-null    float64\n",
      " 18  relationships             923 non-null    int64  \n",
      " 19  funding_rounds            923 non-null    int64  \n",
      " 20  funding_total_usd         923 non-null    int64  \n",
      " 21  milestones                923 non-null    int64  \n",
      " 22  state_code.1              922 non-null    object \n",
      " 23  is_CA                     923 non-null    int64  \n",
      " 24  is_NY                     923 non-null    int64  \n",
      " 25  is_MA                     923 non-null    int64  \n",
      " 26  is_TX                     923 non-null    int64  \n",
      " 27  is_otherstate             923 non-null    int64  \n",
      " 28  category_code             923 non-null    object \n",
      " 29  is_software               923 non-null    int64  \n",
      " 30  is_web                    923 non-null    int64  \n",
      " 31  is_mobile                 923 non-null    int64  \n",
      " 32  is_enterprise             923 non-null    int64  \n",
      " 33  is_advertising            923 non-null    int64  \n",
      " 34  is_gamesvideo             923 non-null    int64  \n",
      " 35  is_ecommerce              923 non-null    int64  \n",
      " 36  is_biotech                923 non-null    int64  \n",
      " 37  is_consulting             923 non-null    int64  \n",
      " 38  is_othercategory          923 non-null    int64  \n",
      " 39  object_id                 923 non-null    object \n",
      " 40  has_VC                    923 non-null    int64  \n",
      " 41  has_angel                 923 non-null    int64  \n",
      " 42  has_roundA                923 non-null    int64  \n",
      " 43  has_roundB                923 non-null    int64  \n",
      " 44  has_roundC                923 non-null    int64  \n",
      " 45  has_roundD                923 non-null    int64  \n",
      " 46  avg_participants          923 non-null    float64\n",
      " 47  is_top500                 923 non-null    int64  \n",
      " 48  status                    923 non-null    object \n",
      "dtypes: float64(7), int64(28), object(14)\n",
      "memory usage: 353.5+ KB\n"
     ]
    }
   ],
   "source": [
    "df_1.info() # Devuelve información relevante sobre cada una de las columnas"
   ]
  },
  {
   "cell_type": "code",
   "execution_count": 6,
   "id": "fourth-following",
   "metadata": {},
   "outputs": [
    {
     "data": {
      "text/plain": [
       "array(['acquired', 'closed'], dtype=object)"
      ]
     },
     "execution_count": 6,
     "metadata": {},
     "output_type": "execute_result"
    }
   ],
   "source": [
    "df_1['status'].unique() # Se verifica que la columna 'status' es del tipo binaria"
   ]
  },
  {
   "cell_type": "code",
   "execution_count": 7,
   "id": "substantial-english",
   "metadata": {},
   "outputs": [
    {
     "data": {
      "text/plain": [
       "acquired    597\n",
       "closed      326\n",
       "Name: status, dtype: int64"
      ]
     },
     "execution_count": 7,
     "metadata": {},
     "output_type": "execute_result"
    }
   ],
   "source": [
    "df_1['status'].value_counts() # Se verifica que exista un cierto balance en los datos"
   ]
  },
  {
   "cell_type": "markdown",
   "id": "painted-tackle",
   "metadata": {},
   "source": [
    "### **Análisis de datos faltantes**\n",
    "#### Se analiza la cantidad de NAs por columna y su incidencia."
   ]
  },
  {
   "cell_type": "code",
   "execution_count": 8,
   "id": "greatest-narrow",
   "metadata": {},
   "outputs": [
    {
     "data": {
      "text/plain": [
       "Unnamed: 0                    0\n",
       "state_code                    0\n",
       "latitude                      0\n",
       "longitude                     0\n",
       "zip_code                      0\n",
       "id                            0\n",
       "city                          0\n",
       "Unnamed: 6                  493\n",
       "name                          0\n",
       "labels                        0\n",
       "founded_at                    0\n",
       "closed_at                   588\n",
       "first_funding_at              0\n",
       "last_funding_at               0\n",
       "age_first_funding_year        0\n",
       "age_last_funding_year         0\n",
       "age_first_milestone_year    152\n",
       "age_last_milestone_year     152\n",
       "relationships                 0\n",
       "funding_rounds                0\n",
       "funding_total_usd             0\n",
       "milestones                    0\n",
       "state_code.1                  1\n",
       "is_CA                         0\n",
       "is_NY                         0\n",
       "is_MA                         0\n",
       "is_TX                         0\n",
       "is_otherstate                 0\n",
       "category_code                 0\n",
       "is_software                   0\n",
       "is_web                        0\n",
       "is_mobile                     0\n",
       "is_enterprise                 0\n",
       "is_advertising                0\n",
       "is_gamesvideo                 0\n",
       "is_ecommerce                  0\n",
       "is_biotech                    0\n",
       "is_consulting                 0\n",
       "is_othercategory              0\n",
       "object_id                     0\n",
       "has_VC                        0\n",
       "has_angel                     0\n",
       "has_roundA                    0\n",
       "has_roundB                    0\n",
       "has_roundC                    0\n",
       "has_roundD                    0\n",
       "avg_participants              0\n",
       "is_top500                     0\n",
       "status                        0\n",
       "dtype: int64"
      ]
     },
     "execution_count": 8,
     "metadata": {},
     "output_type": "execute_result"
    }
   ],
   "source": [
    "df_1.isnull().sum()"
   ]
  },
  {
   "cell_type": "code",
   "execution_count": 9,
   "id": "powered-collection",
   "metadata": {},
   "outputs": [
    {
     "name": "stdout",
     "output_type": "stream",
     "text": [
      "[('closed_at', 588), ('Unnamed: 6', 493), ('age_first_milestone_year', 152), ('age_last_milestone_year', 152), ('state_code.1', 1)]\n"
     ]
    }
   ],
   "source": [
    "dict_1 = df_1.isnull().sum().to_dict()\n",
    "list_na = [] # Inicio lista para incluir las columnas que contengan NAs\n",
    "for key, value in dict_1.items():\n",
    "            if value > 0:\n",
    "                list_na.append((key, value))\n",
    "\n",
    "# Print de la lista que contiene NAs ordenados de mayor a menor\n",
    "list_na = sorted(list_na, key=lambda x: x[1], reverse=True)\n",
    "print(list_na)"
   ]
  },
  {
   "cell_type": "markdown",
   "id": "otherwise-filing",
   "metadata": {},
   "source": [
    "#### Como se puede ver predominan los NAs en las primeras 4 columnas, mientras que en 'state_code.1' se podría decir que es insignificante."
   ]
  },
  {
   "cell_type": "markdown",
   "id": "bizarre-worse",
   "metadata": {},
   "source": [
    "## **EDA - Análisis Univariado**"
   ]
  },
  {
   "cell_type": "markdown",
   "id": "measured-afghanistan",
   "metadata": {},
   "source": [
    "#### A continuación, para identificar valores anómalos, se harán boxplots con distintas variables."
   ]
  },
  {
   "cell_type": "code",
   "execution_count": 10,
   "id": "decreased-regulation",
   "metadata": {},
   "outputs": [
    {
     "data": {
      "text/plain": [
       "<AxesSubplot:ylabel='age_first_funding_year'>"
      ]
     },
     "execution_count": 10,
     "metadata": {},
     "output_type": "execute_result"
    },
    {
     "data": {
      "image/png": "[encoded data removed]",
      "text/plain": [
       "<Figure size 432x288 with 1 Axes>"
      ]
     },
     "metadata": {},
     "output_type": "display_data"
    }
   ],
   "source": [
    "# Tiempo que llevaba abierta la compañía al momento de la primera inversión\n",
    "sns.boxplot(y = 'age_first_funding_year',  data = df_1)"
   ]
  },
  {
   "cell_type": "code",
   "execution_count": 11,
   "id": "pressing-liverpool",
   "metadata": {},
   "outputs": [
    {
     "data": {
      "text/plain": [
       "<AxesSubplot:ylabel='age_last_funding_year'>"
      ]
     },
     "execution_count": 11,
     "metadata": {},
     "output_type": "execute_result"
    },
    {
     "data": {
      "image/png": "[encoded data removed]",
      "text/plain": [
       "<Figure size 432x288 with 1 Axes>"
      ]
     },
     "metadata": {},
     "output_type": "display_data"
    }
   ],
   "source": [
    "# Tiempo que llevaba abierta la compañía al momento de la última inversión\n",
    "sns.boxplot(y = 'age_last_funding_year', data = df_1)"
   ]
  },
  {
   "cell_type": "code",
   "execution_count": 12,
   "id": "tutorial-meditation",
   "metadata": {},
   "outputs": [
    {
     "data": {
      "text/plain": [
       "<AxesSubplot:ylabel='age_first_milestone_year'>"
      ]
     },
     "execution_count": 12,
     "metadata": {},
     "output_type": "execute_result"
    },
    {
     "data": {
      "image/png": "[encoded data removed]",
      "text/plain": [
       "<Figure size 432x288 with 1 Axes>"
      ]
     },
     "metadata": {},
     "output_type": "display_data"
    }
   ],
   "source": [
    "# Tiempo que llevaba abierta la compañía al momento del primer hito alcanzado\n",
    "sns.boxplot(y = 'age_first_milestone_year', data = df_1)"
   ]
  },
  {
   "cell_type": "code",
   "execution_count": 13,
   "id": "reasonable-monday",
   "metadata": {},
   "outputs": [
    {
     "data": {
      "text/plain": [
       "<AxesSubplot:ylabel='age_last_milestone_year'>"
      ]
     },
     "execution_count": 13,
     "metadata": {},
     "output_type": "execute_result"
    },
    {
     "data": {
      "image/png": "[encoded data removed]",
      "text/plain": [
       "<Figure size 432x288 with 1 Axes>"
      ]
     },
     "metadata": {},
     "output_type": "display_data"
    }
   ],
   "source": [
    "# Tiempo que llevaba abierta la compañía al momento del último hito alcanzado\n",
    "sns.boxplot(y = 'age_last_milestone_year', data = df_1)"
   ]
  },
  {
   "cell_type": "markdown",
   "id": "cathedral-infection",
   "metadata": {},
   "source": [
    "#### Fecha de fundación de cada una de las start-ups"
   ]
  },
  {
   "cell_type": "code",
   "execution_count": 14,
   "id": "capable-regular",
   "metadata": {},
   "outputs": [
    {
     "data": {
      "text/plain": [
       "0       1/1/2007\n",
       "1       1/1/2000\n",
       "2      3/18/2009\n",
       "3       1/1/2002\n",
       "4       8/1/2010\n",
       "         ...    \n",
       "918     1/1/2009\n",
       "919     1/1/1998\n",
       "920     1/1/1999\n",
       "921     1/1/2009\n",
       "922     1/1/2003\n",
       "Name: founded_at, Length: 923, dtype: object"
      ]
     },
     "execution_count": 14,
     "metadata": {},
     "output_type": "execute_result"
    }
   ],
   "source": [
    "# La columna 'founded_at' indica la fecha de fundación de c/u\n",
    "df_1['founded_at']"
   ]
  },
  {
   "cell_type": "code",
   "execution_count": 15,
   "id": "broad-wisconsin",
   "metadata": {},
   "outputs": [
    {
     "data": {
      "text/plain": [
       "0     2007-01-01\n",
       "1     2000-01-01\n",
       "2     2009-03-18\n",
       "3     2002-01-01\n",
       "4     2010-08-01\n",
       "         ...    \n",
       "918   2009-01-01\n",
       "919   1998-01-01\n",
       "920   1999-01-01\n",
       "921   2009-01-01\n",
       "922   2003-01-01\n",
       "Name: founded_at, Length: 923, dtype: datetime64[ns]"
      ]
     },
     "execution_count": 15,
     "metadata": {},
     "output_type": "execute_result"
    }
   ],
   "source": [
    "# Se modifica a tipo DateTime\n",
    "df_1['founded_at'] = pd.to_datetime(df_1['founded_at'])\n",
    "df_1['founded_at']"
   ]
  },
  {
   "cell_type": "code",
   "execution_count": 16,
   "id": "vocational-institution",
   "metadata": {},
   "outputs": [
    {
     "data": {
      "text/plain": [
       "0      2007\n",
       "1      2000\n",
       "2      2009\n",
       "3      2002\n",
       "4      2010\n",
       "       ... \n",
       "918    2009\n",
       "919    1998\n",
       "920    1999\n",
       "921    2009\n",
       "922    2003\n",
       "Name: foundation_year, Length: 923, dtype: int64"
      ]
     },
     "execution_count": 16,
     "metadata": {},
     "output_type": "execute_result"
    }
   ],
   "source": [
    "# Creo una nueva columna que indique el año en que fue creada c/u\n",
    "df_1['foundation_year'] = df_1['founded_at'].dt.year\n",
    "df_1['foundation_year'] # La columna 'foundation_year' pasa a ser un integer"
   ]
  },
  {
   "cell_type": "code",
   "execution_count": 17,
   "id": "dedicated-flooring",
   "metadata": {},
   "outputs": [
    {
     "data": {
      "text/html": [
       "<div>\n",
       "<style scoped>\n",
       "    .dataframe tbody tr th:only-of-type {\n",
       "        vertical-align: middle;\n",
       "    }\n",
       "\n",
       "    .dataframe tbody tr th {\n",
       "        vertical-align: top;\n",
       "    }\n",
       "\n",
       "    .dataframe thead th {\n",
       "        text-align: right;\n",
       "    }\n",
       "</style>\n",
       "<table border=\"1\" class=\"dataframe\">\n",
       "  <thead>\n",
       "    <tr style=\"text-align: right;\">\n",
       "      <th></th>\n",
       "      <th>foundation_year</th>\n",
       "      <th>name</th>\n",
       "    </tr>\n",
       "  </thead>\n",
       "  <tbody>\n",
       "    <tr>\n",
       "      <th>0</th>\n",
       "      <td>2007</td>\n",
       "      <td>Bandsintown</td>\n",
       "    </tr>\n",
       "    <tr>\n",
       "      <th>1</th>\n",
       "      <td>2000</td>\n",
       "      <td>TriCipher</td>\n",
       "    </tr>\n",
       "    <tr>\n",
       "      <th>2</th>\n",
       "      <td>2009</td>\n",
       "      <td>Plixi</td>\n",
       "    </tr>\n",
       "    <tr>\n",
       "      <th>920</th>\n",
       "      <td>1999</td>\n",
       "      <td>Paracor Medical</td>\n",
       "    </tr>\n",
       "    <tr>\n",
       "      <th>921</th>\n",
       "      <td>2009</td>\n",
       "      <td>Causata</td>\n",
       "    </tr>\n",
       "    <tr>\n",
       "      <th>922</th>\n",
       "      <td>2003</td>\n",
       "      <td>Asempra Technologies</td>\n",
       "    </tr>\n",
       "  </tbody>\n",
       "</table>\n",
       "</div>"
      ],
      "text/plain": [
       "     foundation_year                  name\n",
       "0               2007           Bandsintown\n",
       "1               2000             TriCipher\n",
       "2               2009                 Plixi\n",
       "920             1999       Paracor Medical\n",
       "921             2009               Causata\n",
       "922             2003  Asempra Technologies"
      ]
     },
     "metadata": {},
     "output_type": "display_data"
    },
    {
     "data": {
      "text/plain": [
       "'El dataframe contiene 923 filas y 2 columnas'"
      ]
     },
     "execution_count": 17,
     "metadata": {},
     "output_type": "execute_result"
    }
   ],
   "source": [
    "# Creo un nuevo DF con el año de fundación y nombre de c/u\n",
    "df_foundation = df_1[['foundation_year', 'name']]\n",
    "df_preview(df_foundation, 3)"
   ]
  },
  {
   "cell_type": "code",
   "execution_count": 18,
   "id": "nuclear-carroll",
   "metadata": {},
   "outputs": [
    {
     "data": {
      "image/png": "[encoded data removed]",
      "text/plain": [
       "<Figure size 1440x720 with 1 Axes>"
      ]
     },
     "metadata": {},
     "output_type": "display_data"
    }
   ],
   "source": [
    "# Graficar la fecha de fundación de cada una de las start-ups\n",
    "fig, ax = plt.subplots(figsize=(20, 10))\n",
    "\n",
    "ax = sns.scatterplot(data=df_foundation, x='foundation_year', y='name',\n",
    "                     hue='foundation_year', palette='deep', legend=False)\n",
    "\n",
    "ax.set_title('Start-ups fundadas por año', fontsize=14,fontweight='bold')\n",
    "ax.set_xlabel('Año de Fundación', fontsize=12, fontweight='bold')\n",
    "ax.set(\n",
    "       ylabel=None,\n",
    "       yticks=[],\n",
    "       xticks=np.arange(df_foundation['foundation_year'].min(),\n",
    "                        df_foundation['foundation_year'].max() + 1, 1 )\n",
    "      )\n",
    "\n",
    "\n",
    "plt.show();"
   ]
  },
  {
   "cell_type": "markdown",
   "id": "noble-sculpture",
   "metadata": {},
   "source": [
    "#### Se puede ver que el rango de fundación (en escala anual) es desde 1984 a 2013 y que en ciertos años no se fundaron Start-Ups."
   ]
  },
  {
   "cell_type": "code",
   "execution_count": 19,
   "id": "formal-schedule",
   "metadata": {},
   "outputs": [
    {
     "data": {
      "text/html": [
       "<div>\n",
       "<style scoped>\n",
       "    .dataframe tbody tr th:only-of-type {\n",
       "        vertical-align: middle;\n",
       "    }\n",
       "\n",
       "    .dataframe tbody tr th {\n",
       "        vertical-align: top;\n",
       "    }\n",
       "\n",
       "    .dataframe thead tr th {\n",
       "        text-align: left;\n",
       "    }\n",
       "\n",
       "    .dataframe thead tr:last-of-type th {\n",
       "        text-align: right;\n",
       "    }\n",
       "</style>\n",
       "<table border=\"1\" class=\"dataframe\">\n",
       "  <thead>\n",
       "    <tr>\n",
       "      <th></th>\n",
       "      <th>name</th>\n",
       "    </tr>\n",
       "    <tr>\n",
       "      <th></th>\n",
       "      <th>count</th>\n",
       "    </tr>\n",
       "    <tr>\n",
       "      <th>foundation_year</th>\n",
       "      <th></th>\n",
       "    </tr>\n",
       "  </thead>\n",
       "  <tbody>\n",
       "    <tr>\n",
       "      <th>1984</th>\n",
       "      <td>1</td>\n",
       "    </tr>\n",
       "    <tr>\n",
       "      <th>1985</th>\n",
       "      <td>1</td>\n",
       "    </tr>\n",
       "    <tr>\n",
       "      <th>1990</th>\n",
       "      <td>1</td>\n",
       "    </tr>\n",
       "    <tr>\n",
       "      <th>1992</th>\n",
       "      <td>1</td>\n",
       "    </tr>\n",
       "    <tr>\n",
       "      <th>1995</th>\n",
       "      <td>1</td>\n",
       "    </tr>\n",
       "    <tr>\n",
       "      <th>1996</th>\n",
       "      <td>3</td>\n",
       "    </tr>\n",
       "    <tr>\n",
       "      <th>1997</th>\n",
       "      <td>3</td>\n",
       "    </tr>\n",
       "    <tr>\n",
       "      <th>1998</th>\n",
       "      <td>4</td>\n",
       "    </tr>\n",
       "    <tr>\n",
       "      <th>1999</th>\n",
       "      <td>11</td>\n",
       "    </tr>\n",
       "    <tr>\n",
       "      <th>2000</th>\n",
       "      <td>65</td>\n",
       "    </tr>\n",
       "    <tr>\n",
       "      <th>2001</th>\n",
       "      <td>41</td>\n",
       "    </tr>\n",
       "    <tr>\n",
       "      <th>2002</th>\n",
       "      <td>58</td>\n",
       "    </tr>\n",
       "    <tr>\n",
       "      <th>2003</th>\n",
       "      <td>64</td>\n",
       "    </tr>\n",
       "    <tr>\n",
       "      <th>2004</th>\n",
       "      <td>71</td>\n",
       "    </tr>\n",
       "    <tr>\n",
       "      <th>2005</th>\n",
       "      <td>102</td>\n",
       "    </tr>\n",
       "    <tr>\n",
       "      <th>2006</th>\n",
       "      <td>107</td>\n",
       "    </tr>\n",
       "    <tr>\n",
       "      <th>2007</th>\n",
       "      <td>104</td>\n",
       "    </tr>\n",
       "    <tr>\n",
       "      <th>2008</th>\n",
       "      <td>87</td>\n",
       "    </tr>\n",
       "    <tr>\n",
       "      <th>2009</th>\n",
       "      <td>82</td>\n",
       "    </tr>\n",
       "    <tr>\n",
       "      <th>2010</th>\n",
       "      <td>72</td>\n",
       "    </tr>\n",
       "    <tr>\n",
       "      <th>2011</th>\n",
       "      <td>31</td>\n",
       "    </tr>\n",
       "    <tr>\n",
       "      <th>2012</th>\n",
       "      <td>10</td>\n",
       "    </tr>\n",
       "    <tr>\n",
       "      <th>2013</th>\n",
       "      <td>3</td>\n",
       "    </tr>\n",
       "  </tbody>\n",
       "</table>\n",
       "</div>"
      ],
      "text/plain": [
       "                 name\n",
       "                count\n",
       "foundation_year      \n",
       "1984                1\n",
       "1985                1\n",
       "1990                1\n",
       "1992                1\n",
       "1995                1\n",
       "1996                3\n",
       "1997                3\n",
       "1998                4\n",
       "1999               11\n",
       "2000               65\n",
       "2001               41\n",
       "2002               58\n",
       "2003               64\n",
       "2004               71\n",
       "2005              102\n",
       "2006              107\n",
       "2007              104\n",
       "2008               87\n",
       "2009               82\n",
       "2010               72\n",
       "2011               31\n",
       "2012               10\n",
       "2013                3"
      ]
     },
     "execution_count": 19,
     "metadata": {},
     "output_type": "execute_result"
    }
   ],
   "source": [
    "# Groupby year and count\n",
    "df_foundation.groupby('foundation_year').agg({'count'})"
   ]
  },
  {
   "cell_type": "code",
   "execution_count": 20,
   "id": "secure-planning",
   "metadata": {},
   "outputs": [
    {
     "name": "stdout",
     "output_type": "stream",
     "text": [
      "name  count    107\n",
      "dtype: int64 name  count    2006\n",
      "dtype: int64\n"
     ]
    }
   ],
   "source": [
    "# Get: El año en que más Start-Ups se fundaron\n",
    "print(df_foundation.groupby('foundation_year').agg({'count'}).max(), \n",
    "      df_foundation.groupby('foundation_year').agg({'count'}).idxmax()\n",
    "     )"
   ]
  },
  {
   "cell_type": "code",
   "execution_count": 21,
   "id": "characteristic-lucas",
   "metadata": {},
   "outputs": [],
   "source": [
    "# Agrupar por rubro y contar"
   ]
  },
  {
   "cell_type": "code",
   "execution_count": 22,
   "id": "sized-robin",
   "metadata": {},
   "outputs": [
    {
     "data": {
      "text/plain": [
       "0            music\n",
       "1       enterprise\n",
       "2              web\n",
       "3         software\n",
       "4      games_video\n",
       "          ...     \n",
       "918    advertising\n",
       "919       security\n",
       "920        biotech\n",
       "921       software\n",
       "922       security\n",
       "Name: category_code, Length: 923, dtype: object"
      ]
     },
     "execution_count": 22,
     "metadata": {},
     "output_type": "execute_result"
    }
   ],
   "source": [
    "df_1['category_code'] # La columna 'category_code' indica el rubro al cual pertenece c/u"
   ]
  },
  {
   "cell_type": "code",
   "execution_count": 23,
   "id": "collectible-business",
   "metadata": {},
   "outputs": [
    {
     "data": {
      "text/html": [
       "<div>\n",
       "<style scoped>\n",
       "    .dataframe tbody tr th:only-of-type {\n",
       "        vertical-align: middle;\n",
       "    }\n",
       "\n",
       "    .dataframe tbody tr th {\n",
       "        vertical-align: top;\n",
       "    }\n",
       "\n",
       "    .dataframe thead th {\n",
       "        text-align: right;\n",
       "    }\n",
       "</style>\n",
       "<table border=\"1\" class=\"dataframe\">\n",
       "  <thead>\n",
       "    <tr style=\"text-align: right;\">\n",
       "      <th></th>\n",
       "      <th>Rubro</th>\n",
       "      <th>Count</th>\n",
       "    </tr>\n",
       "  </thead>\n",
       "  <tbody>\n",
       "    <tr>\n",
       "      <th>0</th>\n",
       "      <td>software</td>\n",
       "      <td>153</td>\n",
       "    </tr>\n",
       "    <tr>\n",
       "      <th>1</th>\n",
       "      <td>web</td>\n",
       "      <td>144</td>\n",
       "    </tr>\n",
       "    <tr>\n",
       "      <th>2</th>\n",
       "      <td>mobile</td>\n",
       "      <td>79</td>\n",
       "    </tr>\n",
       "    <tr>\n",
       "      <th>3</th>\n",
       "      <td>enterprise</td>\n",
       "      <td>73</td>\n",
       "    </tr>\n",
       "    <tr>\n",
       "      <th>4</th>\n",
       "      <td>advertising</td>\n",
       "      <td>62</td>\n",
       "    </tr>\n",
       "    <tr>\n",
       "      <th>5</th>\n",
       "      <td>games_video</td>\n",
       "      <td>52</td>\n",
       "    </tr>\n",
       "    <tr>\n",
       "      <th>6</th>\n",
       "      <td>semiconductor</td>\n",
       "      <td>35</td>\n",
       "    </tr>\n",
       "    <tr>\n",
       "      <th>7</th>\n",
       "      <td>network_hosting</td>\n",
       "      <td>34</td>\n",
       "    </tr>\n",
       "    <tr>\n",
       "      <th>8</th>\n",
       "      <td>biotech</td>\n",
       "      <td>34</td>\n",
       "    </tr>\n",
       "    <tr>\n",
       "      <th>9</th>\n",
       "      <td>hardware</td>\n",
       "      <td>27</td>\n",
       "    </tr>\n",
       "    <tr>\n",
       "      <th>10</th>\n",
       "      <td>public_relations</td>\n",
       "      <td>25</td>\n",
       "    </tr>\n",
       "    <tr>\n",
       "      <th>11</th>\n",
       "      <td>ecommerce</td>\n",
       "      <td>25</td>\n",
       "    </tr>\n",
       "    <tr>\n",
       "      <th>12</th>\n",
       "      <td>cleantech</td>\n",
       "      <td>23</td>\n",
       "    </tr>\n",
       "    <tr>\n",
       "      <th>13</th>\n",
       "      <td>security</td>\n",
       "      <td>19</td>\n",
       "    </tr>\n",
       "    <tr>\n",
       "      <th>14</th>\n",
       "      <td>analytics</td>\n",
       "      <td>19</td>\n",
       "    </tr>\n",
       "    <tr>\n",
       "      <th>15</th>\n",
       "      <td>social</td>\n",
       "      <td>14</td>\n",
       "    </tr>\n",
       "    <tr>\n",
       "      <th>16</th>\n",
       "      <td>search</td>\n",
       "      <td>12</td>\n",
       "    </tr>\n",
       "    <tr>\n",
       "      <th>17</th>\n",
       "      <td>other</td>\n",
       "      <td>11</td>\n",
       "    </tr>\n",
       "    <tr>\n",
       "      <th>18</th>\n",
       "      <td>messaging</td>\n",
       "      <td>11</td>\n",
       "    </tr>\n",
       "    <tr>\n",
       "      <th>19</th>\n",
       "      <td>news</td>\n",
       "      <td>8</td>\n",
       "    </tr>\n",
       "    <tr>\n",
       "      <th>20</th>\n",
       "      <td>fashion</td>\n",
       "      <td>8</td>\n",
       "    </tr>\n",
       "    <tr>\n",
       "      <th>21</th>\n",
       "      <td>travel</td>\n",
       "      <td>8</td>\n",
       "    </tr>\n",
       "    <tr>\n",
       "      <th>22</th>\n",
       "      <td>medical</td>\n",
       "      <td>7</td>\n",
       "    </tr>\n",
       "    <tr>\n",
       "      <th>23</th>\n",
       "      <td>photo_video</td>\n",
       "      <td>7</td>\n",
       "    </tr>\n",
       "    <tr>\n",
       "      <th>24</th>\n",
       "      <td>music</td>\n",
       "      <td>6</td>\n",
       "    </tr>\n",
       "    <tr>\n",
       "      <th>25</th>\n",
       "      <td>finance</td>\n",
       "      <td>6</td>\n",
       "    </tr>\n",
       "    <tr>\n",
       "      <th>26</th>\n",
       "      <td>education</td>\n",
       "      <td>4</td>\n",
       "    </tr>\n",
       "    <tr>\n",
       "      <th>27</th>\n",
       "      <td>real_estate</td>\n",
       "      <td>3</td>\n",
       "    </tr>\n",
       "    <tr>\n",
       "      <th>28</th>\n",
       "      <td>health</td>\n",
       "      <td>3</td>\n",
       "    </tr>\n",
       "    <tr>\n",
       "      <th>29</th>\n",
       "      <td>consulting</td>\n",
       "      <td>3</td>\n",
       "    </tr>\n",
       "    <tr>\n",
       "      <th>30</th>\n",
       "      <td>manufacturing</td>\n",
       "      <td>2</td>\n",
       "    </tr>\n",
       "    <tr>\n",
       "      <th>31</th>\n",
       "      <td>automotive</td>\n",
       "      <td>2</td>\n",
       "    </tr>\n",
       "    <tr>\n",
       "      <th>32</th>\n",
       "      <td>transportation</td>\n",
       "      <td>2</td>\n",
       "    </tr>\n",
       "    <tr>\n",
       "      <th>33</th>\n",
       "      <td>hospitality</td>\n",
       "      <td>1</td>\n",
       "    </tr>\n",
       "    <tr>\n",
       "      <th>34</th>\n",
       "      <td>sports</td>\n",
       "      <td>1</td>\n",
       "    </tr>\n",
       "  </tbody>\n",
       "</table>\n",
       "</div>"
      ],
      "text/plain": [
       "               Rubro  Count\n",
       "0           software    153\n",
       "1                web    144\n",
       "2             mobile     79\n",
       "3         enterprise     73\n",
       "4        advertising     62\n",
       "5        games_video     52\n",
       "6      semiconductor     35\n",
       "7    network_hosting     34\n",
       "8            biotech     34\n",
       "9           hardware     27\n",
       "10  public_relations     25\n",
       "11         ecommerce     25\n",
       "12         cleantech     23\n",
       "13          security     19\n",
       "14         analytics     19\n",
       "15            social     14\n",
       "16            search     12\n",
       "17             other     11\n",
       "18         messaging     11\n",
       "19              news      8\n",
       "20           fashion      8\n",
       "21            travel      8\n",
       "22           medical      7\n",
       "23       photo_video      7\n",
       "24             music      6\n",
       "25           finance      6\n",
       "26         education      4\n",
       "27       real_estate      3\n",
       "28            health      3\n",
       "29        consulting      3\n",
       "30     manufacturing      2\n",
       "31        automotive      2\n",
       "32    transportation      2\n",
       "33       hospitality      1\n",
       "34            sports      1"
      ]
     },
     "metadata": {},
     "output_type": "display_data"
    }
   ],
   "source": [
    "_ = df_1.groupby('category_code').agg({'name' : 'count'}).sort_values(by='name', ascending=False).reset_index()\n",
    "_ = _.rename(columns={'category_code' : 'Rubro',\n",
    "                      'name':'Count'})\n",
    "display(_)"
   ]
  },
  {
   "cell_type": "code",
   "execution_count": 24,
   "id": "processed-alfred",
   "metadata": {},
   "outputs": [
    {
     "data": {
      "text/html": [
       "<div>\n",
       "<style scoped>\n",
       "    .dataframe tbody tr th:only-of-type {\n",
       "        vertical-align: middle;\n",
       "    }\n",
       "\n",
       "    .dataframe tbody tr th {\n",
       "        vertical-align: top;\n",
       "    }\n",
       "\n",
       "    .dataframe thead th {\n",
       "        text-align: right;\n",
       "    }\n",
       "</style>\n",
       "<table border=\"1\" class=\"dataframe\">\n",
       "  <thead>\n",
       "    <tr style=\"text-align: right;\">\n",
       "      <th></th>\n",
       "      <th>Rubro</th>\n",
       "      <th>Count</th>\n",
       "    </tr>\n",
       "  </thead>\n",
       "  <tbody>\n",
       "    <tr>\n",
       "      <th>0</th>\n",
       "      <td>Software</td>\n",
       "      <td>153</td>\n",
       "    </tr>\n",
       "    <tr>\n",
       "      <th>1</th>\n",
       "      <td>Web</td>\n",
       "      <td>144</td>\n",
       "    </tr>\n",
       "    <tr>\n",
       "      <th>2</th>\n",
       "      <td>Mobile</td>\n",
       "      <td>79</td>\n",
       "    </tr>\n",
       "    <tr>\n",
       "      <th>3</th>\n",
       "      <td>Enterprise</td>\n",
       "      <td>73</td>\n",
       "    </tr>\n",
       "    <tr>\n",
       "      <th>4</th>\n",
       "      <td>Advertising</td>\n",
       "      <td>62</td>\n",
       "    </tr>\n",
       "    <tr>\n",
       "      <th>5</th>\n",
       "      <td>Games video</td>\n",
       "      <td>52</td>\n",
       "    </tr>\n",
       "    <tr>\n",
       "      <th>6</th>\n",
       "      <td>Semiconductor</td>\n",
       "      <td>35</td>\n",
       "    </tr>\n",
       "    <tr>\n",
       "      <th>7</th>\n",
       "      <td>Network hosting</td>\n",
       "      <td>34</td>\n",
       "    </tr>\n",
       "    <tr>\n",
       "      <th>8</th>\n",
       "      <td>Biotech</td>\n",
       "      <td>34</td>\n",
       "    </tr>\n",
       "    <tr>\n",
       "      <th>9</th>\n",
       "      <td>Hardware</td>\n",
       "      <td>27</td>\n",
       "    </tr>\n",
       "    <tr>\n",
       "      <th>10</th>\n",
       "      <td>Public relations</td>\n",
       "      <td>25</td>\n",
       "    </tr>\n",
       "    <tr>\n",
       "      <th>11</th>\n",
       "      <td>Ecommerce</td>\n",
       "      <td>25</td>\n",
       "    </tr>\n",
       "    <tr>\n",
       "      <th>12</th>\n",
       "      <td>Cleantech</td>\n",
       "      <td>23</td>\n",
       "    </tr>\n",
       "    <tr>\n",
       "      <th>13</th>\n",
       "      <td>Security</td>\n",
       "      <td>19</td>\n",
       "    </tr>\n",
       "    <tr>\n",
       "      <th>14</th>\n",
       "      <td>Analytics</td>\n",
       "      <td>19</td>\n",
       "    </tr>\n",
       "    <tr>\n",
       "      <th>15</th>\n",
       "      <td>Social</td>\n",
       "      <td>14</td>\n",
       "    </tr>\n",
       "    <tr>\n",
       "      <th>16</th>\n",
       "      <td>Search</td>\n",
       "      <td>12</td>\n",
       "    </tr>\n",
       "    <tr>\n",
       "      <th>17</th>\n",
       "      <td>Other</td>\n",
       "      <td>11</td>\n",
       "    </tr>\n",
       "    <tr>\n",
       "      <th>18</th>\n",
       "      <td>Messaging</td>\n",
       "      <td>11</td>\n",
       "    </tr>\n",
       "    <tr>\n",
       "      <th>19</th>\n",
       "      <td>News</td>\n",
       "      <td>8</td>\n",
       "    </tr>\n",
       "    <tr>\n",
       "      <th>20</th>\n",
       "      <td>Fashion</td>\n",
       "      <td>8</td>\n",
       "    </tr>\n",
       "    <tr>\n",
       "      <th>21</th>\n",
       "      <td>Travel</td>\n",
       "      <td>8</td>\n",
       "    </tr>\n",
       "    <tr>\n",
       "      <th>22</th>\n",
       "      <td>Medical</td>\n",
       "      <td>7</td>\n",
       "    </tr>\n",
       "    <tr>\n",
       "      <th>23</th>\n",
       "      <td>Photo video</td>\n",
       "      <td>7</td>\n",
       "    </tr>\n",
       "    <tr>\n",
       "      <th>24</th>\n",
       "      <td>Music</td>\n",
       "      <td>6</td>\n",
       "    </tr>\n",
       "    <tr>\n",
       "      <th>25</th>\n",
       "      <td>Finance</td>\n",
       "      <td>6</td>\n",
       "    </tr>\n",
       "    <tr>\n",
       "      <th>26</th>\n",
       "      <td>Education</td>\n",
       "      <td>4</td>\n",
       "    </tr>\n",
       "    <tr>\n",
       "      <th>27</th>\n",
       "      <td>Real estate</td>\n",
       "      <td>3</td>\n",
       "    </tr>\n",
       "    <tr>\n",
       "      <th>28</th>\n",
       "      <td>Health</td>\n",
       "      <td>3</td>\n",
       "    </tr>\n",
       "    <tr>\n",
       "      <th>29</th>\n",
       "      <td>Consulting</td>\n",
       "      <td>3</td>\n",
       "    </tr>\n",
       "    <tr>\n",
       "      <th>30</th>\n",
       "      <td>Manufacturing</td>\n",
       "      <td>2</td>\n",
       "    </tr>\n",
       "    <tr>\n",
       "      <th>31</th>\n",
       "      <td>Automotive</td>\n",
       "      <td>2</td>\n",
       "    </tr>\n",
       "    <tr>\n",
       "      <th>32</th>\n",
       "      <td>Transportation</td>\n",
       "      <td>2</td>\n",
       "    </tr>\n",
       "    <tr>\n",
       "      <th>33</th>\n",
       "      <td>Hospitality</td>\n",
       "      <td>1</td>\n",
       "    </tr>\n",
       "    <tr>\n",
       "      <th>34</th>\n",
       "      <td>Sports</td>\n",
       "      <td>1</td>\n",
       "    </tr>\n",
       "  </tbody>\n",
       "</table>\n",
       "</div>"
      ],
      "text/plain": [
       "               Rubro  Count\n",
       "0           Software    153\n",
       "1                Web    144\n",
       "2             Mobile     79\n",
       "3         Enterprise     73\n",
       "4        Advertising     62\n",
       "5        Games video     52\n",
       "6      Semiconductor     35\n",
       "7    Network hosting     34\n",
       "8            Biotech     34\n",
       "9           Hardware     27\n",
       "10  Public relations     25\n",
       "11         Ecommerce     25\n",
       "12         Cleantech     23\n",
       "13          Security     19\n",
       "14         Analytics     19\n",
       "15            Social     14\n",
       "16            Search     12\n",
       "17             Other     11\n",
       "18         Messaging     11\n",
       "19              News      8\n",
       "20           Fashion      8\n",
       "21            Travel      8\n",
       "22           Medical      7\n",
       "23       Photo video      7\n",
       "24             Music      6\n",
       "25           Finance      6\n",
       "26         Education      4\n",
       "27       Real estate      3\n",
       "28            Health      3\n",
       "29        Consulting      3\n",
       "30     Manufacturing      2\n",
       "31        Automotive      2\n",
       "32    Transportation      2\n",
       "33       Hospitality      1\n",
       "34            Sports      1"
      ]
     },
     "metadata": {},
     "output_type": "display_data"
    }
   ],
   "source": [
    "# Reemplazar guiones por espacios y capitalizar las primeras letras para emprolijar la visualización.\n",
    "_['Rubro'] = _['Rubro'].replace('_', ' ', regex=True)\n",
    "_['Rubro'] = _['Rubro'].str.capitalize()\n",
    "display(_)"
   ]
  },
  {
   "cell_type": "code",
   "execution_count": 25,
   "id": "signal-player",
   "metadata": {},
   "outputs": [
    {
     "data": {
      "image/png": "[encoded data removed]",
      "text/plain": [
       "<Figure size 1440x504 with 1 Axes>"
      ]
     },
     "metadata": {},
     "output_type": "display_data"
    }
   ],
   "source": [
    "# Gráfico de barras por c/ rubro\n",
    "fig, ax = plt.subplots(1, 1, figsize=(20, 7))\n",
    "\n",
    "ax = sns.barplot(x='Rubro', y='Count', data=_, palette='Reds_r')\n",
    "\n",
    "ax.set_title('Cantidad de Start-ups por RUBRO',fontsize=14, fontweight='bold' )\n",
    "ax.set_xlabel('Rubro', fontsize=12, fontweight='bold')\n",
    "ax.set_ylabel('N° de Casos', fontsize=12, fontweight='bold')\n",
    "\n",
    "plt.xticks(rotation=90)\n",
    "\n",
    "plt.show();"
   ]
  },
  {
   "cell_type": "markdown",
   "id": "million-oklahoma",
   "metadata": {},
   "source": [
    "#### De la visualización se puede observar que predominan fuertemente 2 rubros. A saber; el rubro Software y el rubro Web."
   ]
  },
  {
   "cell_type": "code",
   "execution_count": 26,
   "id": "incomplete-helen",
   "metadata": {},
   "outputs": [
    {
     "data": {
      "text/html": [
       "<div>\n",
       "<style scoped>\n",
       "    .dataframe tbody tr th:only-of-type {\n",
       "        vertical-align: middle;\n",
       "    }\n",
       "\n",
       "    .dataframe tbody tr th {\n",
       "        vertical-align: top;\n",
       "    }\n",
       "\n",
       "    .dataframe thead th {\n",
       "        text-align: right;\n",
       "    }\n",
       "</style>\n",
       "<table border=\"1\" class=\"dataframe\">\n",
       "  <thead>\n",
       "    <tr style=\"text-align: right;\">\n",
       "      <th></th>\n",
       "      <th>Rubro</th>\n",
       "      <th>Count</th>\n",
       "      <th>%</th>\n",
       "      <th>%_cumsum</th>\n",
       "    </tr>\n",
       "  </thead>\n",
       "  <tbody>\n",
       "    <tr>\n",
       "      <th>0</th>\n",
       "      <td>Software</td>\n",
       "      <td>153</td>\n",
       "      <td>16.576381</td>\n",
       "      <td>16.576381</td>\n",
       "    </tr>\n",
       "    <tr>\n",
       "      <th>1</th>\n",
       "      <td>Web</td>\n",
       "      <td>144</td>\n",
       "      <td>15.601300</td>\n",
       "      <td>32.177681</td>\n",
       "    </tr>\n",
       "    <tr>\n",
       "      <th>2</th>\n",
       "      <td>Mobile</td>\n",
       "      <td>79</td>\n",
       "      <td>8.559047</td>\n",
       "      <td>40.736728</td>\n",
       "    </tr>\n",
       "    <tr>\n",
       "      <th>3</th>\n",
       "      <td>Enterprise</td>\n",
       "      <td>73</td>\n",
       "      <td>7.908992</td>\n",
       "      <td>48.645720</td>\n",
       "    </tr>\n",
       "    <tr>\n",
       "      <th>4</th>\n",
       "      <td>Advertising</td>\n",
       "      <td>62</td>\n",
       "      <td>6.717226</td>\n",
       "      <td>55.362947</td>\n",
       "    </tr>\n",
       "    <tr>\n",
       "      <th>5</th>\n",
       "      <td>Games video</td>\n",
       "      <td>52</td>\n",
       "      <td>5.633803</td>\n",
       "      <td>60.996750</td>\n",
       "    </tr>\n",
       "    <tr>\n",
       "      <th>6</th>\n",
       "      <td>Semiconductor</td>\n",
       "      <td>35</td>\n",
       "      <td>3.791983</td>\n",
       "      <td>64.788732</td>\n",
       "    </tr>\n",
       "    <tr>\n",
       "      <th>7</th>\n",
       "      <td>Network hosting</td>\n",
       "      <td>34</td>\n",
       "      <td>3.683640</td>\n",
       "      <td>68.472373</td>\n",
       "    </tr>\n",
       "    <tr>\n",
       "      <th>8</th>\n",
       "      <td>Biotech</td>\n",
       "      <td>34</td>\n",
       "      <td>3.683640</td>\n",
       "      <td>72.156013</td>\n",
       "    </tr>\n",
       "    <tr>\n",
       "      <th>9</th>\n",
       "      <td>Hardware</td>\n",
       "      <td>27</td>\n",
       "      <td>2.925244</td>\n",
       "      <td>75.081257</td>\n",
       "    </tr>\n",
       "    <tr>\n",
       "      <th>10</th>\n",
       "      <td>Public relations</td>\n",
       "      <td>25</td>\n",
       "      <td>2.708559</td>\n",
       "      <td>77.789816</td>\n",
       "    </tr>\n",
       "    <tr>\n",
       "      <th>11</th>\n",
       "      <td>Ecommerce</td>\n",
       "      <td>25</td>\n",
       "      <td>2.708559</td>\n",
       "      <td>80.498375</td>\n",
       "    </tr>\n",
       "    <tr>\n",
       "      <th>12</th>\n",
       "      <td>Cleantech</td>\n",
       "      <td>23</td>\n",
       "      <td>2.491874</td>\n",
       "      <td>82.990249</td>\n",
       "    </tr>\n",
       "    <tr>\n",
       "      <th>13</th>\n",
       "      <td>Security</td>\n",
       "      <td>19</td>\n",
       "      <td>2.058505</td>\n",
       "      <td>85.048754</td>\n",
       "    </tr>\n",
       "    <tr>\n",
       "      <th>14</th>\n",
       "      <td>Analytics</td>\n",
       "      <td>19</td>\n",
       "      <td>2.058505</td>\n",
       "      <td>87.107259</td>\n",
       "    </tr>\n",
       "    <tr>\n",
       "      <th>15</th>\n",
       "      <td>Social</td>\n",
       "      <td>14</td>\n",
       "      <td>1.516793</td>\n",
       "      <td>88.624052</td>\n",
       "    </tr>\n",
       "    <tr>\n",
       "      <th>16</th>\n",
       "      <td>Search</td>\n",
       "      <td>12</td>\n",
       "      <td>1.300108</td>\n",
       "      <td>89.924160</td>\n",
       "    </tr>\n",
       "    <tr>\n",
       "      <th>17</th>\n",
       "      <td>Other</td>\n",
       "      <td>11</td>\n",
       "      <td>1.191766</td>\n",
       "      <td>91.115926</td>\n",
       "    </tr>\n",
       "    <tr>\n",
       "      <th>18</th>\n",
       "      <td>Messaging</td>\n",
       "      <td>11</td>\n",
       "      <td>1.191766</td>\n",
       "      <td>92.307692</td>\n",
       "    </tr>\n",
       "    <tr>\n",
       "      <th>19</th>\n",
       "      <td>News</td>\n",
       "      <td>8</td>\n",
       "      <td>0.866739</td>\n",
       "      <td>93.174431</td>\n",
       "    </tr>\n",
       "    <tr>\n",
       "      <th>20</th>\n",
       "      <td>Fashion</td>\n",
       "      <td>8</td>\n",
       "      <td>0.866739</td>\n",
       "      <td>94.041170</td>\n",
       "    </tr>\n",
       "    <tr>\n",
       "      <th>21</th>\n",
       "      <td>Travel</td>\n",
       "      <td>8</td>\n",
       "      <td>0.866739</td>\n",
       "      <td>94.907909</td>\n",
       "    </tr>\n",
       "    <tr>\n",
       "      <th>22</th>\n",
       "      <td>Medical</td>\n",
       "      <td>7</td>\n",
       "      <td>0.758397</td>\n",
       "      <td>95.666306</td>\n",
       "    </tr>\n",
       "    <tr>\n",
       "      <th>23</th>\n",
       "      <td>Photo video</td>\n",
       "      <td>7</td>\n",
       "      <td>0.758397</td>\n",
       "      <td>96.424702</td>\n",
       "    </tr>\n",
       "    <tr>\n",
       "      <th>24</th>\n",
       "      <td>Music</td>\n",
       "      <td>6</td>\n",
       "      <td>0.650054</td>\n",
       "      <td>97.074756</td>\n",
       "    </tr>\n",
       "    <tr>\n",
       "      <th>25</th>\n",
       "      <td>Finance</td>\n",
       "      <td>6</td>\n",
       "      <td>0.650054</td>\n",
       "      <td>97.724810</td>\n",
       "    </tr>\n",
       "    <tr>\n",
       "      <th>26</th>\n",
       "      <td>Education</td>\n",
       "      <td>4</td>\n",
       "      <td>0.433369</td>\n",
       "      <td>98.158180</td>\n",
       "    </tr>\n",
       "    <tr>\n",
       "      <th>27</th>\n",
       "      <td>Real estate</td>\n",
       "      <td>3</td>\n",
       "      <td>0.325027</td>\n",
       "      <td>98.483207</td>\n",
       "    </tr>\n",
       "    <tr>\n",
       "      <th>28</th>\n",
       "      <td>Health</td>\n",
       "      <td>3</td>\n",
       "      <td>0.325027</td>\n",
       "      <td>98.808234</td>\n",
       "    </tr>\n",
       "    <tr>\n",
       "      <th>29</th>\n",
       "      <td>Consulting</td>\n",
       "      <td>3</td>\n",
       "      <td>0.325027</td>\n",
       "      <td>99.133261</td>\n",
       "    </tr>\n",
       "    <tr>\n",
       "      <th>30</th>\n",
       "      <td>Manufacturing</td>\n",
       "      <td>2</td>\n",
       "      <td>0.216685</td>\n",
       "      <td>99.349946</td>\n",
       "    </tr>\n",
       "    <tr>\n",
       "      <th>31</th>\n",
       "      <td>Automotive</td>\n",
       "      <td>2</td>\n",
       "      <td>0.216685</td>\n",
       "      <td>99.566631</td>\n",
       "    </tr>\n",
       "    <tr>\n",
       "      <th>32</th>\n",
       "      <td>Transportation</td>\n",
       "      <td>2</td>\n",
       "      <td>0.216685</td>\n",
       "      <td>99.783315</td>\n",
       "    </tr>\n",
       "    <tr>\n",
       "      <th>33</th>\n",
       "      <td>Hospitality</td>\n",
       "      <td>1</td>\n",
       "      <td>0.108342</td>\n",
       "      <td>99.891658</td>\n",
       "    </tr>\n",
       "    <tr>\n",
       "      <th>34</th>\n",
       "      <td>Sports</td>\n",
       "      <td>1</td>\n",
       "      <td>0.108342</td>\n",
       "      <td>100.000000</td>\n",
       "    </tr>\n",
       "  </tbody>\n",
       "</table>\n",
       "</div>"
      ],
      "text/plain": [
       "               Rubro  Count          %    %_cumsum\n",
       "0           Software    153  16.576381   16.576381\n",
       "1                Web    144  15.601300   32.177681\n",
       "2             Mobile     79   8.559047   40.736728\n",
       "3         Enterprise     73   7.908992   48.645720\n",
       "4        Advertising     62   6.717226   55.362947\n",
       "5        Games video     52   5.633803   60.996750\n",
       "6      Semiconductor     35   3.791983   64.788732\n",
       "7    Network hosting     34   3.683640   68.472373\n",
       "8            Biotech     34   3.683640   72.156013\n",
       "9           Hardware     27   2.925244   75.081257\n",
       "10  Public relations     25   2.708559   77.789816\n",
       "11         Ecommerce     25   2.708559   80.498375\n",
       "12         Cleantech     23   2.491874   82.990249\n",
       "13          Security     19   2.058505   85.048754\n",
       "14         Analytics     19   2.058505   87.107259\n",
       "15            Social     14   1.516793   88.624052\n",
       "16            Search     12   1.300108   89.924160\n",
       "17             Other     11   1.191766   91.115926\n",
       "18         Messaging     11   1.191766   92.307692\n",
       "19              News      8   0.866739   93.174431\n",
       "20           Fashion      8   0.866739   94.041170\n",
       "21            Travel      8   0.866739   94.907909\n",
       "22           Medical      7   0.758397   95.666306\n",
       "23       Photo video      7   0.758397   96.424702\n",
       "24             Music      6   0.650054   97.074756\n",
       "25           Finance      6   0.650054   97.724810\n",
       "26         Education      4   0.433369   98.158180\n",
       "27       Real estate      3   0.325027   98.483207\n",
       "28            Health      3   0.325027   98.808234\n",
       "29        Consulting      3   0.325027   99.133261\n",
       "30     Manufacturing      2   0.216685   99.349946\n",
       "31        Automotive      2   0.216685   99.566631\n",
       "32    Transportation      2   0.216685   99.783315\n",
       "33       Hospitality      1   0.108342   99.891658\n",
       "34            Sports      1   0.108342  100.000000"
      ]
     },
     "execution_count": 26,
     "metadata": {},
     "output_type": "execute_result"
    }
   ],
   "source": [
    "# Se calcula el % que aglomeran c/rubro c/ respecto al total y la sumatoria acumulada.\n",
    "_['%'] = 100 * (_['Count'] / _['Count'].sum())\n",
    "_['%_cumsum'] = _['%'].cumsum()\n",
    "_"
   ]
  },
  {
   "cell_type": "markdown",
   "id": "cosmetic-locking",
   "metadata": {},
   "source": [
    "#### Se puede ver que los 2 primeros rubros incluyen un poco más del 30% del dataset y que los primeros 5 representan aproximadamente el 60%."
   ]
  },
  {
   "cell_type": "markdown",
   "id": "tight-profile",
   "metadata": {},
   "source": [
    "## **EDA - Análisis Bivariado**"
   ]
  },
  {
   "cell_type": "markdown",
   "id": "beautiful-arbor",
   "metadata": {},
   "source": [
    "#### En esta oportunidad, se realizaran algunas visualizaciones bivariadas. El objetivo será entonces, encontrar relaciones de diverso tipo y que permitan de laguna manera comprender mejor el dataset y la causalidad entre las variables que lo componen."
   ]
  },
  {
   "cell_type": "markdown",
   "id": "spare-ivory",
   "metadata": {},
   "source": [
    "#### Se retoma el análisis de valores negativos en la variables relacionadas con la edad de una start-up. "
   ]
  },
  {
   "cell_type": "code",
   "execution_count": 27,
   "id": "suitable-certification",
   "metadata": {},
   "outputs": [
    {
     "name": "stdout",
     "output_type": "stream",
     "text": [
      "46 13 46 12\n"
     ]
    }
   ],
   "source": [
    "# Cuenta la cantidad de casos en que la variable edad toma valores negativos\n",
    "print(\n",
    "    df_1.loc[df_1['age_first_funding_year']<0].shape[0],\n",
    "    df_1.loc[df_1['age_last_funding_year']<0].shape[0],\n",
    "    df_1.loc[df_1['age_first_milestone_year']<0].shape[0],\n",
    "    df_1.loc[df_1['age_last_milestone_year']<0].shape[0]\n",
    ")"
   ]
  },
  {
   "cell_type": "markdown",
   "id": "touched-sending",
   "metadata": {},
   "source": [
    "#### Las variables relacionadas con la edad de la startup representan la diferencia en el tiempo (entre 2 fechas) atribuible a un  dado suceso.\n",
    "#### Son muchos los casos en que la esta toma valores negativos. Esto podría ser un error o no necesariamente. Las distintas variables relacionadas con las edad miden la diferencia temporal con respecto a la fecha de fundación de la startup y por alguna razon esta no obligatoriamente es anterior al año en que recibieron la primer inversión o 'milestone' por ejemplo.\n",
    "#### Otro criterio podría ser considerar que los casos en que esto ocurra es un error y por lo tanto dichos valores deben ser eliminados. **Este es el criterio que se adoptará de aquí en adelante.**"
   ]
  },
  {
   "cell_type": "code",
   "execution_count": 28,
   "id": "circular-layer",
   "metadata": {},
   "outputs": [
    {
     "name": "stdout",
     "output_type": "stream",
     "text": [
      "(840, 50) (923, 50) 83\n"
     ]
    }
   ],
   "source": [
    "# Se crea un nuevo DF en donde todos las filas que contengan \n",
    "# algun valor de edad negativa seon eliminados.\n",
    "df_2 = df_1.drop(df_1[\n",
    "(df_1['age_first_funding_year']<0) |\n",
    "(df_1['age_last_funding_year']<0) |\n",
    "(df_1['age_first_milestone_year']<0) |\n",
    "(df_1['age_last_milestone_year']<0)\n",
    "].index)\n",
    "\n",
    "print(\n",
    "    df_2.shape,\n",
    "    df_1.shape,\n",
    "    df_1.shape[0] - df_2.shape[0] # Indica la cantidad de filas con valores negativos.\n",
    ")"
   ]
  },
  {
   "cell_type": "markdown",
   "id": "forbidden-blink",
   "metadata": {},
   "source": [
    "#### Como primera visualización bivariada se propone  graficar ['age_first_funding_year'] vs ['age_first_milestone_year'] considerando por un lado todos los casos y por el otro eliminando aquellos en que la edad toma valores negativos."
   ]
  },
  {
   "cell_type": "code",
   "execution_count": 29,
   "id": "after-indicator",
   "metadata": {},
   "outputs": [
    {
     "data": {
      "image/png": "[encoded data removed]",
      "text/plain": [
       "<Figure size 1080x504 with 2 Axes>"
      ]
     },
     "metadata": {},
     "output_type": "display_data"
    }
   ],
   "source": [
    "fig, axs = plt.subplots(1, 2, figsize=(15, 7))\n",
    "\n",
    "axs[0].scatter(df_1['age_first_funding_year'], df_1['age_first_milestone_year'])\n",
    "\n",
    "axs[0].plot(\n",
    "            np.arange(-25, 26), np.arange(-25, 26),\n",
    "            linestyle='dashed', color='red', alpha=0.7\n",
    ") # x=y de referencia\n",
    "\n",
    "axs[1].scatter(df_2['age_first_funding_year'], df_2['age_first_milestone_year'])\n",
    "\n",
    "axs[1].plot(\n",
    "            np.arange(0, 26), np.arange(0, 26),\n",
    "            linestyle='dashed', color='red', alpha=0.7\n",
    ") # x=y de referencia\n",
    "\n",
    "\n",
    "for i in [0,1]:\n",
    "    axs[i].set_xlabel('Edad Primer Financiamiento')\n",
    "    axs[i].set_ylabel('Edad Primer Hito')\n",
    "    axs[i].set_title('Edad Primer Financiamiento vs Edad Primer Hito', fontsize=14, fontweight='bold')\n",
    "\n",
    "fig.tight_layout()\n",
    "plt.show();"
   ]
  },
  {
   "cell_type": "markdown",
   "id": "hired-evolution",
   "metadata": {},
   "source": [
    "#### La linea a 45° sirve de referencia para identificar startups en donde la edad del primer 'milestone' es superior o posterior a la de la primera inversión (lo cual es lo más lógico) o viceversa."
   ]
  },
  {
   "cell_type": "markdown",
   "id": "continued-conclusion",
   "metadata": {},
   "source": [
    "#### Se propone ahora graficar en un stripplot (similar al scatterplot pero incorpora jitter para no superponer datos) la relación entre la cantidad de relaciones ['relationships'] y la cantidad de hitos ['milestones'] y también hacer una distinción entre los casos en que cuentan con un [patrón](https://es.wikipedia.org/wiki/Inversor_%C3%A1ngel) o no.\n"
   ]
  },
  {
   "cell_type": "code",
   "execution_count": 30,
   "id": "opponent-terrorist",
   "metadata": {},
   "outputs": [
    {
     "data": {
      "image/png": "[encoded data removed]",
      "text/plain": [
       "<Figure size 864x576 with 1 Axes>"
      ]
     },
     "metadata": {},
     "output_type": "display_data"
    }
   ],
   "source": [
    "fig, ax = plt.subplots(1, 1, figsize=(12, 8))\n",
    "\n",
    "ax = sns.stripplot(\n",
    "                    data=df_1, x='milestones', y='relationships',\n",
    "                    hue='has_angel', dodge=True\n",
    ")\n",
    "ax.set_xlabel('Hitos')\n",
    "ax.set_ylabel('Relaciones')\n",
    "ax.set_title('Hitos vs Relaciones', fontsize=14, fontweight='bold')\n",
    "\n",
    "plt.legend(title='Tiene Patrón?', loc='upper left', labels=['No', 'Sí'])\n",
    "\n",
    "fig.tight_layout()\n",
    "plt.show();"
   ]
  },
  {
   "cell_type": "code",
   "execution_count": 31,
   "id": "connected-ribbon",
   "metadata": {},
   "outputs": [
    {
     "data": {
      "image/png": "[encoded data removed]",
      "text/plain": [
       "<Figure size 864x360 with 2 Axes>"
      ]
     },
     "metadata": {},
     "output_type": "display_data"
    }
   ],
   "source": [
    "fig, axs = plt.subplots(1, 2, figsize=(12, 5))\n",
    "\n",
    "axs_0 = sns.scatterplot(ax=axs[0], data=df_2, x='age_first_milestone_year', y='avg_participants')\n",
    "axs_1 = sns.scatterplot(ax=axs[1], data=df_2, x='age_last_milestone_year', y='avg_participants')\n",
    "\n",
    "axs[0].set_xlabel('Edad Primer Hito')\n",
    "axs[0].set_ylabel('Participantes Promedio')\n",
    "axs[0].set_title('Edad Primer Hito vs Participantes Promedio', fontsize=14, fontweight='bold')\n",
    "\n",
    "axs[1].set_xlabel('Edad Último Hito')\n",
    "axs[1].set_ylabel('Participantes Promedio')\n",
    "axs[1].set_title('Edad Último Hito vs Participantes Promedio', fontsize=14, fontweight='bold')\n",
    "\n",
    "\n",
    "fig.tight_layout()\n",
    "plt.show();"
   ]
  },
  {
   "cell_type": "markdown",
   "id": "equivalent-advisory",
   "metadata": {},
   "source": [
    "#### Algunas observaciones de este gráfico:\n",
    "#### - En algunos casos el primer y último hito es coincidente. \n",
    "#### - El \"baricentro\" del 2do gráfico se enceuntra más desplazado hacia la derecha, lo cual es lógico ya que generalmente las startups tienen mayor edad con respecto a su primer hito.\n",
    "#### - No necesariamente, más participantes implica que el primer o último hito sea más temprano."
   ]
  },
  {
   "cell_type": "markdown",
   "id": "authentic-monster",
   "metadata": {},
   "source": [
    "#### Finalmente, analizaremos el progreso de las startups adquiridas en el tiempo. Para ello, cambiaremos la columna founded_at para que muestre solo el año."
   ]
  },
  {
   "cell_type": "code",
   "execution_count": 32,
   "id": "continuing-patient",
   "metadata": {},
   "outputs": [],
   "source": [
    "# Cambiando la columna founded_at para que solo presente el año\n",
    "df_2['founded_at'] = pd.to_datetime(df_2['founded_at'])\n",
    "df_2['founded_at'] = df_2['founded_at'].dt.to_period('Y')"
   ]
  },
  {
   "cell_type": "code",
   "execution_count": 33,
   "id": "concerned-public",
   "metadata": {},
   "outputs": [
    {
     "data": {
      "text/plain": [
       "<seaborn.axisgrid.FacetGrid at 0x1dff41da508>"
      ]
     },
     "execution_count": 33,
     "metadata": {},
     "output_type": "execute_result"
    },
    {
     "data": {
      "image/png": "[encoded data removed]",
      "text/plain": [
       "<Figure size 1440x2160 with 23 Axes>"
      ]
     },
     "metadata": {},
     "output_type": "display_data"
    }
   ],
   "source": [
    "# Se crea el gráfico para compararlo con los valores de status\n",
    "sns.displot(data = df_2, col = 'founded_at', col_wrap = 4, x = 'status')"
   ]
  },
  {
   "cell_type": "markdown",
   "id": "focal-smile",
   "metadata": {},
   "source": [
    "#### El período 2005-2009 es donde más startups fueron adquiridas. El período 2000-2002 también parece haber sido bueno. Los números empeoran en períodos anteriores o posteriores a estos, exceptuando a 2004 que no tuvo un desempeño destacable."
   ]
  },
  {
   "cell_type": "markdown",
   "id": "rolled-settlement",
   "metadata": {},
   "source": [
    "## **Análisis Multivariado**\n",
    "#### Para el análisis multivariado del proyecto, se propone realizar un Análisis de Componentes Principales (en adelante ACP).\n",
    "#### ACP es un procedimiento matemático/estadístico que busca reducir la dimensionalidad del dataset máximizando la varianza explicada. "
   ]
  },
  {
   "cell_type": "markdown",
   "id": "occupied-department",
   "metadata": {},
   "source": [
    "####  El ACP es aplicable a variables de naturaleza numérica y por lo tanto, es aplicable a las siguientes columnas:"
   ]
  },
  {
   "cell_type": "code",
   "execution_count": 34,
   "id": "mental-dancing",
   "metadata": {},
   "outputs": [
    {
     "data": {
      "text/html": [
       "<div>\n",
       "<style scoped>\n",
       "    .dataframe tbody tr th:only-of-type {\n",
       "        vertical-align: middle;\n",
       "    }\n",
       "\n",
       "    .dataframe tbody tr th {\n",
       "        vertical-align: top;\n",
       "    }\n",
       "\n",
       "    .dataframe thead th {\n",
       "        text-align: right;\n",
       "    }\n",
       "</style>\n",
       "<table border=\"1\" class=\"dataframe\">\n",
       "  <thead>\n",
       "    <tr style=\"text-align: right;\">\n",
       "      <th></th>\n",
       "      <th>age_first_funding_year</th>\n",
       "      <th>age_last_funding_year</th>\n",
       "      <th>age_first_milestone_year</th>\n",
       "      <th>age_last_milestone_year</th>\n",
       "      <th>relationships</th>\n",
       "      <th>funding_rounds</th>\n",
       "      <th>funding_total_usd</th>\n",
       "      <th>milestones</th>\n",
       "      <th>avg_participants</th>\n",
       "    </tr>\n",
       "  </thead>\n",
       "  <tbody>\n",
       "    <tr>\n",
       "      <th>0</th>\n",
       "      <td>2.2493</td>\n",
       "      <td>3.0027</td>\n",
       "      <td>4.6685</td>\n",
       "      <td>6.7041</td>\n",
       "      <td>3</td>\n",
       "      <td>3</td>\n",
       "      <td>375000</td>\n",
       "      <td>3</td>\n",
       "      <td>1.0000</td>\n",
       "    </tr>\n",
       "    <tr>\n",
       "      <th>1</th>\n",
       "      <td>5.1260</td>\n",
       "      <td>9.9973</td>\n",
       "      <td>7.0055</td>\n",
       "      <td>7.0055</td>\n",
       "      <td>9</td>\n",
       "      <td>4</td>\n",
       "      <td>40100000</td>\n",
       "      <td>1</td>\n",
       "      <td>4.7500</td>\n",
       "    </tr>\n",
       "    <tr>\n",
       "      <th>2</th>\n",
       "      <td>1.0329</td>\n",
       "      <td>1.0329</td>\n",
       "      <td>1.4575</td>\n",
       "      <td>2.2055</td>\n",
       "      <td>5</td>\n",
       "      <td>1</td>\n",
       "      <td>2600000</td>\n",
       "      <td>2</td>\n",
       "      <td>4.0000</td>\n",
       "    </tr>\n",
       "    <tr>\n",
       "      <th>3</th>\n",
       "      <td>3.1315</td>\n",
       "      <td>5.3151</td>\n",
       "      <td>6.0027</td>\n",
       "      <td>6.0027</td>\n",
       "      <td>5</td>\n",
       "      <td>3</td>\n",
       "      <td>40000000</td>\n",
       "      <td>1</td>\n",
       "      <td>3.3333</td>\n",
       "    </tr>\n",
       "    <tr>\n",
       "      <th>4</th>\n",
       "      <td>0.0000</td>\n",
       "      <td>1.6685</td>\n",
       "      <td>0.0384</td>\n",
       "      <td>0.0384</td>\n",
       "      <td>2</td>\n",
       "      <td>2</td>\n",
       "      <td>1300000</td>\n",
       "      <td>1</td>\n",
       "      <td>1.0000</td>\n",
       "    </tr>\n",
       "  </tbody>\n",
       "</table>\n",
       "</div>"
      ],
      "text/plain": [
       "   age_first_funding_year  age_last_funding_year  age_first_milestone_year  \\\n",
       "0                  2.2493                 3.0027                    4.6685   \n",
       "1                  5.1260                 9.9973                    7.0055   \n",
       "2                  1.0329                 1.0329                    1.4575   \n",
       "3                  3.1315                 5.3151                    6.0027   \n",
       "4                  0.0000                 1.6685                    0.0384   \n",
       "\n",
       "   age_last_milestone_year  relationships  funding_rounds  funding_total_usd  \\\n",
       "0                   6.7041              3               3             375000   \n",
       "1                   7.0055              9               4           40100000   \n",
       "2                   2.2055              5               1            2600000   \n",
       "3                   6.0027              5               3           40000000   \n",
       "4                   0.0384              2               2            1300000   \n",
       "\n",
       "   milestones  avg_participants  \n",
       "0           3            1.0000  \n",
       "1           1            4.7500  \n",
       "2           2            4.0000  \n",
       "3           1            3.3333  \n",
       "4           1            1.0000  "
      ]
     },
     "execution_count": 34,
     "metadata": {},
     "output_type": "execute_result"
    }
   ],
   "source": [
    "df_ACP = df_2[[\n",
    "    'age_first_funding_year',\n",
    "    'age_last_funding_year',\n",
    "    'age_first_milestone_year',\n",
    "    'age_last_milestone_year',\n",
    "    'relationships',\n",
    "    'funding_rounds',\n",
    "    'funding_total_usd',\n",
    "    'milestones',\n",
    "    'avg_participants'\n",
    "]]\n",
    "df_ACP.head()"
   ]
  },
  {
   "cell_type": "markdown",
   "id": "integral-amateur",
   "metadata": {},
   "source": [
    "#### También es necesario verificar que no existan datos faltantes antes de comenzar con el ACP."
   ]
  },
  {
   "cell_type": "code",
   "execution_count": 35,
   "id": "regional-remark",
   "metadata": {},
   "outputs": [
    {
     "data": {
      "text/plain": [
       "age_first_funding_year        0\n",
       "age_last_funding_year         0\n",
       "age_first_milestone_year    144\n",
       "age_last_milestone_year     144\n",
       "relationships                 0\n",
       "funding_rounds                0\n",
       "funding_total_usd             0\n",
       "milestones                    0\n",
       "avg_participants              0\n",
       "dtype: int64"
      ]
     },
     "execution_count": 35,
     "metadata": {},
     "output_type": "execute_result"
    }
   ],
   "source": [
    "df_ACP.isna().sum()"
   ]
  },
  {
   "cell_type": "markdown",
   "id": "sexual-marathon",
   "metadata": {},
   "source": [
    "#### Seguramente se trate de startups que a la fecha no han tenido ningún hito y por lo tanto no se les puede atribuir un valor lógico. Se decide eliminar estos valores para este análisis."
   ]
  },
  {
   "cell_type": "code",
   "execution_count": 36,
   "id": "neither-wagon",
   "metadata": {},
   "outputs": [],
   "source": [
    "df_ACP = df_ACP.dropna() # Elimina NAs"
   ]
  },
  {
   "cell_type": "code",
   "execution_count": 37,
   "id": "activated-marketplace",
   "metadata": {},
   "outputs": [
    {
     "data": {
      "text/plain": [
       "age_first_funding_year      0\n",
       "age_last_funding_year       0\n",
       "age_first_milestone_year    0\n",
       "age_last_milestone_year     0\n",
       "relationships               0\n",
       "funding_rounds              0\n",
       "funding_total_usd           0\n",
       "milestones                  0\n",
       "avg_participants            0\n",
       "dtype: int64"
      ]
     },
     "execution_count": 37,
     "metadata": {},
     "output_type": "execute_result"
    }
   ],
   "source": [
    "df_ACP.isna().sum()"
   ]
  },
  {
   "cell_type": "markdown",
   "id": "secondary-princess",
   "metadata": {},
   "source": [
    "#### También, y con el objetivo de reducir posibles sezgos, se recomienda normalizar la información previamente."
   ]
  },
  {
   "cell_type": "code",
   "execution_count": 38,
   "id": "covered-accordance",
   "metadata": {},
   "outputs": [
    {
     "data": {
      "text/html": [
       "<div>\n",
       "<style scoped>\n",
       "    .dataframe tbody tr th:only-of-type {\n",
       "        vertical-align: middle;\n",
       "    }\n",
       "\n",
       "    .dataframe tbody tr th {\n",
       "        vertical-align: top;\n",
       "    }\n",
       "\n",
       "    .dataframe thead th {\n",
       "        text-align: right;\n",
       "    }\n",
       "</style>\n",
       "<table border=\"1\" class=\"dataframe\">\n",
       "  <thead>\n",
       "    <tr style=\"text-align: right;\">\n",
       "      <th></th>\n",
       "      <th>age_first_funding_year</th>\n",
       "      <th>age_last_funding_year</th>\n",
       "      <th>age_first_milestone_year</th>\n",
       "      <th>age_last_milestone_year</th>\n",
       "      <th>relationships</th>\n",
       "      <th>funding_rounds</th>\n",
       "      <th>funding_total_usd</th>\n",
       "      <th>milestones</th>\n",
       "      <th>avg_participants</th>\n",
       "    </tr>\n",
       "  </thead>\n",
       "  <tbody>\n",
       "    <tr>\n",
       "      <th>0</th>\n",
       "      <td>0.027985</td>\n",
       "      <td>-0.349364</td>\n",
       "      <td>0.459388</td>\n",
       "      <td>0.552725</td>\n",
       "      <td>-0.764592</td>\n",
       "      <td>0.438626</td>\n",
       "      <td>-0.128624</td>\n",
       "      <td>0.706282</td>\n",
       "      <td>-0.987782</td>\n",
       "    </tr>\n",
       "    <tr>\n",
       "      <th>1</th>\n",
       "      <td>1.290448</td>\n",
       "      <td>2.099689</td>\n",
       "      <td>1.296209</td>\n",
       "      <td>0.649432</td>\n",
       "      <td>0.045387</td>\n",
       "      <td>1.155253</td>\n",
       "      <td>0.053828</td>\n",
       "      <td>-1.052473</td>\n",
       "      <td>0.953423</td>\n",
       "    </tr>\n",
       "    <tr>\n",
       "      <th>2</th>\n",
       "      <td>-0.505842</td>\n",
       "      <td>-1.039060</td>\n",
       "      <td>-0.690390</td>\n",
       "      <td>-0.890698</td>\n",
       "      <td>-0.494599</td>\n",
       "      <td>-0.994630</td>\n",
       "      <td>-0.118405</td>\n",
       "      <td>-0.173096</td>\n",
       "      <td>0.565182</td>\n",
       "    </tr>\n",
       "    <tr>\n",
       "      <th>3</th>\n",
       "      <td>0.415146</td>\n",
       "      <td>0.460288</td>\n",
       "      <td>0.937131</td>\n",
       "      <td>0.327673</td>\n",
       "      <td>-0.494599</td>\n",
       "      <td>0.438626</td>\n",
       "      <td>0.053369</td>\n",
       "      <td>-1.052473</td>\n",
       "      <td>0.220062</td>\n",
       "    </tr>\n",
       "    <tr>\n",
       "      <th>4</th>\n",
       "      <td>-0.959139</td>\n",
       "      <td>-0.816514</td>\n",
       "      <td>-1.198534</td>\n",
       "      <td>-1.586034</td>\n",
       "      <td>-0.899588</td>\n",
       "      <td>-0.278002</td>\n",
       "      <td>-0.124376</td>\n",
       "      <td>-1.052473</td>\n",
       "      <td>-0.987782</td>\n",
       "    </tr>\n",
       "  </tbody>\n",
       "</table>\n",
       "</div>"
      ],
      "text/plain": [
       "   age_first_funding_year  age_last_funding_year  age_first_milestone_year  \\\n",
       "0                0.027985              -0.349364                  0.459388   \n",
       "1                1.290448               2.099689                  1.296209   \n",
       "2               -0.505842              -1.039060                 -0.690390   \n",
       "3                0.415146               0.460288                  0.937131   \n",
       "4               -0.959139              -0.816514                 -1.198534   \n",
       "\n",
       "   age_last_milestone_year  relationships  funding_rounds  funding_total_usd  \\\n",
       "0                 0.552725      -0.764592        0.438626          -0.128624   \n",
       "1                 0.649432       0.045387        1.155253           0.053828   \n",
       "2                -0.890698      -0.494599       -0.994630          -0.118405   \n",
       "3                 0.327673      -0.494599        0.438626           0.053369   \n",
       "4                -1.586034      -0.899588       -0.278002          -0.124376   \n",
       "\n",
       "   milestones  avg_participants  \n",
       "0    0.706282         -0.987782  \n",
       "1   -1.052473          0.953423  \n",
       "2   -0.173096          0.565182  \n",
       "3   -1.052473          0.220062  \n",
       "4   -1.052473         -0.987782  "
      ]
     },
     "execution_count": 38,
     "metadata": {},
     "output_type": "execute_result"
    }
   ],
   "source": [
    "# Inicilización del scaler\n",
    "scaler = StandardScaler()\n",
    "# Fit Transform\n",
    "df_ACP[df_ACP.columns] = scaler.fit_transform(df_ACP[df_ACP.columns]) # df con los datos normalizados\n",
    "\n",
    "df_ACP.head()"
   ]
  },
  {
   "cell_type": "markdown",
   "id": "alone-direction",
   "metadata": {},
   "source": [
    "#### Con los datos normalizados, se esta en condiciones de obtener los componentes principales."
   ]
  },
  {
   "cell_type": "code",
   "execution_count": 39,
   "id": "preceding-tooth",
   "metadata": {},
   "outputs": [],
   "source": [
    "# Inicilización del scaler\n",
    "pca = PCA(random_state=42) # Valor semilla"
   ]
  },
  {
   "cell_type": "code",
   "execution_count": 40,
   "id": "blessed-stable",
   "metadata": {},
   "outputs": [
    {
     "data": {
      "text/plain": [
       "PCA(random_state=42)"
      ]
     },
     "execution_count": 40,
     "metadata": {},
     "output_type": "execute_result"
    }
   ],
   "source": [
    "# Fit\n",
    "pca.fit(df_ACP)"
   ]
  },
  {
   "cell_type": "code",
   "execution_count": 41,
   "id": "pacific-school",
   "metadata": {},
   "outputs": [
    {
     "name": "stdout",
     "output_type": "stream",
     "text": [
      "[[ 0.39  0.51  0.51  0.49  0.18  0.21  0.09  0.03  0.06]\n",
      " [-0.42 -0.12 -0.1   0.13  0.54  0.4   0.08  0.57  0.07]\n",
      " [-0.01  0.07 -0.14 -0.18 -0.04  0.16  0.75 -0.22  0.56]\n",
      " [-0.11  0.1  -0.02 -0.08 -0.07  0.3   0.45 -0.15 -0.8 ]\n",
      " [ 0.14 -0.27  0.08  0.24  0.11 -0.69  0.47  0.34 -0.15]\n",
      " [-0.08 -0.14  0.24 -0.17  0.73 -0.18 -0.04 -0.56 -0.04]\n",
      " [ 0.57  0.33 -0.46 -0.42  0.34 -0.05 -0.04  0.23 -0.1 ]\n",
      " [-0.17  0.24 -0.64  0.61  0.1  -0.15 -0.03 -0.31 -0.02]\n",
      " [-0.53  0.68  0.16 -0.27 -0.04 -0.38  0.01  0.14  0.01]]\n"
     ]
    }
   ],
   "source": [
    "print(pca.components_.round(2)) "
   ]
  },
  {
   "cell_type": "markdown",
   "id": "italic-blade",
   "metadata": {},
   "source": [
    "#### Devuelve 9 componentes principales (coincidente con el número de columnas). Se trata de los autovectores y que representan la información en una nueva \"base\"."
   ]
  },
  {
   "cell_type": "code",
   "execution_count": 42,
   "id": "important-implementation",
   "metadata": {},
   "outputs": [
    {
     "data": {
      "text/plain": [
       "array([0.35, 0.21, 0.11, 0.11, 0.09, 0.06, 0.04, 0.01, 0.01])"
      ]
     },
     "execution_count": 42,
     "metadata": {},
     "output_type": "execute_result"
    }
   ],
   "source": [
    "# Indico el ratio de varianza explicada por cada componente (la sumatoria será igual a 1)\n",
    "pca.explained_variance_ratio_.round(2)"
   ]
  },
  {
   "cell_type": "markdown",
   "id": "senior-essay",
   "metadata": {},
   "source": [
    "#### A primera vista, se tiene que, por ejemplo, con los 5 primeros componentes principales se explica un 88% de la varianza en los datos; lo cual es aceptable y se logra reducir la dimensionalidad apreciablemente (de 9 a 5)"
   ]
  },
  {
   "cell_type": "code",
   "execution_count": 43,
   "id": "heated-server",
   "metadata": {},
   "outputs": [
    {
     "name": "stdout",
     "output_type": "stream",
     "text": [
      "[0.3504927  0.56545424 0.67953086 0.78899565 0.88321839 0.9411974\n",
      " 0.97968284 0.99179013 1.        ]\n"
     ]
    }
   ],
   "source": [
    "# Varianza acumulada por las componentes\n",
    "var_acum = np.cumsum(pca.explained_variance_ratio_)\n",
    "print(var_acum)"
   ]
  },
  {
   "cell_type": "code",
   "execution_count": 44,
   "id": "earlier-bangkok",
   "metadata": {},
   "outputs": [
    {
     "data": {
      "image/png": "[encoded data removed]",
      "text/plain": [
       "<Figure size 936x432 with 2 Axes>"
      ]
     },
     "metadata": {},
     "output_type": "display_data"
    }
   ],
   "source": [
    "# Graficamente\n",
    "fig, ax = plt.subplots(1, 2, figsize=(13, 6))\n",
    "\n",
    "# Varianza acumulada\n",
    "ax[0].plot(var_acum)\n",
    "\n",
    "# Líneas de guía\n",
    "ax[0].vlines(x=4, ymax=1, ymin=0, colors='r', linestyles='--')\n",
    "ax[0].hlines(y=var_acum[4], xmax=8, xmin=0, colors='g', linestyles='--')\n",
    "\n",
    "ax[0].set_ylabel('Varianza Acumulada')\n",
    "ax[0].set_xlabel('Componentes Principales')\n",
    "ax[0].set_title('Varianza Explicada Acumulada')\n",
    "\n",
    "# Ratio de varianza explicada\n",
    "ax[1].bar(\n",
    "            np.arange(len(pca.explained_variance_ratio_)),\n",
    "            pca.explained_variance_ratio_,\n",
    "            edgecolor='black'\n",
    ")\n",
    "\n",
    "ax[1].set_ylabel('Ratio')\n",
    "ax[1].set_xlabel('Componentes Principales')\n",
    "ax[1].set_title(' Ratio Varianza Explicada')\n",
    "\n",
    "ax[1].set_xticks(np.arange(len(pca.explained_variance_ratio_)))\n",
    "\n",
    "fig.tight_layout()\n",
    "plt.show();"
   ]
  },
  {
   "cell_type": "markdown",
   "id": "eastern-district",
   "metadata": {},
   "source": [
    "#### Se esta en condiciones de transformar/proyectar el dataset a esta nueva base de ahora 5 componentes y que explica casi un 90% de la varianza en los datos. La tranformación se realiza de la siguiente manera (aplicando el siguiente [algoritmo](https://scikit-learn.org/stable/modules/generated/sklearn.decomposition.IncrementalPCA.html)):"
   ]
  },
  {
   "cell_type": "code",
   "execution_count": 45,
   "id": "essential-quality",
   "metadata": {},
   "outputs": [],
   "source": [
    "# Inicializo el incrementalPCA para la cantidad de componentes seleccionada\n",
    "acp_final = IncrementalPCA(n_components=5)"
   ]
  },
  {
   "cell_type": "code",
   "execution_count": 46,
   "id": "static-council",
   "metadata": {},
   "outputs": [],
   "source": [
    "# Fit y Transform de los datos al nuevo espacio vectorial  \n",
    "acp_proy = acp_final.fit_transform(df_ACP)"
   ]
  },
  {
   "cell_type": "code",
   "execution_count": 47,
   "id": "found-connectivity",
   "metadata": {},
   "outputs": [
    {
     "data": {
      "text/plain": [
       "(696, 5)"
      ]
     },
     "execution_count": 47,
     "metadata": {},
     "output_type": "execute_result"
    }
   ],
   "source": [
    "# Verifico la forma del nuevo df\n",
    "acp_proy.shape"
   ]
  },
  {
   "cell_type": "code",
   "execution_count": 48,
   "id": "clinical-malaysia",
   "metadata": {},
   "outputs": [
    {
     "data": {
      "text/html": [
       "<div>\n",
       "<style scoped>\n",
       "    .dataframe tbody tr th:only-of-type {\n",
       "        vertical-align: middle;\n",
       "    }\n",
       "\n",
       "    .dataframe tbody tr th {\n",
       "        vertical-align: top;\n",
       "    }\n",
       "\n",
       "    .dataframe thead th {\n",
       "        text-align: right;\n",
       "    }\n",
       "</style>\n",
       "<table border=\"1\" class=\"dataframe\">\n",
       "  <thead>\n",
       "    <tr style=\"text-align: right;\">\n",
       "      <th></th>\n",
       "      <th>PC1</th>\n",
       "      <th>PC2</th>\n",
       "      <th>PC3</th>\n",
       "      <th>PC4</th>\n",
       "      <th>PC5</th>\n",
       "    </tr>\n",
       "  </thead>\n",
       "  <tbody>\n",
       "    <tr>\n",
       "      <th>0</th>\n",
       "      <td>0.244050</td>\n",
       "      <td>0.142415</td>\n",
       "      <td>-0.992519</td>\n",
       "      <td>-0.595970</td>\n",
       "      <td>-0.326938</td>\n",
       "    </tr>\n",
       "    <tr>\n",
       "      <th>1</th>\n",
       "      <td>2.829196</td>\n",
       "      <td>-0.876135</td>\n",
       "      <td>0.871385</td>\n",
       "      <td>0.152267</td>\n",
       "      <td>1.387119</td>\n",
       "    </tr>\n",
       "    <tr>\n",
       "      <th>2</th>\n",
       "      <td>-1.795622</td>\n",
       "      <td>-0.441477</td>\n",
       "      <td>0.382530</td>\n",
       "      <td>0.674612</td>\n",
       "      <td>-0.364798</td>\n",
       "    </tr>\n",
       "    <tr>\n",
       "      <th>3</th>\n",
       "      <td>1.019758</td>\n",
       "      <td>-0.952211</td>\n",
       "      <td>0.322748</td>\n",
       "      <td>-0.159247</td>\n",
       "      <td>0.625074</td>\n",
       "    </tr>\n",
       "    <tr>\n",
       "      <th>4</th>\n",
       "      <td>-2.504100</td>\n",
       "      <td>-0.857083</td>\n",
       "      <td>-0.122397</td>\n",
       "      <td>-1.040674</td>\n",
       "      <td>0.604026</td>\n",
       "    </tr>\n",
       "  </tbody>\n",
       "</table>\n",
       "</div>"
      ],
      "text/plain": [
       "        PC1       PC2       PC3       PC4       PC5\n",
       "0  0.244050  0.142415 -0.992519 -0.595970 -0.326938\n",
       "1  2.829196 -0.876135  0.871385  0.152267  1.387119\n",
       "2 -1.795622 -0.441477  0.382530  0.674612 -0.364798\n",
       "3  1.019758 -0.952211  0.322748 -0.159247  0.625074\n",
       "4 -2.504100 -0.857083 -0.122397 -1.040674  0.604026"
      ]
     },
     "execution_count": 48,
     "metadata": {},
     "output_type": "execute_result"
    }
   ],
   "source": [
    "# Convierto en el array acp_proy en df\n",
    "df_ACP_proy = pd.DataFrame(\n",
    "    acp_proy,\n",
    "    columns = ['PC1', 'PC2', 'PC3', 'PC4', 'PC5'],\n",
    ")\n",
    "df_ACP_proy.head()"
   ]
  },
  {
   "cell_type": "markdown",
   "id": "national-tanzania",
   "metadata": {},
   "source": [
    "### A modo de resumen:\n",
    "#### - df_ACP_proy es un nuevo dataframe que explica cerca del 90% de la varianza original de los datos  seleccionados para este análisis y que redujo su dimensionalidad (N° de columnas) de 9 a 5 a través de un ACP."
   ]
  },
  {
   "cell_type": "markdown",
   "id": "equipped-input",
   "metadata": {},
   "source": [
    "## **Generación de Algoritmos de Predicción**"
   ]
  },
  {
   "cell_type": "markdown",
   "id": "grave-tuesday",
   "metadata": {},
   "source": [
    "#### Luego del análisis exploratorio y tratamiento de los datos que permitió conocer en profundidad la naturaleza del dataset seleccionado, se proponen distintos algoritmos de predicción. Más especificamente, se trata de un problema de clasificación binaria."
   ]
  },
  {
   "cell_type": "markdown",
   "id": "passing-regular",
   "metadata": {},
   "source": [
    "#### Se entrenaran modelos para los siguientes algoritmos:\n",
    "    - Decision Tree\n",
    "    - Random Forest\n",
    "    - XG Boost\n",
    "    - Logistic Regression\n",
    "#### Luego, se evaluará la calidad de cada uno de ellos a través de dos métricas:\n",
    "    - Accuracy Score\n",
    "    - Confusion MAtrix"
   ]
  },
  {
   "cell_type": "markdown",
   "id": "lasting-november",
   "metadata": {},
   "source": [
    "#### En primera instancia, se realiza el preprocesamiento del dataset hastla llegar a la definición de la matriz X y el vector y sobre el cual se realizan las predicciones.\n",
    "\n",
    "#### A grandes rasgos, serán eliminados los outliers, las filas que contuvieran valores nulos y la información será normalizada con el fin de obtener un dataset correctamente balanceado."
   ]
  },
  {
   "cell_type": "markdown",
   "id": "spectacular-danish",
   "metadata": {},
   "source": [
    "#### Dado que el ACP realizado limita el dataset a muy pocas variables, se decide descartar en primera instancia dicho análisis en esta etapa."
   ]
  },
  {
   "cell_type": "markdown",
   "id": "criminal-rotation",
   "metadata": {},
   "source": [
    "#### Se eliminan las columnas que no aportan a la construcción del modelo de predicción. Como comentario, la columna \"labels\" es igual a la columna \"status\" pero de caracter numérico y es al mismo tiempo la variable a predecir."
   ]
  },
  {
   "cell_type": "code",
   "execution_count": 49,
   "id": "smart-injury",
   "metadata": {},
   "outputs": [
    {
     "data": {
      "text/plain": [
       "Index(['Unnamed: 0', 'state_code', 'latitude', 'longitude', 'zip_code', 'id',\n",
       "       'city', 'Unnamed: 6', 'name', 'labels', 'founded_at', 'closed_at',\n",
       "       'first_funding_at', 'last_funding_at', 'age_first_funding_year',\n",
       "       'age_last_funding_year', 'age_first_milestone_year',\n",
       "       'age_last_milestone_year', 'relationships', 'funding_rounds',\n",
       "       'funding_total_usd', 'milestones', 'state_code.1', 'is_CA', 'is_NY',\n",
       "       'is_MA', 'is_TX', 'is_otherstate', 'category_code', 'is_software',\n",
       "       'is_web', 'is_mobile', 'is_enterprise', 'is_advertising',\n",
       "       'is_gamesvideo', 'is_ecommerce', 'is_biotech', 'is_consulting',\n",
       "       'is_othercategory', 'object_id', 'has_VC', 'has_angel', 'has_roundA',\n",
       "       'has_roundB', 'has_roundC', 'has_roundD', 'avg_participants',\n",
       "       'is_top500', 'status', 'foundation_year'],\n",
       "      dtype='object')"
      ]
     },
     "execution_count": 49,
     "metadata": {},
     "output_type": "execute_result"
    }
   ],
   "source": [
    "df_2.columns"
   ]
  },
  {
   "cell_type": "code",
   "execution_count": 50,
   "id": "classical-beverage",
   "metadata": {},
   "outputs": [],
   "source": [
    "df_2 = df_2.drop(columns=['Unnamed: 0', \n",
    "                          'state_code',\n",
    "                          'latitude',\n",
    "                          'longitude',\n",
    "                          'zip_code',\n",
    "                          'id',\n",
    "                          'city',\n",
    "                          'Unnamed: 6',\n",
    "                          'name',\n",
    "                          'founded_at',\n",
    "                          'closed_at',\n",
    "                          'first_funding_at',\n",
    "                          'last_funding_at',\n",
    "                          'state_code.1',\n",
    "                          'category_code',\n",
    "                          'object_id',\n",
    "                          'status',\n",
    "                          'foundation_year'\n",
    "                                        ])"
   ]
  },
  {
   "cell_type": "code",
   "execution_count": 51,
   "id": "liable-recipient",
   "metadata": {},
   "outputs": [
    {
     "data": {
      "text/plain": [
       "(840, 32)"
      ]
     },
     "execution_count": 51,
     "metadata": {},
     "output_type": "execute_result"
    }
   ],
   "source": [
    "df_2.shape"
   ]
  },
  {
   "cell_type": "code",
   "execution_count": 52,
   "id": "fallen-internship",
   "metadata": {},
   "outputs": [
    {
     "data": {
      "text/plain": [
       "labels                        0\n",
       "age_first_funding_year        0\n",
       "age_last_funding_year         0\n",
       "age_first_milestone_year    144\n",
       "age_last_milestone_year     144\n",
       "relationships                 0\n",
       "funding_rounds                0\n",
       "funding_total_usd             0\n",
       "milestones                    0\n",
       "is_CA                         0\n",
       "is_NY                         0\n",
       "is_MA                         0\n",
       "is_TX                         0\n",
       "is_otherstate                 0\n",
       "is_software                   0\n",
       "is_web                        0\n",
       "is_mobile                     0\n",
       "is_enterprise                 0\n",
       "is_advertising                0\n",
       "is_gamesvideo                 0\n",
       "is_ecommerce                  0\n",
       "is_biotech                    0\n",
       "is_consulting                 0\n",
       "is_othercategory              0\n",
       "has_VC                        0\n",
       "has_angel                     0\n",
       "has_roundA                    0\n",
       "has_roundB                    0\n",
       "has_roundC                    0\n",
       "has_roundD                    0\n",
       "avg_participants              0\n",
       "is_top500                     0\n",
       "dtype: int64"
      ]
     },
     "execution_count": 52,
     "metadata": {},
     "output_type": "execute_result"
    }
   ],
   "source": [
    "df_2.isna().sum()"
   ]
  },
  {
   "cell_type": "markdown",
   "id": "eligible-manor",
   "metadata": {},
   "source": [
    "#### Valores nulos en las columnas \"age_first_milestone_year\" y \"age_last_milestone_year\" indican que nunca tuvieron un \"milestone\". Se decide rellenar dichos valores nulos con ceros."
   ]
  },
  {
   "cell_type": "code",
   "execution_count": 53,
   "id": "neither-arrangement",
   "metadata": {},
   "outputs": [
    {
     "data": {
      "text/plain": [
       "labels                      0\n",
       "age_first_funding_year      0\n",
       "age_last_funding_year       0\n",
       "age_first_milestone_year    0\n",
       "age_last_milestone_year     0\n",
       "relationships               0\n",
       "funding_rounds              0\n",
       "funding_total_usd           0\n",
       "milestones                  0\n",
       "is_CA                       0\n",
       "is_NY                       0\n",
       "is_MA                       0\n",
       "is_TX                       0\n",
       "is_otherstate               0\n",
       "is_software                 0\n",
       "is_web                      0\n",
       "is_mobile                   0\n",
       "is_enterprise               0\n",
       "is_advertising              0\n",
       "is_gamesvideo               0\n",
       "is_ecommerce                0\n",
       "is_biotech                  0\n",
       "is_consulting               0\n",
       "is_othercategory            0\n",
       "has_VC                      0\n",
       "has_angel                   0\n",
       "has_roundA                  0\n",
       "has_roundB                  0\n",
       "has_roundC                  0\n",
       "has_roundD                  0\n",
       "avg_participants            0\n",
       "is_top500                   0\n",
       "dtype: int64"
      ]
     },
     "execution_count": 53,
     "metadata": {},
     "output_type": "execute_result"
    }
   ],
   "source": [
    "df_2['age_first_milestone_year'] = df_2['age_first_milestone_year'].fillna(0)\n",
    "df_2['age_last_milestone_year'] = df_2['age_last_milestone_year'].fillna(0)\n",
    "\n",
    "df_2.isna().sum()"
   ]
  },
  {
   "cell_type": "code",
   "execution_count": 54,
   "id": "unknown-current",
   "metadata": {},
   "outputs": [
    {
     "name": "stdout",
     "output_type": "stream",
     "text": [
      "<class 'pandas.core.frame.DataFrame'>\n",
      "Int64Index: 840 entries, 0 to 922\n",
      "Data columns (total 32 columns):\n",
      " #   Column                    Non-Null Count  Dtype  \n",
      "---  ------                    --------------  -----  \n",
      " 0   labels                    840 non-null    int64  \n",
      " 1   age_first_funding_year    840 non-null    float64\n",
      " 2   age_last_funding_year     840 non-null    float64\n",
      " 3   age_first_milestone_year  840 non-null    float64\n",
      " 4   age_last_milestone_year   840 non-null    float64\n",
      " 5   relationships             840 non-null    int64  \n",
      " 6   funding_rounds            840 non-null    int64  \n",
      " 7   funding_total_usd         840 non-null    int64  \n",
      " 8   milestones                840 non-null    int64  \n",
      " 9   is_CA                     840 non-null    int64  \n",
      " 10  is_NY                     840 non-null    int64  \n",
      " 11  is_MA                     840 non-null    int64  \n",
      " 12  is_TX                     840 non-null    int64  \n",
      " 13  is_otherstate             840 non-null    int64  \n",
      " 14  is_software               840 non-null    int64  \n",
      " 15  is_web                    840 non-null    int64  \n",
      " 16  is_mobile                 840 non-null    int64  \n",
      " 17  is_enterprise             840 non-null    int64  \n",
      " 18  is_advertising            840 non-null    int64  \n",
      " 19  is_gamesvideo             840 non-null    int64  \n",
      " 20  is_ecommerce              840 non-null    int64  \n",
      " 21  is_biotech                840 non-null    int64  \n",
      " 22  is_consulting             840 non-null    int64  \n",
      " 23  is_othercategory          840 non-null    int64  \n",
      " 24  has_VC                    840 non-null    int64  \n",
      " 25  has_angel                 840 non-null    int64  \n",
      " 26  has_roundA                840 non-null    int64  \n",
      " 27  has_roundB                840 non-null    int64  \n",
      " 28  has_roundC                840 non-null    int64  \n",
      " 29  has_roundD                840 non-null    int64  \n",
      " 30  avg_participants          840 non-null    float64\n",
      " 31  is_top500                 840 non-null    int64  \n",
      "dtypes: float64(5), int64(27)\n",
      "memory usage: 216.6 KB\n"
     ]
    }
   ],
   "source": [
    "df_2.info()"
   ]
  },
  {
   "cell_type": "markdown",
   "id": "digital-spanish",
   "metadata": {},
   "source": [
    "#### También, y con el objetivo de reducir posibles sezgos, se recomienda normalizar la información previamente. Esta normalización se va aplicar unicamente sobre las variables puramente numéricas y no sobre las que surgieron del porceso de one hot encoding."
   ]
  },
  {
   "cell_type": "code",
   "execution_count": 55,
   "id": "coupled-overhead",
   "metadata": {},
   "outputs": [],
   "source": [
    "normalizar_columnas= [\n",
    "    'age_first_funding_year',\n",
    "    'age_last_funding_year',\n",
    "    'age_first_milestone_year',\n",
    "    'age_last_milestone_year',\n",
    "    'relationships',          \n",
    "    'funding_rounds',              \n",
    "    'funding_total_usd',           \n",
    "    'milestones',\n",
    "    'avg_participants'\n",
    "    ]"
   ]
  },
  {
   "cell_type": "code",
   "execution_count": 56,
   "id": "advanced-fusion",
   "metadata": {},
   "outputs": [
    {
     "data": {
      "text/html": [
       "<div>\n",
       "<style scoped>\n",
       "    .dataframe tbody tr th:only-of-type {\n",
       "        vertical-align: middle;\n",
       "    }\n",
       "\n",
       "    .dataframe tbody tr th {\n",
       "        vertical-align: top;\n",
       "    }\n",
       "\n",
       "    .dataframe thead th {\n",
       "        text-align: right;\n",
       "    }\n",
       "</style>\n",
       "<table border=\"1\" class=\"dataframe\">\n",
       "  <thead>\n",
       "    <tr style=\"text-align: right;\">\n",
       "      <th></th>\n",
       "      <th>labels</th>\n",
       "      <th>age_first_funding_year</th>\n",
       "      <th>age_last_funding_year</th>\n",
       "      <th>age_first_milestone_year</th>\n",
       "      <th>age_last_milestone_year</th>\n",
       "      <th>relationships</th>\n",
       "      <th>funding_rounds</th>\n",
       "      <th>funding_total_usd</th>\n",
       "      <th>milestones</th>\n",
       "      <th>is_CA</th>\n",
       "      <th>...</th>\n",
       "      <th>is_consulting</th>\n",
       "      <th>is_othercategory</th>\n",
       "      <th>has_VC</th>\n",
       "      <th>has_angel</th>\n",
       "      <th>has_roundA</th>\n",
       "      <th>has_roundB</th>\n",
       "      <th>has_roundC</th>\n",
       "      <th>has_roundD</th>\n",
       "      <th>avg_participants</th>\n",
       "      <th>is_top500</th>\n",
       "    </tr>\n",
       "  </thead>\n",
       "  <tbody>\n",
       "    <tr>\n",
       "      <th>0</th>\n",
       "      <td>1</td>\n",
       "      <td>-0.069786</td>\n",
       "      <td>-0.383699</td>\n",
       "      <td>0.654706</td>\n",
       "      <td>0.756949</td>\n",
       "      <td>-0.652793</td>\n",
       "      <td>0.484014</td>\n",
       "      <td>-0.134415</td>\n",
       "      <td>0.889515</td>\n",
       "      <td>1</td>\n",
       "      <td>...</td>\n",
       "      <td>0</td>\n",
       "      <td>1</td>\n",
       "      <td>0</td>\n",
       "      <td>1</td>\n",
       "      <td>0</td>\n",
       "      <td>0</td>\n",
       "      <td>0</td>\n",
       "      <td>0</td>\n",
       "      <td>-0.994238</td>\n",
       "      <td>0</td>\n",
       "    </tr>\n",
       "    <tr>\n",
       "      <th>1</th>\n",
       "      <td>1</td>\n",
       "      <td>1.083016</td>\n",
       "      <td>1.997422</td>\n",
       "      <td>1.475847</td>\n",
       "      <td>0.845494</td>\n",
       "      <td>0.171375</td>\n",
       "      <td>1.196048</td>\n",
       "      <td>0.065524</td>\n",
       "      <td>-0.618442</td>\n",
       "      <td>1</td>\n",
       "      <td>...</td>\n",
       "      <td>0</td>\n",
       "      <td>0</td>\n",
       "      <td>1</td>\n",
       "      <td>0</td>\n",
       "      <td>0</td>\n",
       "      <td>1</td>\n",
       "      <td>1</td>\n",
       "      <td>1</td>\n",
       "      <td>0.971545</td>\n",
       "      <td>1</td>\n",
       "    </tr>\n",
       "    <tr>\n",
       "      <th>2</th>\n",
       "      <td>1</td>\n",
       "      <td>-0.557243</td>\n",
       "      <td>-1.054264</td>\n",
       "      <td>-0.473528</td>\n",
       "      <td>-0.564642</td>\n",
       "      <td>-0.378071</td>\n",
       "      <td>-0.940055</td>\n",
       "      <td>-0.123217</td>\n",
       "      <td>0.135537</td>\n",
       "      <td>1</td>\n",
       "      <td>...</td>\n",
       "      <td>0</td>\n",
       "      <td>0</td>\n",
       "      <td>0</td>\n",
       "      <td>0</td>\n",
       "      <td>1</td>\n",
       "      <td>0</td>\n",
       "      <td>0</td>\n",
       "      <td>0</td>\n",
       "      <td>0.578389</td>\n",
       "      <td>1</td>\n",
       "    </tr>\n",
       "    <tr>\n",
       "      <th>3</th>\n",
       "      <td>1</td>\n",
       "      <td>0.283745</td>\n",
       "      <td>0.403494</td>\n",
       "      <td>1.123498</td>\n",
       "      <td>0.550893</td>\n",
       "      <td>-0.378071</td>\n",
       "      <td>0.484014</td>\n",
       "      <td>0.065021</td>\n",
       "      <td>-0.618442</td>\n",
       "      <td>1</td>\n",
       "      <td>...</td>\n",
       "      <td>0</td>\n",
       "      <td>0</td>\n",
       "      <td>0</td>\n",
       "      <td>0</td>\n",
       "      <td>0</td>\n",
       "      <td>1</td>\n",
       "      <td>1</td>\n",
       "      <td>1</td>\n",
       "      <td>0.228899</td>\n",
       "      <td>1</td>\n",
       "    </tr>\n",
       "    <tr>\n",
       "      <th>4</th>\n",
       "      <td>0</td>\n",
       "      <td>-0.971164</td>\n",
       "      <td>-0.837891</td>\n",
       "      <td>-0.972150</td>\n",
       "      <td>-1.201289</td>\n",
       "      <td>-0.790155</td>\n",
       "      <td>-0.228020</td>\n",
       "      <td>-0.129760</td>\n",
       "      <td>-0.618442</td>\n",
       "      <td>1</td>\n",
       "      <td>...</td>\n",
       "      <td>0</td>\n",
       "      <td>0</td>\n",
       "      <td>1</td>\n",
       "      <td>1</td>\n",
       "      <td>0</td>\n",
       "      <td>0</td>\n",
       "      <td>0</td>\n",
       "      <td>0</td>\n",
       "      <td>-0.994238</td>\n",
       "      <td>1</td>\n",
       "    </tr>\n",
       "  </tbody>\n",
       "</table>\n",
       "<p>5 rows × 32 columns</p>\n",
       "</div>"
      ],
      "text/plain": [
       "   labels  age_first_funding_year  age_last_funding_year  \\\n",
       "0       1               -0.069786              -0.383699   \n",
       "1       1                1.083016               1.997422   \n",
       "2       1               -0.557243              -1.054264   \n",
       "3       1                0.283745               0.403494   \n",
       "4       0               -0.971164              -0.837891   \n",
       "\n",
       "   age_first_milestone_year  age_last_milestone_year  relationships  \\\n",
       "0                  0.654706                 0.756949      -0.652793   \n",
       "1                  1.475847                 0.845494       0.171375   \n",
       "2                 -0.473528                -0.564642      -0.378071   \n",
       "3                  1.123498                 0.550893      -0.378071   \n",
       "4                 -0.972150                -1.201289      -0.790155   \n",
       "\n",
       "   funding_rounds  funding_total_usd  milestones  is_CA  ...  is_consulting  \\\n",
       "0        0.484014          -0.134415    0.889515      1  ...              0   \n",
       "1        1.196048           0.065524   -0.618442      1  ...              0   \n",
       "2       -0.940055          -0.123217    0.135537      1  ...              0   \n",
       "3        0.484014           0.065021   -0.618442      1  ...              0   \n",
       "4       -0.228020          -0.129760   -0.618442      1  ...              0   \n",
       "\n",
       "   is_othercategory  has_VC  has_angel  has_roundA  has_roundB  has_roundC  \\\n",
       "0                 1       0          1           0           0           0   \n",
       "1                 0       1          0           0           1           1   \n",
       "2                 0       0          0           1           0           0   \n",
       "3                 0       0          0           0           1           1   \n",
       "4                 0       1          1           0           0           0   \n",
       "\n",
       "   has_roundD  avg_participants  is_top500  \n",
       "0           0         -0.994238          0  \n",
       "1           1          0.971545          1  \n",
       "2           0          0.578389          1  \n",
       "3           1          0.228899          1  \n",
       "4           0         -0.994238          1  \n",
       "\n",
       "[5 rows x 32 columns]"
      ]
     },
     "execution_count": 56,
     "metadata": {},
     "output_type": "execute_result"
    }
   ],
   "source": [
    "for i in normalizar_columnas:\n",
    "    df_2[i] = (df_2[i] - df_2[i].mean()) / df_2[i].std() \n",
    "\n",
    "df_2.head()"
   ]
  },
  {
   "cell_type": "markdown",
   "id": "lined-ribbon",
   "metadata": {},
   "source": [
    "#### Deben definirse las variables que formarán la matriz X. En este caso, todas las columnas excepto aquella que hace referencia al \"status\" o \"labels\" de la startup."
   ]
  },
  {
   "cell_type": "code",
   "execution_count": 57,
   "id": "judicial-nicholas",
   "metadata": {},
   "outputs": [
    {
     "data": {
      "text/html": [
       "<div>\n",
       "<style scoped>\n",
       "    .dataframe tbody tr th:only-of-type {\n",
       "        vertical-align: middle;\n",
       "    }\n",
       "\n",
       "    .dataframe tbody tr th {\n",
       "        vertical-align: top;\n",
       "    }\n",
       "\n",
       "    .dataframe thead th {\n",
       "        text-align: right;\n",
       "    }\n",
       "</style>\n",
       "<table border=\"1\" class=\"dataframe\">\n",
       "  <thead>\n",
       "    <tr style=\"text-align: right;\">\n",
       "      <th></th>\n",
       "      <th>age_first_funding_year</th>\n",
       "      <th>age_last_funding_year</th>\n",
       "      <th>age_first_milestone_year</th>\n",
       "      <th>age_last_milestone_year</th>\n",
       "      <th>relationships</th>\n",
       "      <th>funding_rounds</th>\n",
       "      <th>funding_total_usd</th>\n",
       "      <th>milestones</th>\n",
       "      <th>is_CA</th>\n",
       "      <th>is_NY</th>\n",
       "      <th>...</th>\n",
       "      <th>is_consulting</th>\n",
       "      <th>is_othercategory</th>\n",
       "      <th>has_VC</th>\n",
       "      <th>has_angel</th>\n",
       "      <th>has_roundA</th>\n",
       "      <th>has_roundB</th>\n",
       "      <th>has_roundC</th>\n",
       "      <th>has_roundD</th>\n",
       "      <th>avg_participants</th>\n",
       "      <th>is_top500</th>\n",
       "    </tr>\n",
       "  </thead>\n",
       "  <tbody>\n",
       "    <tr>\n",
       "      <th>0</th>\n",
       "      <td>-0.069786</td>\n",
       "      <td>-0.383699</td>\n",
       "      <td>0.654706</td>\n",
       "      <td>0.756949</td>\n",
       "      <td>-0.652793</td>\n",
       "      <td>0.484014</td>\n",
       "      <td>-0.134415</td>\n",
       "      <td>0.889515</td>\n",
       "      <td>1</td>\n",
       "      <td>0</td>\n",
       "      <td>...</td>\n",
       "      <td>0</td>\n",
       "      <td>1</td>\n",
       "      <td>0</td>\n",
       "      <td>1</td>\n",
       "      <td>0</td>\n",
       "      <td>0</td>\n",
       "      <td>0</td>\n",
       "      <td>0</td>\n",
       "      <td>-0.994238</td>\n",
       "      <td>0</td>\n",
       "    </tr>\n",
       "    <tr>\n",
       "      <th>1</th>\n",
       "      <td>1.083016</td>\n",
       "      <td>1.997422</td>\n",
       "      <td>1.475847</td>\n",
       "      <td>0.845494</td>\n",
       "      <td>0.171375</td>\n",
       "      <td>1.196048</td>\n",
       "      <td>0.065524</td>\n",
       "      <td>-0.618442</td>\n",
       "      <td>1</td>\n",
       "      <td>0</td>\n",
       "      <td>...</td>\n",
       "      <td>0</td>\n",
       "      <td>0</td>\n",
       "      <td>1</td>\n",
       "      <td>0</td>\n",
       "      <td>0</td>\n",
       "      <td>1</td>\n",
       "      <td>1</td>\n",
       "      <td>1</td>\n",
       "      <td>0.971545</td>\n",
       "      <td>1</td>\n",
       "    </tr>\n",
       "    <tr>\n",
       "      <th>2</th>\n",
       "      <td>-0.557243</td>\n",
       "      <td>-1.054264</td>\n",
       "      <td>-0.473528</td>\n",
       "      <td>-0.564642</td>\n",
       "      <td>-0.378071</td>\n",
       "      <td>-0.940055</td>\n",
       "      <td>-0.123217</td>\n",
       "      <td>0.135537</td>\n",
       "      <td>1</td>\n",
       "      <td>0</td>\n",
       "      <td>...</td>\n",
       "      <td>0</td>\n",
       "      <td>0</td>\n",
       "      <td>0</td>\n",
       "      <td>0</td>\n",
       "      <td>1</td>\n",
       "      <td>0</td>\n",
       "      <td>0</td>\n",
       "      <td>0</td>\n",
       "      <td>0.578389</td>\n",
       "      <td>1</td>\n",
       "    </tr>\n",
       "    <tr>\n",
       "      <th>3</th>\n",
       "      <td>0.283745</td>\n",
       "      <td>0.403494</td>\n",
       "      <td>1.123498</td>\n",
       "      <td>0.550893</td>\n",
       "      <td>-0.378071</td>\n",
       "      <td>0.484014</td>\n",
       "      <td>0.065021</td>\n",
       "      <td>-0.618442</td>\n",
       "      <td>1</td>\n",
       "      <td>0</td>\n",
       "      <td>...</td>\n",
       "      <td>0</td>\n",
       "      <td>0</td>\n",
       "      <td>0</td>\n",
       "      <td>0</td>\n",
       "      <td>0</td>\n",
       "      <td>1</td>\n",
       "      <td>1</td>\n",
       "      <td>1</td>\n",
       "      <td>0.228899</td>\n",
       "      <td>1</td>\n",
       "    </tr>\n",
       "    <tr>\n",
       "      <th>4</th>\n",
       "      <td>-0.971164</td>\n",
       "      <td>-0.837891</td>\n",
       "      <td>-0.972150</td>\n",
       "      <td>-1.201289</td>\n",
       "      <td>-0.790155</td>\n",
       "      <td>-0.228020</td>\n",
       "      <td>-0.129760</td>\n",
       "      <td>-0.618442</td>\n",
       "      <td>1</td>\n",
       "      <td>0</td>\n",
       "      <td>...</td>\n",
       "      <td>0</td>\n",
       "      <td>0</td>\n",
       "      <td>1</td>\n",
       "      <td>1</td>\n",
       "      <td>0</td>\n",
       "      <td>0</td>\n",
       "      <td>0</td>\n",
       "      <td>0</td>\n",
       "      <td>-0.994238</td>\n",
       "      <td>1</td>\n",
       "    </tr>\n",
       "  </tbody>\n",
       "</table>\n",
       "<p>5 rows × 31 columns</p>\n",
       "</div>"
      ],
      "text/plain": [
       "   age_first_funding_year  age_last_funding_year  age_first_milestone_year  \\\n",
       "0               -0.069786              -0.383699                  0.654706   \n",
       "1                1.083016               1.997422                  1.475847   \n",
       "2               -0.557243              -1.054264                 -0.473528   \n",
       "3                0.283745               0.403494                  1.123498   \n",
       "4               -0.971164              -0.837891                 -0.972150   \n",
       "\n",
       "   age_last_milestone_year  relationships  funding_rounds  funding_total_usd  \\\n",
       "0                 0.756949      -0.652793        0.484014          -0.134415   \n",
       "1                 0.845494       0.171375        1.196048           0.065524   \n",
       "2                -0.564642      -0.378071       -0.940055          -0.123217   \n",
       "3                 0.550893      -0.378071        0.484014           0.065021   \n",
       "4                -1.201289      -0.790155       -0.228020          -0.129760   \n",
       "\n",
       "   milestones  is_CA  is_NY  ...  is_consulting  is_othercategory  has_VC  \\\n",
       "0    0.889515      1      0  ...              0                 1       0   \n",
       "1   -0.618442      1      0  ...              0                 0       1   \n",
       "2    0.135537      1      0  ...              0                 0       0   \n",
       "3   -0.618442      1      0  ...              0                 0       0   \n",
       "4   -0.618442      1      0  ...              0                 0       1   \n",
       "\n",
       "   has_angel  has_roundA  has_roundB  has_roundC  has_roundD  \\\n",
       "0          1           0           0           0           0   \n",
       "1          0           0           1           1           1   \n",
       "2          0           1           0           0           0   \n",
       "3          0           0           1           1           1   \n",
       "4          1           0           0           0           0   \n",
       "\n",
       "   avg_participants  is_top500  \n",
       "0         -0.994238          0  \n",
       "1          0.971545          1  \n",
       "2          0.578389          1  \n",
       "3          0.228899          1  \n",
       "4         -0.994238          1  \n",
       "\n",
       "[5 rows x 31 columns]"
      ]
     },
     "execution_count": 57,
     "metadata": {},
     "output_type": "execute_result"
    }
   ],
   "source": [
    "X = df_2.drop(columns=['labels'])\n",
    "X.head()"
   ]
  },
  {
   "cell_type": "code",
   "execution_count": 58,
   "id": "bound-timer",
   "metadata": {},
   "outputs": [
    {
     "data": {
      "text/plain": [
       "(840, 31)"
      ]
     },
     "execution_count": 58,
     "metadata": {},
     "output_type": "execute_result"
    }
   ],
   "source": [
    "X.shape"
   ]
  },
  {
   "cell_type": "markdown",
   "id": "supreme-remainder",
   "metadata": {},
   "source": [
    " #### Por otro lado, el vector \"y\" sobre el cual se predice se encuentra representado por la columna \"status\" o labels la cual es de caracter binario e indica si una startup fue adquirida (éxito=1) o debio cerrar (fracaso=0). "
   ]
  },
  {
   "cell_type": "code",
   "execution_count": 59,
   "id": "suspended-brunei",
   "metadata": {},
   "outputs": [
    {
     "data": {
      "text/plain": [
       "1    552\n",
       "0    288\n",
       "Name: labels, dtype: int64"
      ]
     },
     "execution_count": 59,
     "metadata": {},
     "output_type": "execute_result"
    }
   ],
   "source": [
    "df_2['labels'].value_counts()"
   ]
  },
  {
   "cell_type": "code",
   "execution_count": 60,
   "id": "first-values",
   "metadata": {},
   "outputs": [
    {
     "data": {
      "text/plain": [
       "0"
      ]
     },
     "execution_count": 60,
     "metadata": {},
     "output_type": "execute_result"
    }
   ],
   "source": [
    "df_2['labels'].isna().sum()"
   ]
  },
  {
   "cell_type": "code",
   "execution_count": 61,
   "id": "atlantic-surface",
   "metadata": {},
   "outputs": [
    {
     "name": "stdout",
     "output_type": "stream",
     "text": [
      "(840,) <class 'numpy.int64'>\n"
     ]
    }
   ],
   "source": [
    "# Defino el vector y:\n",
    "y = df_2['labels']\n",
    "print(y.shape, type(y[0]))"
   ]
  },
  {
   "cell_type": "code",
   "execution_count": 62,
   "id": "sweet-positive",
   "metadata": {},
   "outputs": [],
   "source": [
    "# Modifico el tipo de la variable y\n",
    "y = y.astype('int')"
   ]
  },
  {
   "cell_type": "markdown",
   "id": "julian-contractor",
   "metadata": {},
   "source": [
    "#### Ya se encuentran definidos la matriz X y el vector y que era el objetivo de esta primera parte. A continuación, se propone desarrollar un modelo de predicción a partir del algoritmo \"Decision Tree Classifier\" o arbol de decisión."
   ]
  },
  {
   "cell_type": "markdown",
   "id": "recorded-julian",
   "metadata": {},
   "source": [
    "### Algoritmo I: Decision Tree"
   ]
  },
  {
   "cell_type": "code",
   "execution_count": 63,
   "id": "cathedral-happiness",
   "metadata": {},
   "outputs": [],
   "source": [
    "# Divido la matriz X y el vector y en train/test\n",
    "X_train, X_test, y_train, y_test = train_test_split(X, y, test_size=0.3, random_state=42)"
   ]
  },
  {
   "cell_type": "code",
   "execution_count": 64,
   "id": "quick-gasoline",
   "metadata": {},
   "outputs": [
    {
     "name": "stdout",
     "output_type": "stream",
     "text": [
      "(588, 31) (252, 31) (588,) (252,)\n"
     ]
    }
   ],
   "source": [
    "print(X_train.shape, X_test.shape, y_train.shape, y_test.shape)"
   ]
  },
  {
   "cell_type": "code",
   "execution_count": 65,
   "id": "blessed-office",
   "metadata": {},
   "outputs": [],
   "source": [
    "# Creo el modelo\n",
    "tree = DecisionTreeClassifier(max_depth=5, random_state=42) # Se propone un valor de max_depth=5"
   ]
  },
  {
   "cell_type": "code",
   "execution_count": 66,
   "id": "cathedral-philippines",
   "metadata": {},
   "outputs": [
    {
     "data": {
      "text/plain": [
       "DecisionTreeClassifier(max_depth=5, random_state=42)"
      ]
     },
     "execution_count": 66,
     "metadata": {},
     "output_type": "execute_result"
    }
   ],
   "source": [
    "# Entreno el modelo\n",
    "tree.fit(X_train, y_train)"
   ]
  },
  {
   "cell_type": "code",
   "execution_count": 67,
   "id": "weird-level",
   "metadata": {},
   "outputs": [],
   "source": [
    "# Realizo una predicción\n",
    "y_train_pred_1 = tree.predict(X_train) # Predicción en Train\n",
    "y_test_pred_1 = tree.predict(X_test) # Predicción en Test"
   ]
  },
  {
   "cell_type": "code",
   "execution_count": 68,
   "id": "express-thomas",
   "metadata": {},
   "outputs": [
    {
     "name": "stdout",
     "output_type": "stream",
     "text": [
      "% de aciertos sobre el set de entrenamiento: 84.4\n",
      "% de aciertos sobre el set de evaluación: 77.8\n"
     ]
    }
   ],
   "source": [
    "# Calculo el accuracy en Train\n",
    "train_accuracy_1 = accuracy_score(y_train, y_train_pred_1)\n",
    "\n",
    "# Calculo el accuracy en Test\n",
    "test_accuracy_1 = accuracy_score(y_test, y_test_pred_1)\n",
    "\n",
    "print('% de aciertos sobre el set de entrenamiento:', round(100*train_accuracy_1, 1))\n",
    "print('% de aciertos sobre el set de evaluación:',round(100*test_accuracy_1, 1))"
   ]
  },
  {
   "cell_type": "markdown",
   "id": "consolidated-relaxation",
   "metadata": {},
   "source": [
    "#### Otra manera de cuantificar la calidad del modelo es através de la matriz de confusión.\n",
    "#### En la misma se indican:\n",
    "    - Verdaderos Positivos\n",
    "    - Falsos Positivos\n",
    "    - Verdaderos Negativos\n",
    "    - Falsos Negativos\n",
    "#### Tanto Falsos positivos como negativos son indeseados. Para el caso particular de este problema, se considera igualmente más riesgoso o se castiga más a modelos con mayor cantidad de falsos positivos, ya que implica un gran riego de inversión indicar que una startup fue exitosa cuando en realidad no lo fue."
   ]
  },
  {
   "cell_type": "markdown",
   "id": "ethical-float",
   "metadata": {},
   "source": [
    "#### Se determina la matriz de confusión a partir de la comparación entre el vector \"y_test\" y el vector \"y_test_pred_1\"."
   ]
  },
  {
   "cell_type": "code",
   "execution_count": 69,
   "id": "bearing-footage",
   "metadata": {},
   "outputs": [
    {
     "data": {
      "text/plain": [
       "array([[ 38,  41],\n",
       "       [ 15, 158]], dtype=int64)"
      ]
     },
     "execution_count": 69,
     "metadata": {},
     "output_type": "execute_result"
    }
   ],
   "source": [
    "CM_1 = confusion_matrix(y_test, y_test_pred_1)\n",
    "CM_1"
   ]
  },
  {
   "cell_type": "markdown",
   "id": "direct-return",
   "metadata": {},
   "source": [
    "#### Por otro lado, se propone hacer uso de otro algoritmol llamado Random Forest. El mismo es muy similar al Decision Tree Classifier. Difieren en que Random Forest utiliza \"n\" árboles predictores y por lo tanto la predicción final se resuelve por votación y no por el resultado que arroja un único árbol."
   ]
  },
  {
   "cell_type": "markdown",
   "id": "spiritual-skiing",
   "metadata": {},
   "source": [
    "### Algoritmo II: Random Forest"
   ]
  },
  {
   "cell_type": "code",
   "execution_count": 70,
   "id": "adapted-david",
   "metadata": {},
   "outputs": [
    {
     "data": {
      "text/plain": [
       "RandomForestClassifier(max_depth=5, n_estimators=50, random_state=42)"
      ]
     },
     "execution_count": 70,
     "metadata": {},
     "output_type": "execute_result"
    }
   ],
   "source": [
    "# Creo un modelo Random Forest\n",
    "random_forest = RandomForestClassifier(random_state=42, n_estimators=50, max_depth=5) # Se propone utilizar 50 árboles\n",
    "\n",
    "# Entreno al modelo\n",
    "random_forest.fit(X_train, y_train)"
   ]
  },
  {
   "cell_type": "code",
   "execution_count": 71,
   "id": "convertible-memphis",
   "metadata": {},
   "outputs": [],
   "source": [
    "# Realizo una predicción\n",
    "y_train_pred_2 = random_forest.predict(X_train) # Predicción en Train\n",
    "y_test_pred_2 = random_forest.predict(X_test) # Predicción en Test"
   ]
  },
  {
   "cell_type": "code",
   "execution_count": 72,
   "id": "convertible-slope",
   "metadata": {},
   "outputs": [
    {
     "name": "stdout",
     "output_type": "stream",
     "text": [
      "% de aciertos sobre el set de entrenamiento: 85.0\n",
      "% de aciertos sobre el set de evaluación: 81.0\n"
     ]
    }
   ],
   "source": [
    "# Calculo el accuracy en Train\n",
    "train_accuracy_2 = accuracy_score(y_train, y_train_pred_2)\n",
    "\n",
    "# Calculo el accuracy en Test\n",
    "test_accuracy_2 = accuracy_score(y_test, y_test_pred_2)\n",
    "\n",
    "print('% de aciertos sobre el set de entrenamiento:', round(100*train_accuracy_2, 1))\n",
    "print('% de aciertos sobre el set de evaluación:',round(100*test_accuracy_2, 1))"
   ]
  },
  {
   "cell_type": "markdown",
   "id": "sound-motivation",
   "metadata": {},
   "source": [
    "#### Se calcula nuevamente la matriz de confusión para este nuevo modelo."
   ]
  },
  {
   "cell_type": "code",
   "execution_count": 73,
   "id": "diagnostic-tobago",
   "metadata": {},
   "outputs": [
    {
     "data": {
      "text/plain": [
       "array([[ 38,  41],\n",
       "       [  7, 166]], dtype=int64)"
      ]
     },
     "execution_count": 73,
     "metadata": {},
     "output_type": "execute_result"
    }
   ],
   "source": [
    "CM_2 = confusion_matrix(y_test, y_test_pred_2)\n",
    "CM_2"
   ]
  },
  {
   "cell_type": "markdown",
   "id": "breathing-harrison",
   "metadata": {},
   "source": [
    "#### En búsqueda de un mejor modelo, se propone hacer un tuneo de los parametro que caracterizan al modelo de random forest."
   ]
  },
  {
   "cell_type": "code",
   "execution_count": 74,
   "id": "informational-vehicle",
   "metadata": {},
   "outputs": [
    {
     "data": {
      "text/plain": [
       "{'bootstrap': True,\n",
       " 'ccp_alpha': 0.0,\n",
       " 'class_weight': None,\n",
       " 'criterion': 'gini',\n",
       " 'max_depth': 5,\n",
       " 'max_features': 'auto',\n",
       " 'max_leaf_nodes': None,\n",
       " 'max_samples': None,\n",
       " 'min_impurity_decrease': 0.0,\n",
       " 'min_impurity_split': None,\n",
       " 'min_samples_leaf': 1,\n",
       " 'min_samples_split': 2,\n",
       " 'min_weight_fraction_leaf': 0.0,\n",
       " 'n_estimators': 50,\n",
       " 'n_jobs': None,\n",
       " 'oob_score': False,\n",
       " 'random_state': 42,\n",
       " 'verbose': 0,\n",
       " 'warm_start': False}"
      ]
     },
     "execution_count": 74,
     "metadata": {},
     "output_type": "execute_result"
    }
   ],
   "source": [
    "random_forest.get_params()"
   ]
  },
  {
   "cell_type": "code",
   "execution_count": 75,
   "id": "literary-horizontal",
   "metadata": {},
   "outputs": [],
   "source": [
    "# Definicion de los Hyperparámetros\n",
    "param_grid =  {\n",
    "    'bootstrap': [True, False],\n",
    "    'max_depth': [3, 5, 7, 10],\n",
    "    'max_features': ['auto', 'sqrt'],\n",
    "    'min_samples_leaf': [1, 2, 4],\n",
    "    'min_samples_split': [2, 5, 10],\n",
    "    'n_estimators': [25, 50, 75, 100, 200]\n",
    "    }"
   ]
  },
  {
   "cell_type": "code",
   "execution_count": 76,
   "id": "ordinary-sample",
   "metadata": {},
   "outputs": [],
   "source": [
    "random_forest_tuned = GridSearchCV(random_forest, param_grid=param_grid, cv=5)"
   ]
  },
  {
   "cell_type": "code",
   "execution_count": 77,
   "id": "nutritional-energy",
   "metadata": {},
   "outputs": [
    {
     "data": {
      "text/plain": [
       "GridSearchCV(cv=5,\n",
       "             estimator=RandomForestClassifier(max_depth=5, n_estimators=50,\n",
       "                                              random_state=42),\n",
       "             param_grid={'bootstrap': [True, False], 'max_depth': [3, 5, 7, 10],\n",
       "                         'max_features': ['auto', 'sqrt'],\n",
       "                         'min_samples_leaf': [1, 2, 4],\n",
       "                         'min_samples_split': [2, 5, 10],\n",
       "                         'n_estimators': [25, 50, 75, 100, 200]})"
      ]
     },
     "execution_count": 77,
     "metadata": {},
     "output_type": "execute_result"
    }
   ],
   "source": [
    "random_forest_tuned.fit(X_train, y_train)"
   ]
  },
  {
   "cell_type": "code",
   "execution_count": 78,
   "id": "brazilian-corrections",
   "metadata": {},
   "outputs": [
    {
     "data": {
      "text/plain": [
       "{'bootstrap': True,\n",
       " 'max_depth': 5,\n",
       " 'max_features': 'auto',\n",
       " 'min_samples_leaf': 1,\n",
       " 'min_samples_split': 5,\n",
       " 'n_estimators': 25}"
      ]
     },
     "execution_count": 78,
     "metadata": {},
     "output_type": "execute_result"
    }
   ],
   "source": [
    "random_forest_tuned.best_params_"
   ]
  },
  {
   "cell_type": "markdown",
   "id": "dramatic-today",
   "metadata": {},
   "source": [
    "#### Con estos nuevos mejores parámetros se calculan nuevamente las métricas del nuevo modelo mejorado. "
   ]
  },
  {
   "cell_type": "code",
   "execution_count": 79,
   "id": "attractive-taylor",
   "metadata": {},
   "outputs": [],
   "source": [
    "random_forest_2 = RandomForestClassifier(\n",
    "                    bootstrap=True,\n",
    "                    max_features='auto',\n",
    "                    min_samples_leaf=1,\n",
    "                    random_state=42,\n",
    "                    n_estimators=25,\n",
    "                    max_depth=5,\n",
    "                    min_samples_split=5\n",
    "                                        )"
   ]
  },
  {
   "cell_type": "code",
   "execution_count": 80,
   "id": "accessible-ebony",
   "metadata": {},
   "outputs": [
    {
     "data": {
      "text/plain": [
       "RandomForestClassifier(max_depth=5, min_samples_split=5, n_estimators=25,\n",
       "                       random_state=42)"
      ]
     },
     "execution_count": 80,
     "metadata": {},
     "output_type": "execute_result"
    }
   ],
   "source": [
    "random_forest_2.fit(X_train, y_train)"
   ]
  },
  {
   "cell_type": "code",
   "execution_count": 81,
   "id": "helpful-component",
   "metadata": {},
   "outputs": [],
   "source": [
    "# Realizo una predicción\n",
    "y_train_pred_3 = random_forest_2.predict(X_train) # Predicción en Train\n",
    "y_test_pred_3 = random_forest_2.predict(X_test) # Predicción en Test"
   ]
  },
  {
   "cell_type": "code",
   "execution_count": 82,
   "id": "serious-hollow",
   "metadata": {},
   "outputs": [
    {
     "name": "stdout",
     "output_type": "stream",
     "text": [
      "% de aciertos sobre el set de entrenamiento: 84.4\n",
      "% de aciertos sobre el set de evaluación: 81.3\n"
     ]
    }
   ],
   "source": [
    "# Calculo el accuracy en Train\n",
    "train_accuracy_3 = accuracy_score(y_train, y_train_pred_3)\n",
    "\n",
    "# Calculo el accuracy en Test\n",
    "test_accuracy_3 = accuracy_score(y_test, y_test_pred_3)\n",
    "\n",
    "print('% de aciertos sobre el set de entrenamiento:', round(100*train_accuracy_3, 1))\n",
    "print('% de aciertos sobre el set de evaluación:',round(100*test_accuracy_3, 1))"
   ]
  },
  {
   "cell_type": "code",
   "execution_count": 83,
   "id": "solid-corrections",
   "metadata": {},
   "outputs": [
    {
     "data": {
      "text/plain": [
       "array([[ 39,  40],\n",
       "       [  7, 166]], dtype=int64)"
      ]
     },
     "execution_count": 83,
     "metadata": {},
     "output_type": "execute_result"
    }
   ],
   "source": [
    "CM_3 = confusion_matrix(y_test, y_test_pred_3)\n",
    "CM_3"
   ]
  },
  {
   "cell_type": "markdown",
   "id": "desperate-conflict",
   "metadata": {},
   "source": [
    "#### En este caso se disminuyo la cantidad de falsos positivos en una unidad solamente. Invita a pensar que el costo computacional invertido no valio la pena."
   ]
  },
  {
   "cell_type": "markdown",
   "id": "alike-toner",
   "metadata": {},
   "source": [
    "### Algoritmo III: XG Boost"
   ]
  },
  {
   "cell_type": "code",
   "execution_count": 84,
   "id": "grave-resistance",
   "metadata": {},
   "outputs": [],
   "source": [
    "xgb_1 = xgb.XGBClassifier(objective='binary:logistic',\n",
    "                            n_estimators=10,\n",
    "                            seed=42,\n",
    "                            max_depth=6,\n",
    "                            learning_rate=0.01)"
   ]
  },
  {
   "cell_type": "code",
   "execution_count": 85,
   "id": "plain-steam",
   "metadata": {},
   "outputs": [
    {
     "data": {
      "text/plain": [
       "XGBClassifier(learning_rate=0.01, max_depth=6, n_estimators=10, seed=42)"
      ]
     },
     "execution_count": 85,
     "metadata": {},
     "output_type": "execute_result"
    }
   ],
   "source": [
    "xgb_1.fit(X_train, y_train)"
   ]
  },
  {
   "cell_type": "code",
   "execution_count": 86,
   "id": "placed-wound",
   "metadata": {},
   "outputs": [],
   "source": [
    "y_train_pred_4 = xgb_1.predict(X_train) \n",
    "y_test_pred_4 = xgb_1.predict(X_test)"
   ]
  },
  {
   "cell_type": "code",
   "execution_count": 87,
   "id": "small-wedding",
   "metadata": {},
   "outputs": [
    {
     "name": "stdout",
     "output_type": "stream",
     "text": [
      "% de aciertos sobre el set de entrenamiento: 86.6\n",
      "% de aciertos sobre el set de evaluación: 75.4\n"
     ]
    }
   ],
   "source": [
    "# Calculo el accuracy en Train\n",
    "train_accuracy_4 = accuracy_score(y_train, y_train_pred_4)\n",
    "\n",
    "# Calculo el accuracy en Test\n",
    "test_accuracy_4 = accuracy_score(y_test, y_test_pred_4)\n",
    "\n",
    "print('% de aciertos sobre el set de entrenamiento:', round(100*train_accuracy_4, 1))\n",
    "print('% de aciertos sobre el set de evaluación:',round(100*test_accuracy_4, 1))"
   ]
  },
  {
   "cell_type": "code",
   "execution_count": 88,
   "id": "adult-price",
   "metadata": {},
   "outputs": [
    {
     "data": {
      "text/plain": [
       "array([[ 41,  38],\n",
       "       [ 24, 149]], dtype=int64)"
      ]
     },
     "execution_count": 88,
     "metadata": {},
     "output_type": "execute_result"
    }
   ],
   "source": [
    "CM_4 = confusion_matrix(y_test, y_test_pred_4)\n",
    "CM_4"
   ]
  },
  {
   "cell_type": "code",
   "execution_count": 89,
   "id": "bibliographic-logistics",
   "metadata": {},
   "outputs": [],
   "source": [
    "param_grid_2 =  {\n",
    "    'objective':['binary:logistic'],\n",
    "    'n_estimators': [5, 10, 20, 25, 50, 75, 100],\n",
    "    'seed' : [42],\n",
    "    'max_depth': [4, 5, 6, 7, 8, 9, 10],\n",
    "    'learning_rate' : [0.01] \n",
    "    }"
   ]
  },
  {
   "cell_type": "code",
   "execution_count": 90,
   "id": "fancy-shipping",
   "metadata": {},
   "outputs": [],
   "source": [
    "xgb_tuned = GridSearchCV(xgb_1, param_grid=param_grid_2, cv=5)"
   ]
  },
  {
   "cell_type": "code",
   "execution_count": 91,
   "id": "careful-melbourne",
   "metadata": {},
   "outputs": [
    {
     "data": {
      "text/plain": [
       "GridSearchCV(cv=5,\n",
       "             estimator=XGBClassifier(learning_rate=0.01, max_depth=6,\n",
       "                                     n_estimators=10, seed=42),\n",
       "             param_grid={'learning_rate': [0.01],\n",
       "                         'max_depth': [4, 5, 6, 7, 8, 9, 10],\n",
       "                         'n_estimators': [5, 10, 20, 25, 50, 75, 100],\n",
       "                         'objective': ['binary:logistic'], 'seed': [42]})"
      ]
     },
     "execution_count": 91,
     "metadata": {},
     "output_type": "execute_result"
    }
   ],
   "source": [
    "xgb_tuned.fit(X_train, y_train)"
   ]
  },
  {
   "cell_type": "code",
   "execution_count": 92,
   "id": "considerable-international",
   "metadata": {},
   "outputs": [
    {
     "data": {
      "text/plain": [
       "{'learning_rate': 0.01,\n",
       " 'max_depth': 4,\n",
       " 'n_estimators': 100,\n",
       " 'objective': 'binary:logistic',\n",
       " 'seed': 42}"
      ]
     },
     "execution_count": 92,
     "metadata": {},
     "output_type": "execute_result"
    }
   ],
   "source": [
    "xgb_tuned.best_params_"
   ]
  },
  {
   "cell_type": "code",
   "execution_count": 93,
   "id": "brilliant-examination",
   "metadata": {},
   "outputs": [],
   "source": [
    "xgb_2 = xgb.XGBClassifier(objective='binary:logistic',\n",
    "                            n_estimators=100,\n",
    "                            seed=42,\n",
    "                            max_depth=4,\n",
    "                            learning_rate=0.01)\n",
    "\n",
    "xgb_2.fit(X_train, y_train)\n",
    "\n",
    "y_train_pred_5 = xgb_2.predict(X_train) \n",
    "y_test_pred_5 = xgb_2.predict(X_test)"
   ]
  },
  {
   "cell_type": "code",
   "execution_count": 94,
   "id": "extraordinary-wealth",
   "metadata": {},
   "outputs": [
    {
     "name": "stdout",
     "output_type": "stream",
     "text": [
      "% de aciertos sobre el set de entrenamiento: 85.7\n",
      "% de aciertos sobre el set de evaluación: 80.2\n"
     ]
    }
   ],
   "source": [
    "# Calculo el accuracy en Train\n",
    "train_accuracy_5 = accuracy_score(y_train, y_train_pred_5)\n",
    "\n",
    "# Calculo el accuracy en Test\n",
    "test_accuracy_5 = accuracy_score(y_test, y_test_pred_5)\n",
    "\n",
    "print('% de aciertos sobre el set de entrenamiento:', round(100*train_accuracy_5, 1))\n",
    "print('% de aciertos sobre el set de evaluación:',round(100*test_accuracy_5, 1))"
   ]
  },
  {
   "cell_type": "code",
   "execution_count": 95,
   "id": "choice-longitude",
   "metadata": {},
   "outputs": [
    {
     "data": {
      "text/plain": [
       "array([[ 43,  36],\n",
       "       [ 14, 159]], dtype=int64)"
      ]
     },
     "execution_count": 95,
     "metadata": {},
     "output_type": "execute_result"
    }
   ],
   "source": [
    "CM_5 = confusion_matrix(y_test, y_test_pred_5)\n",
    "CM_5"
   ]
  },
  {
   "cell_type": "markdown",
   "id": "fluid-elizabeth",
   "metadata": {},
   "source": [
    "### Algoritmo IV: Logistic Regression"
   ]
  },
  {
   "cell_type": "code",
   "execution_count": 96,
   "id": "orange-model",
   "metadata": {},
   "outputs": [],
   "source": [
    "# Iniciamos el modelo:\n",
    "logreg = LogisticRegression()"
   ]
  },
  {
   "cell_type": "code",
   "execution_count": 97,
   "id": "referenced-bride",
   "metadata": {},
   "outputs": [],
   "source": [
    "# Definimos los parámetros para GridSearch:\n",
    "param_grid = [{'penalty': ['none', 'l1', 'l2', 'elasticnet'], 'C': [100, 10, 1.0, 0.1, 0.01],\n",
    "        'solver': ['newton-cg', 'lbfgs', 'liblinear']}]"
   ]
  },
  {
   "cell_type": "code",
   "execution_count": 98,
   "id": "according-comedy",
   "metadata": {},
   "outputs": [
    {
     "name": "stdout",
     "output_type": "stream",
     "text": [
      "Fitting 3 folds for each of 60 candidates, totalling 180 fits\n"
     ]
    },
    {
     "name": "stderr",
     "output_type": "stream",
     "text": [
      "[Parallel(n_jobs=-1)]: Using backend LokyBackend with 8 concurrent workers.\n",
      "[Parallel(n_jobs=-1)]: Done  34 tasks      | elapsed:    4.1s\n",
      "[Parallel(n_jobs=-1)]: Done 165 out of 180 | elapsed:    4.5s remaining:    0.3s\n",
      "[Parallel(n_jobs=-1)]: Done 180 out of 180 | elapsed:    4.6s finished\n"
     ]
    },
    {
     "data": {
      "text/plain": [
       "\"Máxima efectividad: 0.758503 usando {'C': 0.1, 'penalty': 'l2', 'solver': 'newton-cg'}\""
      ]
     },
     "execution_count": 98,
     "metadata": {},
     "output_type": "execute_result"
    }
   ],
   "source": [
    "gs = GridSearchCV(logreg, param_grid = param_grid, cv = 3, verbose = True, n_jobs = -1)\n",
    "maxef = gs.fit(X_train, y_train)\n",
    "\"Máxima efectividad: %f usando %s\" % (maxef.best_score_, maxef.best_params_)"
   ]
  },
  {
   "cell_type": "code",
   "execution_count": 99,
   "id": "derived-enterprise",
   "metadata": {},
   "outputs": [
    {
     "data": {
      "text/plain": [
       "LogisticRegression(C=0.1, solver='newton-cg')"
      ]
     },
     "execution_count": 99,
     "metadata": {},
     "output_type": "execute_result"
    }
   ],
   "source": [
    "new_logreg = LogisticRegression(C = 0.1, penalty = 'l2', solver ='newton-cg')\n",
    "new_logreg.fit(X_train, y_train)"
   ]
  },
  {
   "cell_type": "code",
   "execution_count": 100,
   "id": "mineral-saturday",
   "metadata": {},
   "outputs": [],
   "source": [
    "y_train_pred_6 = new_logreg.predict(X_train) \n",
    "y_test_pred_6 = new_logreg.predict(X_test)"
   ]
  },
  {
   "cell_type": "code",
   "execution_count": 101,
   "id": "stunning-finger",
   "metadata": {},
   "outputs": [
    {
     "name": "stdout",
     "output_type": "stream",
     "text": [
      "% de aciertos sobre el set de entrenamiento: 77.7\n",
      "% de aciertos sobre el set de evaluación: 78.6\n"
     ]
    }
   ],
   "source": [
    "# Calculo el accuracy en Train\n",
    "train_accuracy_6 = accuracy_score(y_train, y_train_pred_6)\n",
    "\n",
    "# Calculo el accuracy en Test\n",
    "test_accuracy_6 = accuracy_score(y_test, y_test_pred_6)\n",
    "\n",
    "print('% de aciertos sobre el set de entrenamiento:', round(100*train_accuracy_6, 1))\n",
    "print('% de aciertos sobre el set de evaluación:', round(100*test_accuracy_6, 1))"
   ]
  },
  {
   "cell_type": "code",
   "execution_count": 102,
   "id": "advance-dimension",
   "metadata": {},
   "outputs": [
    {
     "data": {
      "text/plain": [
       "array([[ 41,  38],\n",
       "       [ 16, 157]], dtype=int64)"
      ]
     },
     "execution_count": 102,
     "metadata": {},
     "output_type": "execute_result"
    }
   ],
   "source": [
    "CM_6 = confusion_matrix(y_test, y_test_pred_6)\n",
    "CM_6"
   ]
  },
  {
   "cell_type": "markdown",
   "id": "coastal-count",
   "metadata": {},
   "source": [
    "#### A modo de resumen se presentan conjuntamente las métricas obtenidas para cada uno de los modelos desarrollados (en su mejor versión/hipertuneados):"
   ]
  },
  {
   "cell_type": "code",
   "execution_count": 103,
   "id": "biblical-heating",
   "metadata": {},
   "outputs": [],
   "source": [
    "test_accuracies = {\n",
    "    'Decision Tree' : round(test_accuracy_1, 3),\n",
    "    'Random Forest' : round(test_accuracy_3, 3),\n",
    "    'XG Boost' : round(test_accuracy_5, 3),\n",
    "    'Logistic Regression' : round(test_accuracy_6, 3)\n",
    "}"
   ]
  },
  {
   "cell_type": "code",
   "execution_count": 104,
   "id": "laden-texture",
   "metadata": {},
   "outputs": [
    {
     "data": {
      "text/plain": [
       "{'Decision Tree': 0.778,\n",
       " 'Random Forest': 0.813,\n",
       " 'XG Boost': 0.802,\n",
       " 'Logistic Regression': 0.786}"
      ]
     },
     "execution_count": 104,
     "metadata": {},
     "output_type": "execute_result"
    }
   ],
   "source": [
    "test_accuracies"
   ]
  },
  {
   "cell_type": "markdown",
   "id": "veterinary-darwin",
   "metadata": {},
   "source": [
    "#### Desde el punto de vista de esta métrica el modelo de mayor precisión es el de Random Forest"
   ]
  },
  {
   "cell_type": "code",
   "execution_count": 105,
   "id": "heard-norman",
   "metadata": {},
   "outputs": [],
   "source": [
    "CM_s = {\n",
    "    'Decision Tree' : CM_1,\n",
    "    'Random Forest' : CM_3,\n",
    "    'XG Boost' : CM_5,\n",
    "    'Logistic Regression' : CM_6  \n",
    "}"
   ]
  },
  {
   "cell_type": "code",
   "execution_count": 106,
   "id": "stainless-blackberry",
   "metadata": {},
   "outputs": [
    {
     "data": {
      "text/plain": [
       "{'Decision Tree': array([[ 38,  41],\n",
       "        [ 15, 158]], dtype=int64),\n",
       " 'Random Forest': array([[ 39,  40],\n",
       "        [  7, 166]], dtype=int64),\n",
       " 'XG Boost': array([[ 43,  36],\n",
       "        [ 14, 159]], dtype=int64),\n",
       " 'Logistic Regression': array([[ 41,  38],\n",
       "        [ 16, 157]], dtype=int64)}"
      ]
     },
     "execution_count": 106,
     "metadata": {},
     "output_type": "execute_result"
    }
   ],
   "source": [
    "CM_s"
   ]
  },
  {
   "cell_type": "code",
   "execution_count": 107,
   "id": "quality-constitution",
   "metadata": {},
   "outputs": [
    {
     "data": {
      "image/png": "[encoded data removed]",
      "text/plain": [
       "<Figure size 720x720 with 8 Axes>"
      ]
     },
     "metadata": {},
     "output_type": "display_data"
    }
   ],
   "source": [
    "fig, axs = plt.subplots(2, 2, figsize=(10,10))\n",
    "\n",
    "axs[0, 0] = plot_confusion_matrix(tree, X_test, y_test, ax=axs[0,0], cmap='Blues')\n",
    "axs[0, 1] = plot_confusion_matrix(random_forest_2, X_test, y_test, ax=axs[0,1], cmap='Blues') \n",
    "axs[1, 0] = plot_confusion_matrix(xgb_2, X_test, y_test, ax=axs[1, 0], cmap='Blues') \n",
    "axs[1, 1] = plot_confusion_matrix(new_logreg, X_test, y_test, ax=axs[1,1], cmap='Blues') \n",
    "\n",
    "fig.tight_layout()\n",
    "plt.savefig('CM_s.jpg')\n",
    "plt.show();"
   ]
  },
  {
   "cell_type": "markdown",
   "id": "modern-mississippi",
   "metadata": {},
   "source": [
    "#### A modo de conclusión y tal como se mencionó anteriormente; el modelo óptimo para este problema que se busca resolver, es aquel que arroje menor cantidad de falsos positivos. Por lo tanto, el modelo que mejor se adapta al problema que se busca solucionar es el de  **XG-Boost**."
   ]
  }
 ],
 "metadata": {
  "kernelspec": {
   "display_name": "Python 3",
   "language": "python",
   "name": "python3"
  },
  "language_info": {
   "codemirror_mode": {
    "name": "ipython",
    "version": 3
   },
   "file_extension": ".py",
   "mimetype": "text/x-python",
   "name": "python",
   "nbconvert_exporter": "python",
   "pygments_lexer": "ipython3",
   "version": "3.7.7"
  }
 },
 "nbformat": 4,
 "nbformat_minor": 5
}
