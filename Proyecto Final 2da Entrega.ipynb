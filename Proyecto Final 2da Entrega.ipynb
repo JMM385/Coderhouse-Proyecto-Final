{
 "cells": [
  {
   "cell_type": "markdown",
   "id": "seasonal-floor",
   "metadata": {},
   "source": [
    "# Proyecto Final - Segunda Entrega"
   ]
  },
  {
   "cell_type": "code",
   "execution_count": 1,
   "id": "emerging-rouge",
   "metadata": {},
   "outputs": [],
   "source": [
    "# Librerías y módulos\n",
    "# General\n",
    "import pandas as pd\n",
    "import numpy as np\n",
    "import matplotlib.pyplot as plt\n",
    "import seaborn as sns\n",
    "\n",
    "# Scikit Learn\n",
    "from sklearn.model_selection import train_test_split\n",
    "from sklearn.tree import DecisionTreeClassifier\n",
    "from sklearn.metrics import accuracy_score\n",
    "from sklearn.preprocessing import StandardScaler\n",
    "from sklearn.preprocessing import scale\n",
    "# Estilo de los gráficos\n",
    "sns.set()\n",
    "\n",
    "# Ignorar warnings\n",
    "import warnings\n",
    "warnings.filterwarnings('ignore')"
   ]
  },
  {
   "cell_type": "markdown",
   "id": "permanent-document",
   "metadata": {},
   "source": [
    "#### En primera instancia, se realiza el preprocesamiento del dataset hastla llegar a la definición de la matriz X y el vector y sobre el cual se realizan las predicciones.\n",
    "\n",
    "#### A grandesr rasgos, serán eliminados los outliers, las filas que contuvieran valores nulos y la información será normalizada con el fin de obtener un dataset correctamente balanceado."
   ]
  },
  {
   "cell_type": "code",
   "execution_count": 2,
   "id": "executive-audio",
   "metadata": {},
   "outputs": [
    {
     "data": {
      "text/html": [
       "<div>\n",
       "<style scoped>\n",
       "    .dataframe tbody tr th:only-of-type {\n",
       "        vertical-align: middle;\n",
       "    }\n",
       "\n",
       "    .dataframe tbody tr th {\n",
       "        vertical-align: top;\n",
       "    }\n",
       "\n",
       "    .dataframe thead th {\n",
       "        text-align: right;\n",
       "    }\n",
       "</style>\n",
       "<table border=\"1\" class=\"dataframe\">\n",
       "  <thead>\n",
       "    <tr style=\"text-align: right;\">\n",
       "      <th></th>\n",
       "      <th>Unnamed: 0</th>\n",
       "      <th>state_code</th>\n",
       "      <th>latitude</th>\n",
       "      <th>longitude</th>\n",
       "      <th>zip_code</th>\n",
       "      <th>id</th>\n",
       "      <th>city</th>\n",
       "      <th>Unnamed: 6</th>\n",
       "      <th>name</th>\n",
       "      <th>labels</th>\n",
       "      <th>...</th>\n",
       "      <th>object_id</th>\n",
       "      <th>has_VC</th>\n",
       "      <th>has_angel</th>\n",
       "      <th>has_roundA</th>\n",
       "      <th>has_roundB</th>\n",
       "      <th>has_roundC</th>\n",
       "      <th>has_roundD</th>\n",
       "      <th>avg_participants</th>\n",
       "      <th>is_top500</th>\n",
       "      <th>status</th>\n",
       "    </tr>\n",
       "  </thead>\n",
       "  <tbody>\n",
       "    <tr>\n",
       "      <th>0</th>\n",
       "      <td>1005</td>\n",
       "      <td>CA</td>\n",
       "      <td>42.358880</td>\n",
       "      <td>-71.056820</td>\n",
       "      <td>92101</td>\n",
       "      <td>c:6669</td>\n",
       "      <td>San Diego</td>\n",
       "      <td>NaN</td>\n",
       "      <td>Bandsintown</td>\n",
       "      <td>1</td>\n",
       "      <td>...</td>\n",
       "      <td>c:6669</td>\n",
       "      <td>0</td>\n",
       "      <td>1</td>\n",
       "      <td>0</td>\n",
       "      <td>0</td>\n",
       "      <td>0</td>\n",
       "      <td>0</td>\n",
       "      <td>1.0000</td>\n",
       "      <td>0</td>\n",
       "      <td>acquired</td>\n",
       "    </tr>\n",
       "    <tr>\n",
       "      <th>1</th>\n",
       "      <td>204</td>\n",
       "      <td>CA</td>\n",
       "      <td>37.238916</td>\n",
       "      <td>-121.973718</td>\n",
       "      <td>95032</td>\n",
       "      <td>c:16283</td>\n",
       "      <td>Los Gatos</td>\n",
       "      <td>NaN</td>\n",
       "      <td>TriCipher</td>\n",
       "      <td>1</td>\n",
       "      <td>...</td>\n",
       "      <td>c:16283</td>\n",
       "      <td>1</td>\n",
       "      <td>0</td>\n",
       "      <td>0</td>\n",
       "      <td>1</td>\n",
       "      <td>1</td>\n",
       "      <td>1</td>\n",
       "      <td>4.7500</td>\n",
       "      <td>1</td>\n",
       "      <td>acquired</td>\n",
       "    </tr>\n",
       "    <tr>\n",
       "      <th>2</th>\n",
       "      <td>1001</td>\n",
       "      <td>CA</td>\n",
       "      <td>32.901049</td>\n",
       "      <td>-117.192656</td>\n",
       "      <td>92121</td>\n",
       "      <td>c:65620</td>\n",
       "      <td>San Diego</td>\n",
       "      <td>San Diego CA 92121</td>\n",
       "      <td>Plixi</td>\n",
       "      <td>1</td>\n",
       "      <td>...</td>\n",
       "      <td>c:65620</td>\n",
       "      <td>0</td>\n",
       "      <td>0</td>\n",
       "      <td>1</td>\n",
       "      <td>0</td>\n",
       "      <td>0</td>\n",
       "      <td>0</td>\n",
       "      <td>4.0000</td>\n",
       "      <td>1</td>\n",
       "      <td>acquired</td>\n",
       "    </tr>\n",
       "    <tr>\n",
       "      <th>3</th>\n",
       "      <td>738</td>\n",
       "      <td>CA</td>\n",
       "      <td>37.320309</td>\n",
       "      <td>-122.050040</td>\n",
       "      <td>95014</td>\n",
       "      <td>c:42668</td>\n",
       "      <td>Cupertino</td>\n",
       "      <td>Cupertino CA 95014</td>\n",
       "      <td>Solidcore Systems</td>\n",
       "      <td>1</td>\n",
       "      <td>...</td>\n",
       "      <td>c:42668</td>\n",
       "      <td>0</td>\n",
       "      <td>0</td>\n",
       "      <td>0</td>\n",
       "      <td>1</td>\n",
       "      <td>1</td>\n",
       "      <td>1</td>\n",
       "      <td>3.3333</td>\n",
       "      <td>1</td>\n",
       "      <td>acquired</td>\n",
       "    </tr>\n",
       "    <tr>\n",
       "      <th>4</th>\n",
       "      <td>1002</td>\n",
       "      <td>CA</td>\n",
       "      <td>37.779281</td>\n",
       "      <td>-122.419236</td>\n",
       "      <td>94105</td>\n",
       "      <td>c:65806</td>\n",
       "      <td>San Francisco</td>\n",
       "      <td>San Francisco CA 94105</td>\n",
       "      <td>Inhale Digital</td>\n",
       "      <td>0</td>\n",
       "      <td>...</td>\n",
       "      <td>c:65806</td>\n",
       "      <td>1</td>\n",
       "      <td>1</td>\n",
       "      <td>0</td>\n",
       "      <td>0</td>\n",
       "      <td>0</td>\n",
       "      <td>0</td>\n",
       "      <td>1.0000</td>\n",
       "      <td>1</td>\n",
       "      <td>closed</td>\n",
       "    </tr>\n",
       "  </tbody>\n",
       "</table>\n",
       "<p>5 rows × 49 columns</p>\n",
       "</div>"
      ],
      "text/plain": [
       "   Unnamed: 0 state_code   latitude   longitude zip_code       id  \\\n",
       "0        1005         CA  42.358880  -71.056820    92101   c:6669   \n",
       "1         204         CA  37.238916 -121.973718    95032  c:16283   \n",
       "2        1001         CA  32.901049 -117.192656    92121  c:65620   \n",
       "3         738         CA  37.320309 -122.050040    95014  c:42668   \n",
       "4        1002         CA  37.779281 -122.419236    94105  c:65806   \n",
       "\n",
       "            city              Unnamed: 6               name  labels  ...  \\\n",
       "0      San Diego                     NaN        Bandsintown       1  ...   \n",
       "1      Los Gatos                     NaN          TriCipher       1  ...   \n",
       "2      San Diego      San Diego CA 92121              Plixi       1  ...   \n",
       "3      Cupertino      Cupertino CA 95014  Solidcore Systems       1  ...   \n",
       "4  San Francisco  San Francisco CA 94105     Inhale Digital       0  ...   \n",
       "\n",
       "  object_id has_VC has_angel has_roundA  has_roundB  has_roundC  has_roundD  \\\n",
       "0    c:6669      0         1          0           0           0           0   \n",
       "1   c:16283      1         0          0           1           1           1   \n",
       "2   c:65620      0         0          1           0           0           0   \n",
       "3   c:42668      0         0          0           1           1           1   \n",
       "4   c:65806      1         1          0           0           0           0   \n",
       "\n",
       "   avg_participants  is_top500    status  \n",
       "0            1.0000          0  acquired  \n",
       "1            4.7500          1  acquired  \n",
       "2            4.0000          1  acquired  \n",
       "3            3.3333          1  acquired  \n",
       "4            1.0000          1    closed  \n",
       "\n",
       "[5 rows x 49 columns]"
      ]
     },
     "execution_count": 2,
     "metadata": {},
     "output_type": "execute_result"
    }
   ],
   "source": [
    "# Cargo el dataset\n",
    "df_1 = pd.read_csv('startup data.csv')\n",
    "df_1.head()"
   ]
  },
  {
   "cell_type": "code",
   "execution_count": 3,
   "id": "genetic-truck",
   "metadata": {},
   "outputs": [
    {
     "data": {
      "text/plain": [
       "(923, 49)"
      ]
     },
     "execution_count": 3,
     "metadata": {},
     "output_type": "execute_result"
    }
   ],
   "source": [
    "df_1.shape"
   ]
  },
  {
   "cell_type": "markdown",
   "id": "realistic-flood",
   "metadata": {},
   "source": [
    "#### Se consideran como datos erroneos las filas que contengan edades negativas y por lo tanto se las elimina del dataset."
   ]
  },
  {
   "cell_type": "code",
   "execution_count": 4,
   "id": "superior-checklist",
   "metadata": {},
   "outputs": [
    {
     "data": {
      "text/html": [
       "<div>\n",
       "<style scoped>\n",
       "    .dataframe tbody tr th:only-of-type {\n",
       "        vertical-align: middle;\n",
       "    }\n",
       "\n",
       "    .dataframe tbody tr th {\n",
       "        vertical-align: top;\n",
       "    }\n",
       "\n",
       "    .dataframe thead th {\n",
       "        text-align: right;\n",
       "    }\n",
       "</style>\n",
       "<table border=\"1\" class=\"dataframe\">\n",
       "  <thead>\n",
       "    <tr style=\"text-align: right;\">\n",
       "      <th></th>\n",
       "      <th>Unnamed: 0</th>\n",
       "      <th>state_code</th>\n",
       "      <th>latitude</th>\n",
       "      <th>longitude</th>\n",
       "      <th>zip_code</th>\n",
       "      <th>id</th>\n",
       "      <th>city</th>\n",
       "      <th>Unnamed: 6</th>\n",
       "      <th>name</th>\n",
       "      <th>labels</th>\n",
       "      <th>...</th>\n",
       "      <th>object_id</th>\n",
       "      <th>has_VC</th>\n",
       "      <th>has_angel</th>\n",
       "      <th>has_roundA</th>\n",
       "      <th>has_roundB</th>\n",
       "      <th>has_roundC</th>\n",
       "      <th>has_roundD</th>\n",
       "      <th>avg_participants</th>\n",
       "      <th>is_top500</th>\n",
       "      <th>status</th>\n",
       "    </tr>\n",
       "  </thead>\n",
       "  <tbody>\n",
       "    <tr>\n",
       "      <th>0</th>\n",
       "      <td>1005</td>\n",
       "      <td>CA</td>\n",
       "      <td>42.358880</td>\n",
       "      <td>-71.056820</td>\n",
       "      <td>92101</td>\n",
       "      <td>c:6669</td>\n",
       "      <td>San Diego</td>\n",
       "      <td>NaN</td>\n",
       "      <td>Bandsintown</td>\n",
       "      <td>1</td>\n",
       "      <td>...</td>\n",
       "      <td>c:6669</td>\n",
       "      <td>0</td>\n",
       "      <td>1</td>\n",
       "      <td>0</td>\n",
       "      <td>0</td>\n",
       "      <td>0</td>\n",
       "      <td>0</td>\n",
       "      <td>1.0000</td>\n",
       "      <td>0</td>\n",
       "      <td>acquired</td>\n",
       "    </tr>\n",
       "    <tr>\n",
       "      <th>1</th>\n",
       "      <td>204</td>\n",
       "      <td>CA</td>\n",
       "      <td>37.238916</td>\n",
       "      <td>-121.973718</td>\n",
       "      <td>95032</td>\n",
       "      <td>c:16283</td>\n",
       "      <td>Los Gatos</td>\n",
       "      <td>NaN</td>\n",
       "      <td>TriCipher</td>\n",
       "      <td>1</td>\n",
       "      <td>...</td>\n",
       "      <td>c:16283</td>\n",
       "      <td>1</td>\n",
       "      <td>0</td>\n",
       "      <td>0</td>\n",
       "      <td>1</td>\n",
       "      <td>1</td>\n",
       "      <td>1</td>\n",
       "      <td>4.7500</td>\n",
       "      <td>1</td>\n",
       "      <td>acquired</td>\n",
       "    </tr>\n",
       "    <tr>\n",
       "      <th>2</th>\n",
       "      <td>1001</td>\n",
       "      <td>CA</td>\n",
       "      <td>32.901049</td>\n",
       "      <td>-117.192656</td>\n",
       "      <td>92121</td>\n",
       "      <td>c:65620</td>\n",
       "      <td>San Diego</td>\n",
       "      <td>San Diego CA 92121</td>\n",
       "      <td>Plixi</td>\n",
       "      <td>1</td>\n",
       "      <td>...</td>\n",
       "      <td>c:65620</td>\n",
       "      <td>0</td>\n",
       "      <td>0</td>\n",
       "      <td>1</td>\n",
       "      <td>0</td>\n",
       "      <td>0</td>\n",
       "      <td>0</td>\n",
       "      <td>4.0000</td>\n",
       "      <td>1</td>\n",
       "      <td>acquired</td>\n",
       "    </tr>\n",
       "    <tr>\n",
       "      <th>3</th>\n",
       "      <td>738</td>\n",
       "      <td>CA</td>\n",
       "      <td>37.320309</td>\n",
       "      <td>-122.050040</td>\n",
       "      <td>95014</td>\n",
       "      <td>c:42668</td>\n",
       "      <td>Cupertino</td>\n",
       "      <td>Cupertino CA 95014</td>\n",
       "      <td>Solidcore Systems</td>\n",
       "      <td>1</td>\n",
       "      <td>...</td>\n",
       "      <td>c:42668</td>\n",
       "      <td>0</td>\n",
       "      <td>0</td>\n",
       "      <td>0</td>\n",
       "      <td>1</td>\n",
       "      <td>1</td>\n",
       "      <td>1</td>\n",
       "      <td>3.3333</td>\n",
       "      <td>1</td>\n",
       "      <td>acquired</td>\n",
       "    </tr>\n",
       "    <tr>\n",
       "      <th>4</th>\n",
       "      <td>1002</td>\n",
       "      <td>CA</td>\n",
       "      <td>37.779281</td>\n",
       "      <td>-122.419236</td>\n",
       "      <td>94105</td>\n",
       "      <td>c:65806</td>\n",
       "      <td>San Francisco</td>\n",
       "      <td>San Francisco CA 94105</td>\n",
       "      <td>Inhale Digital</td>\n",
       "      <td>0</td>\n",
       "      <td>...</td>\n",
       "      <td>c:65806</td>\n",
       "      <td>1</td>\n",
       "      <td>1</td>\n",
       "      <td>0</td>\n",
       "      <td>0</td>\n",
       "      <td>0</td>\n",
       "      <td>0</td>\n",
       "      <td>1.0000</td>\n",
       "      <td>1</td>\n",
       "      <td>closed</td>\n",
       "    </tr>\n",
       "  </tbody>\n",
       "</table>\n",
       "<p>5 rows × 49 columns</p>\n",
       "</div>"
      ],
      "text/plain": [
       "   Unnamed: 0 state_code   latitude   longitude zip_code       id  \\\n",
       "0        1005         CA  42.358880  -71.056820    92101   c:6669   \n",
       "1         204         CA  37.238916 -121.973718    95032  c:16283   \n",
       "2        1001         CA  32.901049 -117.192656    92121  c:65620   \n",
       "3         738         CA  37.320309 -122.050040    95014  c:42668   \n",
       "4        1002         CA  37.779281 -122.419236    94105  c:65806   \n",
       "\n",
       "            city              Unnamed: 6               name  labels  ...  \\\n",
       "0      San Diego                     NaN        Bandsintown       1  ...   \n",
       "1      Los Gatos                     NaN          TriCipher       1  ...   \n",
       "2      San Diego      San Diego CA 92121              Plixi       1  ...   \n",
       "3      Cupertino      Cupertino CA 95014  Solidcore Systems       1  ...   \n",
       "4  San Francisco  San Francisco CA 94105     Inhale Digital       0  ...   \n",
       "\n",
       "  object_id has_VC has_angel has_roundA  has_roundB  has_roundC  has_roundD  \\\n",
       "0    c:6669      0         1          0           0           0           0   \n",
       "1   c:16283      1         0          0           1           1           1   \n",
       "2   c:65620      0         0          1           0           0           0   \n",
       "3   c:42668      0         0          0           1           1           1   \n",
       "4   c:65806      1         1          0           0           0           0   \n",
       "\n",
       "   avg_participants  is_top500    status  \n",
       "0            1.0000          0  acquired  \n",
       "1            4.7500          1  acquired  \n",
       "2            4.0000          1  acquired  \n",
       "3            3.3333          1  acquired  \n",
       "4            1.0000          1    closed  \n",
       "\n",
       "[5 rows x 49 columns]"
      ]
     },
     "execution_count": 4,
     "metadata": {},
     "output_type": "execute_result"
    }
   ],
   "source": [
    "df_1 = df_1.drop(df_1[\n",
    "(df_1['age_first_funding_year']<0) |\n",
    "(df_1['age_last_funding_year']<0) |\n",
    "(df_1['age_first_milestone_year']<0) |\n",
    "(df_1['age_last_milestone_year']<0)\n",
    "].index)\n",
    "\n",
    "df_1.head()"
   ]
  },
  {
   "cell_type": "code",
   "execution_count": 5,
   "id": "minor-fusion",
   "metadata": {},
   "outputs": [
    {
     "data": {
      "text/plain": [
       "(840, 49)"
      ]
     },
     "execution_count": 5,
     "metadata": {},
     "output_type": "execute_result"
    }
   ],
   "source": [
    "df_1.shape"
   ]
  },
  {
   "cell_type": "markdown",
   "id": "convertible-botswana",
   "metadata": {},
   "source": [
    "#### Además, se eliminan las columnas que no aportan a la construcción del modelo de predicción. Como comentario, la columna \"labels\" es igual a la columna \"status\" pero de caracter numérico y es al mismo tiempo la variable a predecir."
   ]
  },
  {
   "cell_type": "code",
   "execution_count": 6,
   "id": "unlimited-honduras",
   "metadata": {},
   "outputs": [
    {
     "data": {
      "text/plain": [
       "Index(['Unnamed: 0', 'state_code', 'latitude', 'longitude', 'zip_code', 'id',\n",
       "       'city', 'Unnamed: 6', 'name', 'labels', 'founded_at', 'closed_at',\n",
       "       'first_funding_at', 'last_funding_at', 'age_first_funding_year',\n",
       "       'age_last_funding_year', 'age_first_milestone_year',\n",
       "       'age_last_milestone_year', 'relationships', 'funding_rounds',\n",
       "       'funding_total_usd', 'milestones', 'state_code.1', 'is_CA', 'is_NY',\n",
       "       'is_MA', 'is_TX', 'is_otherstate', 'category_code', 'is_software',\n",
       "       'is_web', 'is_mobile', 'is_enterprise', 'is_advertising',\n",
       "       'is_gamesvideo', 'is_ecommerce', 'is_biotech', 'is_consulting',\n",
       "       'is_othercategory', 'object_id', 'has_VC', 'has_angel', 'has_roundA',\n",
       "       'has_roundB', 'has_roundC', 'has_roundD', 'avg_participants',\n",
       "       'is_top500', 'status'],\n",
       "      dtype='object')"
      ]
     },
     "execution_count": 6,
     "metadata": {},
     "output_type": "execute_result"
    }
   ],
   "source": [
    "df_1.columns"
   ]
  },
  {
   "cell_type": "code",
   "execution_count": 7,
   "id": "upset-indie",
   "metadata": {},
   "outputs": [],
   "source": [
    "df_1 = df_1.drop(columns=['Unnamed: 0', \n",
    "                          'state_code',\n",
    "                          'latitude',\n",
    "                          'longitude',\n",
    "                          'zip_code',\n",
    "                          'id',\n",
    "                          'city',\n",
    "                          'Unnamed: 6',\n",
    "                          'name',\n",
    "                          'founded_at',\n",
    "                          'closed_at',\n",
    "                          'first_funding_at',\n",
    "                          'last_funding_at',\n",
    "                          'state_code.1',\n",
    "                          'category_code',\n",
    "                          'object_id',\n",
    "                          'status'\n",
    "                                        ])"
   ]
  },
  {
   "cell_type": "code",
   "execution_count": 8,
   "id": "appreciated-principal",
   "metadata": {},
   "outputs": [
    {
     "data": {
      "text/plain": [
       "(840, 32)"
      ]
     },
     "execution_count": 8,
     "metadata": {},
     "output_type": "execute_result"
    }
   ],
   "source": [
    "df_1.shape"
   ]
  },
  {
   "cell_type": "code",
   "execution_count": 9,
   "id": "roman-louis",
   "metadata": {},
   "outputs": [
    {
     "data": {
      "text/plain": [
       "labels                        0\n",
       "age_first_funding_year        0\n",
       "age_last_funding_year         0\n",
       "age_first_milestone_year    144\n",
       "age_last_milestone_year     144\n",
       "relationships                 0\n",
       "funding_rounds                0\n",
       "funding_total_usd             0\n",
       "milestones                    0\n",
       "is_CA                         0\n",
       "is_NY                         0\n",
       "is_MA                         0\n",
       "is_TX                         0\n",
       "is_otherstate                 0\n",
       "is_software                   0\n",
       "is_web                        0\n",
       "is_mobile                     0\n",
       "is_enterprise                 0\n",
       "is_advertising                0\n",
       "is_gamesvideo                 0\n",
       "is_ecommerce                  0\n",
       "is_biotech                    0\n",
       "is_consulting                 0\n",
       "is_othercategory              0\n",
       "has_VC                        0\n",
       "has_angel                     0\n",
       "has_roundA                    0\n",
       "has_roundB                    0\n",
       "has_roundC                    0\n",
       "has_roundD                    0\n",
       "avg_participants              0\n",
       "is_top500                     0\n",
       "dtype: int64"
      ]
     },
     "execution_count": 9,
     "metadata": {},
     "output_type": "execute_result"
    }
   ],
   "source": [
    "df_1.isna().sum()"
   ]
  },
  {
   "cell_type": "markdown",
   "id": "artificial-remove",
   "metadata": {},
   "source": [
    "#### Valores nulos en las columnas \"age_first_milestone_year\" y \"age_last_milestone_year\" indican que nunca tuvieron un \"milestone\". Se decide rellenar dichos valores nulos con ceros."
   ]
  },
  {
   "cell_type": "code",
   "execution_count": 10,
   "id": "environmental-bachelor",
   "metadata": {},
   "outputs": [
    {
     "data": {
      "text/plain": [
       "labels                      0\n",
       "age_first_funding_year      0\n",
       "age_last_funding_year       0\n",
       "age_first_milestone_year    0\n",
       "age_last_milestone_year     0\n",
       "relationships               0\n",
       "funding_rounds              0\n",
       "funding_total_usd           0\n",
       "milestones                  0\n",
       "is_CA                       0\n",
       "is_NY                       0\n",
       "is_MA                       0\n",
       "is_TX                       0\n",
       "is_otherstate               0\n",
       "is_software                 0\n",
       "is_web                      0\n",
       "is_mobile                   0\n",
       "is_enterprise               0\n",
       "is_advertising              0\n",
       "is_gamesvideo               0\n",
       "is_ecommerce                0\n",
       "is_biotech                  0\n",
       "is_consulting               0\n",
       "is_othercategory            0\n",
       "has_VC                      0\n",
       "has_angel                   0\n",
       "has_roundA                  0\n",
       "has_roundB                  0\n",
       "has_roundC                  0\n",
       "has_roundD                  0\n",
       "avg_participants            0\n",
       "is_top500                   0\n",
       "dtype: int64"
      ]
     },
     "execution_count": 10,
     "metadata": {},
     "output_type": "execute_result"
    }
   ],
   "source": [
    "df_1['age_first_milestone_year'] = df_1['age_first_milestone_year'].fillna(0)\n",
    "df_1['age_last_milestone_year'] = df_1['age_last_milestone_year'].fillna(0)\n",
    "\n",
    "df_1.isna().sum()"
   ]
  },
  {
   "cell_type": "code",
   "execution_count": 11,
   "id": "everyday-grove",
   "metadata": {},
   "outputs": [
    {
     "name": "stdout",
     "output_type": "stream",
     "text": [
      "<class 'pandas.core.frame.DataFrame'>\n",
      "Int64Index: 840 entries, 0 to 922\n",
      "Data columns (total 32 columns):\n",
      " #   Column                    Non-Null Count  Dtype  \n",
      "---  ------                    --------------  -----  \n",
      " 0   labels                    840 non-null    int64  \n",
      " 1   age_first_funding_year    840 non-null    float64\n",
      " 2   age_last_funding_year     840 non-null    float64\n",
      " 3   age_first_milestone_year  840 non-null    float64\n",
      " 4   age_last_milestone_year   840 non-null    float64\n",
      " 5   relationships             840 non-null    int64  \n",
      " 6   funding_rounds            840 non-null    int64  \n",
      " 7   funding_total_usd         840 non-null    int64  \n",
      " 8   milestones                840 non-null    int64  \n",
      " 9   is_CA                     840 non-null    int64  \n",
      " 10  is_NY                     840 non-null    int64  \n",
      " 11  is_MA                     840 non-null    int64  \n",
      " 12  is_TX                     840 non-null    int64  \n",
      " 13  is_otherstate             840 non-null    int64  \n",
      " 14  is_software               840 non-null    int64  \n",
      " 15  is_web                    840 non-null    int64  \n",
      " 16  is_mobile                 840 non-null    int64  \n",
      " 17  is_enterprise             840 non-null    int64  \n",
      " 18  is_advertising            840 non-null    int64  \n",
      " 19  is_gamesvideo             840 non-null    int64  \n",
      " 20  is_ecommerce              840 non-null    int64  \n",
      " 21  is_biotech                840 non-null    int64  \n",
      " 22  is_consulting             840 non-null    int64  \n",
      " 23  is_othercategory          840 non-null    int64  \n",
      " 24  has_VC                    840 non-null    int64  \n",
      " 25  has_angel                 840 non-null    int64  \n",
      " 26  has_roundA                840 non-null    int64  \n",
      " 27  has_roundB                840 non-null    int64  \n",
      " 28  has_roundC                840 non-null    int64  \n",
      " 29  has_roundD                840 non-null    int64  \n",
      " 30  avg_participants          840 non-null    float64\n",
      " 31  is_top500                 840 non-null    int64  \n",
      "dtypes: float64(5), int64(27)\n",
      "memory usage: 216.6 KB\n"
     ]
    }
   ],
   "source": [
    "df_1.info()"
   ]
  },
  {
   "cell_type": "markdown",
   "id": "hollow-oriental",
   "metadata": {},
   "source": [
    "#### También, y con el objetivo de reducir posibles sezgos, se recomienda normalizar la información previamente. Esta normalización se va aplicar unicamente sobre las variables puramente numéricas y no sobre las que surgieron del porceso de one hot encoding."
   ]
  },
  {
   "cell_type": "code",
   "execution_count": 12,
   "id": "informative-liverpool",
   "metadata": {},
   "outputs": [],
   "source": [
    "normalizar_columnas= [\n",
    "    'age_first_funding_year',\n",
    "    'age_last_funding_year',\n",
    "    'age_first_milestone_year',\n",
    "    'age_last_milestone_year',\n",
    "    'relationships',          \n",
    "    'funding_rounds',              \n",
    "    'funding_total_usd',           \n",
    "    'milestones',\n",
    "    'avg_participants'\n",
    "    ]"
   ]
  },
  {
   "cell_type": "code",
   "execution_count": 13,
   "id": "automated-polls",
   "metadata": {},
   "outputs": [
    {
     "data": {
      "text/html": [
       "<div>\n",
       "<style scoped>\n",
       "    .dataframe tbody tr th:only-of-type {\n",
       "        vertical-align: middle;\n",
       "    }\n",
       "\n",
       "    .dataframe tbody tr th {\n",
       "        vertical-align: top;\n",
       "    }\n",
       "\n",
       "    .dataframe thead th {\n",
       "        text-align: right;\n",
       "    }\n",
       "</style>\n",
       "<table border=\"1\" class=\"dataframe\">\n",
       "  <thead>\n",
       "    <tr style=\"text-align: right;\">\n",
       "      <th></th>\n",
       "      <th>labels</th>\n",
       "      <th>age_first_funding_year</th>\n",
       "      <th>age_last_funding_year</th>\n",
       "      <th>age_first_milestone_year</th>\n",
       "      <th>age_last_milestone_year</th>\n",
       "      <th>relationships</th>\n",
       "      <th>funding_rounds</th>\n",
       "      <th>funding_total_usd</th>\n",
       "      <th>milestones</th>\n",
       "      <th>is_CA</th>\n",
       "      <th>...</th>\n",
       "      <th>is_consulting</th>\n",
       "      <th>is_othercategory</th>\n",
       "      <th>has_VC</th>\n",
       "      <th>has_angel</th>\n",
       "      <th>has_roundA</th>\n",
       "      <th>has_roundB</th>\n",
       "      <th>has_roundC</th>\n",
       "      <th>has_roundD</th>\n",
       "      <th>avg_participants</th>\n",
       "      <th>is_top500</th>\n",
       "    </tr>\n",
       "  </thead>\n",
       "  <tbody>\n",
       "    <tr>\n",
       "      <th>0</th>\n",
       "      <td>1</td>\n",
       "      <td>-0.069786</td>\n",
       "      <td>-0.383699</td>\n",
       "      <td>0.654706</td>\n",
       "      <td>0.756949</td>\n",
       "      <td>-0.652793</td>\n",
       "      <td>0.484014</td>\n",
       "      <td>-0.134415</td>\n",
       "      <td>0.889515</td>\n",
       "      <td>1</td>\n",
       "      <td>...</td>\n",
       "      <td>0</td>\n",
       "      <td>1</td>\n",
       "      <td>0</td>\n",
       "      <td>1</td>\n",
       "      <td>0</td>\n",
       "      <td>0</td>\n",
       "      <td>0</td>\n",
       "      <td>0</td>\n",
       "      <td>-0.994238</td>\n",
       "      <td>0</td>\n",
       "    </tr>\n",
       "    <tr>\n",
       "      <th>1</th>\n",
       "      <td>1</td>\n",
       "      <td>1.083016</td>\n",
       "      <td>1.997422</td>\n",
       "      <td>1.475847</td>\n",
       "      <td>0.845494</td>\n",
       "      <td>0.171375</td>\n",
       "      <td>1.196048</td>\n",
       "      <td>0.065524</td>\n",
       "      <td>-0.618442</td>\n",
       "      <td>1</td>\n",
       "      <td>...</td>\n",
       "      <td>0</td>\n",
       "      <td>0</td>\n",
       "      <td>1</td>\n",
       "      <td>0</td>\n",
       "      <td>0</td>\n",
       "      <td>1</td>\n",
       "      <td>1</td>\n",
       "      <td>1</td>\n",
       "      <td>0.971545</td>\n",
       "      <td>1</td>\n",
       "    </tr>\n",
       "    <tr>\n",
       "      <th>2</th>\n",
       "      <td>1</td>\n",
       "      <td>-0.557243</td>\n",
       "      <td>-1.054264</td>\n",
       "      <td>-0.473528</td>\n",
       "      <td>-0.564642</td>\n",
       "      <td>-0.378071</td>\n",
       "      <td>-0.940055</td>\n",
       "      <td>-0.123217</td>\n",
       "      <td>0.135537</td>\n",
       "      <td>1</td>\n",
       "      <td>...</td>\n",
       "      <td>0</td>\n",
       "      <td>0</td>\n",
       "      <td>0</td>\n",
       "      <td>0</td>\n",
       "      <td>1</td>\n",
       "      <td>0</td>\n",
       "      <td>0</td>\n",
       "      <td>0</td>\n",
       "      <td>0.578389</td>\n",
       "      <td>1</td>\n",
       "    </tr>\n",
       "    <tr>\n",
       "      <th>3</th>\n",
       "      <td>1</td>\n",
       "      <td>0.283745</td>\n",
       "      <td>0.403494</td>\n",
       "      <td>1.123498</td>\n",
       "      <td>0.550893</td>\n",
       "      <td>-0.378071</td>\n",
       "      <td>0.484014</td>\n",
       "      <td>0.065021</td>\n",
       "      <td>-0.618442</td>\n",
       "      <td>1</td>\n",
       "      <td>...</td>\n",
       "      <td>0</td>\n",
       "      <td>0</td>\n",
       "      <td>0</td>\n",
       "      <td>0</td>\n",
       "      <td>0</td>\n",
       "      <td>1</td>\n",
       "      <td>1</td>\n",
       "      <td>1</td>\n",
       "      <td>0.228899</td>\n",
       "      <td>1</td>\n",
       "    </tr>\n",
       "    <tr>\n",
       "      <th>4</th>\n",
       "      <td>0</td>\n",
       "      <td>-0.971164</td>\n",
       "      <td>-0.837891</td>\n",
       "      <td>-0.972150</td>\n",
       "      <td>-1.201289</td>\n",
       "      <td>-0.790155</td>\n",
       "      <td>-0.228020</td>\n",
       "      <td>-0.129760</td>\n",
       "      <td>-0.618442</td>\n",
       "      <td>1</td>\n",
       "      <td>...</td>\n",
       "      <td>0</td>\n",
       "      <td>0</td>\n",
       "      <td>1</td>\n",
       "      <td>1</td>\n",
       "      <td>0</td>\n",
       "      <td>0</td>\n",
       "      <td>0</td>\n",
       "      <td>0</td>\n",
       "      <td>-0.994238</td>\n",
       "      <td>1</td>\n",
       "    </tr>\n",
       "  </tbody>\n",
       "</table>\n",
       "<p>5 rows × 32 columns</p>\n",
       "</div>"
      ],
      "text/plain": [
       "   labels  age_first_funding_year  age_last_funding_year  \\\n",
       "0       1               -0.069786              -0.383699   \n",
       "1       1                1.083016               1.997422   \n",
       "2       1               -0.557243              -1.054264   \n",
       "3       1                0.283745               0.403494   \n",
       "4       0               -0.971164              -0.837891   \n",
       "\n",
       "   age_first_milestone_year  age_last_milestone_year  relationships  \\\n",
       "0                  0.654706                 0.756949      -0.652793   \n",
       "1                  1.475847                 0.845494       0.171375   \n",
       "2                 -0.473528                -0.564642      -0.378071   \n",
       "3                  1.123498                 0.550893      -0.378071   \n",
       "4                 -0.972150                -1.201289      -0.790155   \n",
       "\n",
       "   funding_rounds  funding_total_usd  milestones  is_CA  ...  is_consulting  \\\n",
       "0        0.484014          -0.134415    0.889515      1  ...              0   \n",
       "1        1.196048           0.065524   -0.618442      1  ...              0   \n",
       "2       -0.940055          -0.123217    0.135537      1  ...              0   \n",
       "3        0.484014           0.065021   -0.618442      1  ...              0   \n",
       "4       -0.228020          -0.129760   -0.618442      1  ...              0   \n",
       "\n",
       "   is_othercategory  has_VC  has_angel  has_roundA  has_roundB  has_roundC  \\\n",
       "0                 1       0          1           0           0           0   \n",
       "1                 0       1          0           0           1           1   \n",
       "2                 0       0          0           1           0           0   \n",
       "3                 0       0          0           0           1           1   \n",
       "4                 0       1          1           0           0           0   \n",
       "\n",
       "   has_roundD  avg_participants  is_top500  \n",
       "0           0         -0.994238          0  \n",
       "1           1          0.971545          1  \n",
       "2           0          0.578389          1  \n",
       "3           1          0.228899          1  \n",
       "4           0         -0.994238          1  \n",
       "\n",
       "[5 rows x 32 columns]"
      ]
     },
     "execution_count": 13,
     "metadata": {},
     "output_type": "execute_result"
    }
   ],
   "source": [
    "for i in normalizar_columnas:\n",
    "    df_1[i] = (df_1[i] - df_1[i].mean()) / df_1[i].std() \n",
    "\n",
    "df_1.head()"
   ]
  },
  {
   "cell_type": "markdown",
   "id": "swedish-saint",
   "metadata": {},
   "source": [
    "#### Deben definirse las variables que formarán la matriz X. En este caso, todas las columnas excepto aquella que hace referencia al \"status\" o \"labels\" de la startup."
   ]
  },
  {
   "cell_type": "code",
   "execution_count": 14,
   "id": "treated-office",
   "metadata": {},
   "outputs": [
    {
     "data": {
      "text/html": [
       "<div>\n",
       "<style scoped>\n",
       "    .dataframe tbody tr th:only-of-type {\n",
       "        vertical-align: middle;\n",
       "    }\n",
       "\n",
       "    .dataframe tbody tr th {\n",
       "        vertical-align: top;\n",
       "    }\n",
       "\n",
       "    .dataframe thead th {\n",
       "        text-align: right;\n",
       "    }\n",
       "</style>\n",
       "<table border=\"1\" class=\"dataframe\">\n",
       "  <thead>\n",
       "    <tr style=\"text-align: right;\">\n",
       "      <th></th>\n",
       "      <th>age_first_funding_year</th>\n",
       "      <th>age_last_funding_year</th>\n",
       "      <th>age_first_milestone_year</th>\n",
       "      <th>age_last_milestone_year</th>\n",
       "      <th>relationships</th>\n",
       "      <th>funding_rounds</th>\n",
       "      <th>funding_total_usd</th>\n",
       "      <th>milestones</th>\n",
       "      <th>is_CA</th>\n",
       "      <th>is_NY</th>\n",
       "      <th>...</th>\n",
       "      <th>is_consulting</th>\n",
       "      <th>is_othercategory</th>\n",
       "      <th>has_VC</th>\n",
       "      <th>has_angel</th>\n",
       "      <th>has_roundA</th>\n",
       "      <th>has_roundB</th>\n",
       "      <th>has_roundC</th>\n",
       "      <th>has_roundD</th>\n",
       "      <th>avg_participants</th>\n",
       "      <th>is_top500</th>\n",
       "    </tr>\n",
       "  </thead>\n",
       "  <tbody>\n",
       "    <tr>\n",
       "      <th>0</th>\n",
       "      <td>-0.069786</td>\n",
       "      <td>-0.383699</td>\n",
       "      <td>0.654706</td>\n",
       "      <td>0.756949</td>\n",
       "      <td>-0.652793</td>\n",
       "      <td>0.484014</td>\n",
       "      <td>-0.134415</td>\n",
       "      <td>0.889515</td>\n",
       "      <td>1</td>\n",
       "      <td>0</td>\n",
       "      <td>...</td>\n",
       "      <td>0</td>\n",
       "      <td>1</td>\n",
       "      <td>0</td>\n",
       "      <td>1</td>\n",
       "      <td>0</td>\n",
       "      <td>0</td>\n",
       "      <td>0</td>\n",
       "      <td>0</td>\n",
       "      <td>-0.994238</td>\n",
       "      <td>0</td>\n",
       "    </tr>\n",
       "    <tr>\n",
       "      <th>1</th>\n",
       "      <td>1.083016</td>\n",
       "      <td>1.997422</td>\n",
       "      <td>1.475847</td>\n",
       "      <td>0.845494</td>\n",
       "      <td>0.171375</td>\n",
       "      <td>1.196048</td>\n",
       "      <td>0.065524</td>\n",
       "      <td>-0.618442</td>\n",
       "      <td>1</td>\n",
       "      <td>0</td>\n",
       "      <td>...</td>\n",
       "      <td>0</td>\n",
       "      <td>0</td>\n",
       "      <td>1</td>\n",
       "      <td>0</td>\n",
       "      <td>0</td>\n",
       "      <td>1</td>\n",
       "      <td>1</td>\n",
       "      <td>1</td>\n",
       "      <td>0.971545</td>\n",
       "      <td>1</td>\n",
       "    </tr>\n",
       "    <tr>\n",
       "      <th>2</th>\n",
       "      <td>-0.557243</td>\n",
       "      <td>-1.054264</td>\n",
       "      <td>-0.473528</td>\n",
       "      <td>-0.564642</td>\n",
       "      <td>-0.378071</td>\n",
       "      <td>-0.940055</td>\n",
       "      <td>-0.123217</td>\n",
       "      <td>0.135537</td>\n",
       "      <td>1</td>\n",
       "      <td>0</td>\n",
       "      <td>...</td>\n",
       "      <td>0</td>\n",
       "      <td>0</td>\n",
       "      <td>0</td>\n",
       "      <td>0</td>\n",
       "      <td>1</td>\n",
       "      <td>0</td>\n",
       "      <td>0</td>\n",
       "      <td>0</td>\n",
       "      <td>0.578389</td>\n",
       "      <td>1</td>\n",
       "    </tr>\n",
       "    <tr>\n",
       "      <th>3</th>\n",
       "      <td>0.283745</td>\n",
       "      <td>0.403494</td>\n",
       "      <td>1.123498</td>\n",
       "      <td>0.550893</td>\n",
       "      <td>-0.378071</td>\n",
       "      <td>0.484014</td>\n",
       "      <td>0.065021</td>\n",
       "      <td>-0.618442</td>\n",
       "      <td>1</td>\n",
       "      <td>0</td>\n",
       "      <td>...</td>\n",
       "      <td>0</td>\n",
       "      <td>0</td>\n",
       "      <td>0</td>\n",
       "      <td>0</td>\n",
       "      <td>0</td>\n",
       "      <td>1</td>\n",
       "      <td>1</td>\n",
       "      <td>1</td>\n",
       "      <td>0.228899</td>\n",
       "      <td>1</td>\n",
       "    </tr>\n",
       "    <tr>\n",
       "      <th>4</th>\n",
       "      <td>-0.971164</td>\n",
       "      <td>-0.837891</td>\n",
       "      <td>-0.972150</td>\n",
       "      <td>-1.201289</td>\n",
       "      <td>-0.790155</td>\n",
       "      <td>-0.228020</td>\n",
       "      <td>-0.129760</td>\n",
       "      <td>-0.618442</td>\n",
       "      <td>1</td>\n",
       "      <td>0</td>\n",
       "      <td>...</td>\n",
       "      <td>0</td>\n",
       "      <td>0</td>\n",
       "      <td>1</td>\n",
       "      <td>1</td>\n",
       "      <td>0</td>\n",
       "      <td>0</td>\n",
       "      <td>0</td>\n",
       "      <td>0</td>\n",
       "      <td>-0.994238</td>\n",
       "      <td>1</td>\n",
       "    </tr>\n",
       "  </tbody>\n",
       "</table>\n",
       "<p>5 rows × 31 columns</p>\n",
       "</div>"
      ],
      "text/plain": [
       "   age_first_funding_year  age_last_funding_year  age_first_milestone_year  \\\n",
       "0               -0.069786              -0.383699                  0.654706   \n",
       "1                1.083016               1.997422                  1.475847   \n",
       "2               -0.557243              -1.054264                 -0.473528   \n",
       "3                0.283745               0.403494                  1.123498   \n",
       "4               -0.971164              -0.837891                 -0.972150   \n",
       "\n",
       "   age_last_milestone_year  relationships  funding_rounds  funding_total_usd  \\\n",
       "0                 0.756949      -0.652793        0.484014          -0.134415   \n",
       "1                 0.845494       0.171375        1.196048           0.065524   \n",
       "2                -0.564642      -0.378071       -0.940055          -0.123217   \n",
       "3                 0.550893      -0.378071        0.484014           0.065021   \n",
       "4                -1.201289      -0.790155       -0.228020          -0.129760   \n",
       "\n",
       "   milestones  is_CA  is_NY  ...  is_consulting  is_othercategory  has_VC  \\\n",
       "0    0.889515      1      0  ...              0                 1       0   \n",
       "1   -0.618442      1      0  ...              0                 0       1   \n",
       "2    0.135537      1      0  ...              0                 0       0   \n",
       "3   -0.618442      1      0  ...              0                 0       0   \n",
       "4   -0.618442      1      0  ...              0                 0       1   \n",
       "\n",
       "   has_angel  has_roundA  has_roundB  has_roundC  has_roundD  \\\n",
       "0          1           0           0           0           0   \n",
       "1          0           0           1           1           1   \n",
       "2          0           1           0           0           0   \n",
       "3          0           0           1           1           1   \n",
       "4          1           0           0           0           0   \n",
       "\n",
       "   avg_participants  is_top500  \n",
       "0         -0.994238          0  \n",
       "1          0.971545          1  \n",
       "2          0.578389          1  \n",
       "3          0.228899          1  \n",
       "4         -0.994238          1  \n",
       "\n",
       "[5 rows x 31 columns]"
      ]
     },
     "execution_count": 14,
     "metadata": {},
     "output_type": "execute_result"
    }
   ],
   "source": [
    "X = df_1.drop(columns=['labels'])\n",
    "X.head()"
   ]
  },
  {
   "cell_type": "code",
   "execution_count": 15,
   "id": "otherwise-louis",
   "metadata": {},
   "outputs": [
    {
     "data": {
      "text/plain": [
       "(840, 31)"
      ]
     },
     "execution_count": 15,
     "metadata": {},
     "output_type": "execute_result"
    }
   ],
   "source": [
    "X.shape"
   ]
  },
  {
   "cell_type": "markdown",
   "id": "extraordinary-separate",
   "metadata": {},
   "source": [
    " #### Por otro lado, el vector \"y\" sobre el cual se predice se encuentra representado por la columna \"status\" o labels la cual es de caracter binario e indica si una startup fue adquirida (éxito=1) o debio cerrar (fracaso=0). "
   ]
  },
  {
   "cell_type": "code",
   "execution_count": 16,
   "id": "average-dynamics",
   "metadata": {},
   "outputs": [
    {
     "data": {
      "text/plain": [
       "1    552\n",
       "0    288\n",
       "Name: labels, dtype: int64"
      ]
     },
     "execution_count": 16,
     "metadata": {},
     "output_type": "execute_result"
    }
   ],
   "source": [
    "df_1['labels'].value_counts()"
   ]
  },
  {
   "cell_type": "code",
   "execution_count": 17,
   "id": "clear-therapist",
   "metadata": {},
   "outputs": [
    {
     "data": {
      "text/plain": [
       "0"
      ]
     },
     "execution_count": 17,
     "metadata": {},
     "output_type": "execute_result"
    }
   ],
   "source": [
    "df_1['labels'].isna().sum()"
   ]
  },
  {
   "cell_type": "code",
   "execution_count": 18,
   "id": "precise-parliament",
   "metadata": {},
   "outputs": [
    {
     "name": "stdout",
     "output_type": "stream",
     "text": [
      "(840,) <class 'numpy.int64'>\n"
     ]
    }
   ],
   "source": [
    "# Defino el vector y:\n",
    "y = df_1['labels']\n",
    "print(y.shape, type(y[0]))"
   ]
  },
  {
   "cell_type": "code",
   "execution_count": 19,
   "id": "minor-antarctica",
   "metadata": {},
   "outputs": [],
   "source": [
    "# Modifico el tipo de la variable y\n",
    "y = y.astype('int')"
   ]
  },
  {
   "cell_type": "markdown",
   "id": "continental-inspiration",
   "metadata": {},
   "source": [
    "#### Ya se encuentran definidos la matriz X y el vector y que era el objetivo de esta primera parte. A continuación, se propone desarrollar un modelo de predicción a partir del algoritmo \"Decision Tree Classifier\" o arbol de decisión."
   ]
  },
  {
   "cell_type": "code",
   "execution_count": 20,
   "id": "crude-sponsorship",
   "metadata": {},
   "outputs": [],
   "source": [
    "# Divido la matriz X y el vector y en train/test\n",
    "X_train, X_test, y_train, y_test = train_test_split(X, y, test_size=0.3, random_state=42)"
   ]
  },
  {
   "cell_type": "code",
   "execution_count": 21,
   "id": "bearing-harbor",
   "metadata": {},
   "outputs": [
    {
     "name": "stdout",
     "output_type": "stream",
     "text": [
      "(588, 31) (252, 31) (588,) (252,)\n"
     ]
    }
   ],
   "source": [
    "print(X_train.shape, X_test.shape, y_train.shape, y_test.shape)"
   ]
  },
  {
   "cell_type": "code",
   "execution_count": 22,
   "id": "leading-counter",
   "metadata": {},
   "outputs": [],
   "source": [
    "# Creo el modelo\n",
    "tree = DecisionTreeClassifier(max_depth=5, random_state=42) # Se propone un valor de max_depth=5"
   ]
  },
  {
   "cell_type": "code",
   "execution_count": 23,
   "id": "dimensional-consensus",
   "metadata": {},
   "outputs": [
    {
     "data": {
      "text/plain": [
       "DecisionTreeClassifier(max_depth=5, random_state=42)"
      ]
     },
     "execution_count": 23,
     "metadata": {},
     "output_type": "execute_result"
    }
   ],
   "source": [
    "# Entreno el modelo\n",
    "tree.fit(X_train, y_train)"
   ]
  },
  {
   "cell_type": "code",
   "execution_count": 24,
   "id": "bigger-supervision",
   "metadata": {},
   "outputs": [],
   "source": [
    "# Realizo una predicción\n",
    "y_train_pred_1 = tree.predict(X_train) # Predicción en Train\n",
    "y_test_pred_1 = tree.predict(X_test) # Predicción en Test"
   ]
  },
  {
   "cell_type": "code",
   "execution_count": 25,
   "id": "chief-publication",
   "metadata": {},
   "outputs": [
    {
     "name": "stdout",
     "output_type": "stream",
     "text": [
      "% de aciertos sobre el set de entrenamiento: 84.4\n",
      "% de aciertos sobre el set de evaluación: 77.8\n"
     ]
    }
   ],
   "source": [
    "# Calculo el accuracy en Train\n",
    "train_accuracy_1 = accuracy_score(y_train, y_train_pred_1)\n",
    "\n",
    "# Calculo el accuracy en Test\n",
    "test_accuracy_1 = accuracy_score(y_test, y_test_pred_1)\n",
    "\n",
    "print('% de aciertos sobre el set de entrenamiento:', round(100*train_accuracy_1, 1))\n",
    "print('% de aciertos sobre el set de evaluación:',round(100*test_accuracy_1, 1))"
   ]
  },
  {
   "cell_type": "markdown",
   "id": "included-indiana",
   "metadata": {},
   "source": [
    "#### Otra manera de cuantificar la calidad del modelo es através de la matriz de confusión.\n",
    "#### En la misma se indican:\n",
    "    - Verdaderos Positivos\n",
    "    - Falsos Positivos\n",
    "    - Verdaderos Negativos\n",
    "    - Falsos Negativos\n",
    "#### Tanto Falsos positivos como negativos son indeseados. Para el caso particular de este problema, se considera igualmente más riesgoso o se castiga más a modelos con mayor cantidad de falsos positivos, ya que implica un gran riego de inversión indicar que una startup fue exitosa cuando en realidad no lo fue."
   ]
  },
  {
   "cell_type": "code",
   "execution_count": 26,
   "id": "miniature-mercury",
   "metadata": {},
   "outputs": [],
   "source": [
    "from sklearn.metrics import confusion_matrix"
   ]
  },
  {
   "cell_type": "markdown",
   "id": "planned-brass",
   "metadata": {},
   "source": [
    "#### Se determina la matriz de confusión a partir de la comparación entre el vector \"y_test\" y el vector \"y_test_pred_1\"."
   ]
  },
  {
   "cell_type": "code",
   "execution_count": 27,
   "id": "vanilla-syndication",
   "metadata": {},
   "outputs": [
    {
     "data": {
      "text/plain": [
       "array([[ 38,  41],\n",
       "       [ 15, 158]], dtype=int64)"
      ]
     },
     "execution_count": 27,
     "metadata": {},
     "output_type": "execute_result"
    }
   ],
   "source": [
    "CM_1 = confusion_matrix(y_test, y_test_pred_1)\n",
    "CM_1"
   ]
  },
  {
   "cell_type": "markdown",
   "id": "going-midwest",
   "metadata": {},
   "source": [
    "#### Por otro lado, se propone hacer uso de otro algoritmol llamado Random Forest. El mismo es muy similar al Decision Tree Classifier. Difieren en que Random Forest utiliza \"n\" árboles predictores y por lo tanto la predicción final se resuelve por votación y no por el resultado que arroja un único árbol."
   ]
  },
  {
   "cell_type": "code",
   "execution_count": 28,
   "id": "outstanding-encyclopedia",
   "metadata": {},
   "outputs": [],
   "source": [
    "# Importo las librerías necesarias\n",
    "from sklearn.ensemble import RandomForestClassifier"
   ]
  },
  {
   "cell_type": "code",
   "execution_count": 29,
   "id": "confused-olympus",
   "metadata": {},
   "outputs": [
    {
     "data": {
      "text/plain": [
       "RandomForestClassifier(max_depth=5, n_estimators=50, random_state=42)"
      ]
     },
     "execution_count": 29,
     "metadata": {},
     "output_type": "execute_result"
    }
   ],
   "source": [
    "# Creo un modelo Random Forest\n",
    "random_forest = RandomForestClassifier(random_state=42, n_estimators=50, max_depth=5) # Se propone utilizar 50 árboles\n",
    "\n",
    "# Entreno al modelo\n",
    "random_forest.fit(X_train, y_train)"
   ]
  },
  {
   "cell_type": "code",
   "execution_count": 30,
   "id": "computational-dispute",
   "metadata": {},
   "outputs": [],
   "source": [
    "# Realizo una predicción\n",
    "y_train_pred_2 = random_forest.predict(X_train) # Predicción en Train\n",
    "y_test_pred_2 = random_forest.predict(X_test) # Predicción en Test"
   ]
  },
  {
   "cell_type": "code",
   "execution_count": 31,
   "id": "every-congo",
   "metadata": {},
   "outputs": [
    {
     "name": "stdout",
     "output_type": "stream",
     "text": [
      "% de aciertos sobre el set de entrenamiento: 85.0\n",
      "% de aciertos sobre el set de evaluación: 81.0\n"
     ]
    }
   ],
   "source": [
    "# Calculo el accuracy en Train\n",
    "train_accuracy_2 = accuracy_score(y_train, y_train_pred_2)\n",
    "\n",
    "# Calculo el accuracy en Test\n",
    "test_accuracy_2 = accuracy_score(y_test, y_test_pred_2)\n",
    "\n",
    "print('% de aciertos sobre el set de entrenamiento:', round(100*train_accuracy_2, 1))\n",
    "print('% de aciertos sobre el set de evaluación:',round(100*test_accuracy_2, 1))"
   ]
  },
  {
   "cell_type": "markdown",
   "id": "interpreted-class",
   "metadata": {},
   "source": [
    "#### Se calcula nuevamente la matriz de confusión para este nuevo modelo."
   ]
  },
  {
   "cell_type": "code",
   "execution_count": 32,
   "id": "excellent-victim",
   "metadata": {},
   "outputs": [
    {
     "data": {
      "text/plain": [
       "array([[ 38,  41],\n",
       "       [  7, 166]], dtype=int64)"
      ]
     },
     "execution_count": 32,
     "metadata": {},
     "output_type": "execute_result"
    }
   ],
   "source": [
    "CM_2 = confusion_matrix(y_test, y_test_pred_2)\n",
    "CM_2"
   ]
  },
  {
   "cell_type": "markdown",
   "id": "solved-walnut",
   "metadata": {},
   "source": [
    "#### En búsqueda de un mejor modelo, se propone hacer un tuneo de los parametro que caracterizan al modelo de random forest."
   ]
  },
  {
   "cell_type": "code",
   "execution_count": 33,
   "id": "young-radius",
   "metadata": {},
   "outputs": [],
   "source": [
    "from sklearn.model_selection import GridSearchCV"
   ]
  },
  {
   "cell_type": "code",
   "execution_count": 34,
   "id": "collected-article",
   "metadata": {},
   "outputs": [
    {
     "data": {
      "text/plain": [
       "{'bootstrap': True,\n",
       " 'ccp_alpha': 0.0,\n",
       " 'class_weight': None,\n",
       " 'criterion': 'gini',\n",
       " 'max_depth': 5,\n",
       " 'max_features': 'auto',\n",
       " 'max_leaf_nodes': None,\n",
       " 'max_samples': None,\n",
       " 'min_impurity_decrease': 0.0,\n",
       " 'min_impurity_split': None,\n",
       " 'min_samples_leaf': 1,\n",
       " 'min_samples_split': 2,\n",
       " 'min_weight_fraction_leaf': 0.0,\n",
       " 'n_estimators': 50,\n",
       " 'n_jobs': None,\n",
       " 'oob_score': False,\n",
       " 'random_state': 42,\n",
       " 'verbose': 0,\n",
       " 'warm_start': False}"
      ]
     },
     "execution_count": 34,
     "metadata": {},
     "output_type": "execute_result"
    }
   ],
   "source": [
    "random_forest.get_params()"
   ]
  },
  {
   "cell_type": "code",
   "execution_count": 36,
   "id": "outer-generation",
   "metadata": {},
   "outputs": [],
   "source": [
    "# Definicion de los Hyperparámetros\n",
    "param_grid =  {\n",
    "    'bootstrap': [True, False],\n",
    "    'max_depth': [3, 5, 7, 10],\n",
    "    'max_features': ['auto', 'sqrt'],\n",
    "    'min_samples_leaf': [1, 2, 4],\n",
    "    'min_samples_split': [2, 5, 10],\n",
    "    'n_estimators': [25, 50, 75, 100, 200]\n",
    "    }"
   ]
  },
  {
   "cell_type": "code",
   "execution_count": 38,
   "id": "through-conditions",
   "metadata": {},
   "outputs": [],
   "source": [
    "random_forest_tuned = GridSearchCV(random_forest, param_grid=param_grid, cv=5)"
   ]
  },
  {
   "cell_type": "code",
   "execution_count": 39,
   "id": "solved-animal",
   "metadata": {},
   "outputs": [
    {
     "data": {
      "text/plain": [
       "GridSearchCV(cv=5,\n",
       "             estimator=RandomForestClassifier(max_depth=5, n_estimators=50,\n",
       "                                              random_state=42),\n",
       "             param_grid={'bootstrap': [True, False], 'max_depth': [3, 5, 7, 10],\n",
       "                         'max_features': ['auto', 'sqrt'],\n",
       "                         'min_samples_leaf': [1, 2, 4],\n",
       "                         'min_samples_split': [2, 5, 10],\n",
       "                         'n_estimators': [25, 50, 75, 100, 200]})"
      ]
     },
     "execution_count": 39,
     "metadata": {},
     "output_type": "execute_result"
    }
   ],
   "source": [
    "random_forest_tuned.fit(X_train, y_train)"
   ]
  },
  {
   "cell_type": "code",
   "execution_count": 42,
   "id": "common-mining",
   "metadata": {},
   "outputs": [
    {
     "data": {
      "text/plain": [
       "{'bootstrap': True,\n",
       " 'max_depth': 5,\n",
       " 'max_features': 'auto',\n",
       " 'min_samples_leaf': 1,\n",
       " 'min_samples_split': 5,\n",
       " 'n_estimators': 25}"
      ]
     },
     "execution_count": 42,
     "metadata": {},
     "output_type": "execute_result"
    }
   ],
   "source": [
    "# Realizo una predicción\n",
    "random_forest_tuned.best_params_"
   ]
  },
  {
   "cell_type": "markdown",
   "id": "psychological-shepherd",
   "metadata": {},
   "source": [
    "#### Con estos nuevos mejores parámetros se calculan nuevamente las métricas del nuevo modelo mejorado. "
   ]
  },
  {
   "cell_type": "code",
   "execution_count": 50,
   "id": "alive-wallpaper",
   "metadata": {},
   "outputs": [],
   "source": [
    "random_forest_2 = RandomForestClassifier(\n",
    "                    bootstrap=True,\n",
    "                    max_features='auto',\n",
    "                    min_samples_leaf=1,\n",
    "                    random_state=42,\n",
    "                    n_estimators=25,\n",
    "                    max_depth=5,\n",
    "                    min_samples_split=5\n",
    "                                        )"
   ]
  },
  {
   "cell_type": "code",
   "execution_count": 51,
   "id": "administrative-castle",
   "metadata": {},
   "outputs": [
    {
     "data": {
      "text/plain": [
       "RandomForestClassifier(max_depth=5, min_samples_split=5, n_estimators=25,\n",
       "                       random_state=42)"
      ]
     },
     "execution_count": 51,
     "metadata": {},
     "output_type": "execute_result"
    }
   ],
   "source": [
    "random_forest_2.fit(X_train, y_train)"
   ]
  },
  {
   "cell_type": "code",
   "execution_count": 52,
   "id": "requested-snapshot",
   "metadata": {},
   "outputs": [],
   "source": [
    "# Realizo una predicción\n",
    "y_train_pred_3 = random_forest_2.predict(X_train) # Predicción en Train\n",
    "y_test_pred_3 = random_forest_2.predict(X_test) # Predicción en Test"
   ]
  },
  {
   "cell_type": "code",
   "execution_count": 53,
   "id": "sexual-queen",
   "metadata": {},
   "outputs": [
    {
     "name": "stdout",
     "output_type": "stream",
     "text": [
      "% de aciertos sobre el set de entrenamiento: 84.4\n",
      "% de aciertos sobre el set de evaluación: 81.3\n"
     ]
    }
   ],
   "source": [
    "# Calculo el accuracy en Train\n",
    "train_accuracy_3 = accuracy_score(y_train, y_train_pred_3)\n",
    "\n",
    "# Calculo el accuracy en Test\n",
    "test_accuracy_3 = accuracy_score(y_test, y_test_pred_3)\n",
    "\n",
    "print('% de aciertos sobre el set de entrenamiento:', round(100*train_accuracy_3, 1))\n",
    "print('% de aciertos sobre el set de evaluación:',round(100*test_accuracy_3, 1))"
   ]
  },
  {
   "cell_type": "code",
   "execution_count": 55,
   "id": "controlled-salem",
   "metadata": {},
   "outputs": [
    {
     "data": {
      "text/plain": [
       "array([[ 39,  40],\n",
       "       [  7, 166]], dtype=int64)"
      ]
     },
     "execution_count": 55,
     "metadata": {},
     "output_type": "execute_result"
    }
   ],
   "source": [
    "CM_3 = confusion_matrix(y_test, y_test_pred_3)\n",
    "CM_3"
   ]
  },
  {
   "cell_type": "markdown",
   "id": "amber-wright",
   "metadata": {},
   "source": [
    "#### En este caso se disminuyo la cantidad de falsos positivos en una unidad solamente. Invita a pensar que el costo computacional invertido no valio la pena"
   ]
  },
  {
   "cell_type": "markdown",
   "id": "lightweight-cocktail",
   "metadata": {},
   "source": [
    "#### **Algunas conclusiones:**\n",
    "#### - Se propuso realizar predicciones sobre la variable \"status\" con dos algoritmos similares Decision Tree Classifier y Random Forest.\n",
    "#### - Aunque no muy significativos, Random Forest arrojo resultados levemente superiores desde una primera instacia. Resulta interesante de notar, que ambos algoritmos devolvieron la misma cantidad de falsos positivos.\n",
    "#### - Se realizo un hipertuneo de parámetros que buscará maximizar los resultados obtenidos para el algoritmo de random forest. De todos modos, la calidad de los resultados no mejoro significativamente.\n",
    "#### - Es posible, que con otros algoritmos se puedan obtener resultado más certeros y por lo tanto se seguirá investigando en este sentido en próximas entregas. De todas formas, los resultadoshasta aqui obtenidos no dejan de ser buenos ya que se obtuvieron métricas aceptables."
   ]
  }
 ],
 "metadata": {
  "kernelspec": {
   "display_name": "Python 3",
   "language": "python",
   "name": "python3"
  },
  "language_info": {
   "codemirror_mode": {
    "name": "ipython",
    "version": 3
   },
   "file_extension": ".py",
   "mimetype": "text/x-python",
   "name": "python",
   "nbconvert_exporter": "python",
   "pygments_lexer": "ipython3",
   "version": "3.7.7"
  }
 },
 "nbformat": 4,
 "nbformat_minor": 5
}
